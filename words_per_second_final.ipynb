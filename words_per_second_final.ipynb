{
  "metadata": {
    "kernelspec": {
      "display_name": "Python 3",
      "name": "python3"
    },
    "language_info": {
      "name": "python",
      "version": "3.10.13",
      "mimetype": "text/x-python",
      "codemirror_mode": {
        "name": "ipython",
        "version": 3
      },
      "pygments_lexer": "ipython3",
      "nbconvert_exporter": "python",
      "file_extension": ".py"
    },
    "kaggle": {
      "accelerator": "nvidiaTeslaT4",
      "dataSources": [
        {
          "sourceId": 91052,
          "sourceType": "modelInstanceVersion",
          "isSourceIdPinned": true,
          "modelInstanceId": 76330,
          "modelId": 101015
        }
      ],
      "dockerImageVersionId": 30747,
      "isInternetEnabled": true,
      "language": "python",
      "sourceType": "notebook",
      "isGpuEnabled": true
    },
    "colab": {
      "provenance": [],
      "machine_shape": "hm",
      "gpuType": "T4"
    },
    "accelerator": "GPU",
    "widgets": {
      "application/vnd.jupyter.widget-state+json": {
        "c4f3f646744c4dcdb6e22fc0d40006df": {
          "model_module": "@jupyter-widgets/controls",
          "model_name": "HBoxModel",
          "model_module_version": "1.5.0",
          "state": {
            "_dom_classes": [],
            "_model_module": "@jupyter-widgets/controls",
            "_model_module_version": "1.5.0",
            "_model_name": "HBoxModel",
            "_view_count": null,
            "_view_module": "@jupyter-widgets/controls",
            "_view_module_version": "1.5.0",
            "_view_name": "HBoxView",
            "box_style": "",
            "children": [
              "IPY_MODEL_525284eafbdc4d9e8623f9a344fbcff8",
              "IPY_MODEL_ca9fe83f60534330a38462519c934839",
              "IPY_MODEL_c2e9e21fc74b40289c4dd44d2439f625"
            ],
            "layout": "IPY_MODEL_4a3a100449e2451eb8894a856338e3f5"
          }
        },
        "525284eafbdc4d9e8623f9a344fbcff8": {
          "model_module": "@jupyter-widgets/controls",
          "model_name": "HTMLModel",
          "model_module_version": "1.5.0",
          "state": {
            "_dom_classes": [],
            "_model_module": "@jupyter-widgets/controls",
            "_model_module_version": "1.5.0",
            "_model_name": "HTMLModel",
            "_view_count": null,
            "_view_module": "@jupyter-widgets/controls",
            "_view_module_version": "1.5.0",
            "_view_name": "HTMLView",
            "description": "",
            "description_tooltip": null,
            "layout": "IPY_MODEL_a468d1e9b7be4397a62de66d3737fc36",
            "placeholder": "​",
            "style": "IPY_MODEL_c5a25a49ca6d44fd9c568f64295dfd84",
            "value": "Downloading builder script: 100%"
          }
        },
        "ca9fe83f60534330a38462519c934839": {
          "model_module": "@jupyter-widgets/controls",
          "model_name": "FloatProgressModel",
          "model_module_version": "1.5.0",
          "state": {
            "_dom_classes": [],
            "_model_module": "@jupyter-widgets/controls",
            "_model_module_version": "1.5.0",
            "_model_name": "FloatProgressModel",
            "_view_count": null,
            "_view_module": "@jupyter-widgets/controls",
            "_view_module_version": "1.5.0",
            "_view_name": "ProgressView",
            "bar_style": "success",
            "description": "",
            "description_tooltip": null,
            "layout": "IPY_MODEL_80347538067c48f68594e3acac199d43",
            "max": 12871,
            "min": 0,
            "orientation": "horizontal",
            "style": "IPY_MODEL_64372c46b9654318a22a4f856a876751",
            "value": 12871
          }
        },
        "c2e9e21fc74b40289c4dd44d2439f625": {
          "model_module": "@jupyter-widgets/controls",
          "model_name": "HTMLModel",
          "model_module_version": "1.5.0",
          "state": {
            "_dom_classes": [],
            "_model_module": "@jupyter-widgets/controls",
            "_model_module_version": "1.5.0",
            "_model_name": "HTMLModel",
            "_view_count": null,
            "_view_module": "@jupyter-widgets/controls",
            "_view_module_version": "1.5.0",
            "_view_name": "HTMLView",
            "description": "",
            "description_tooltip": null,
            "layout": "IPY_MODEL_03f2939666a44943a6bea6d39356536f",
            "placeholder": "​",
            "style": "IPY_MODEL_bf4aaf07e03b4f7ca79464a624d33acb",
            "value": " 12.9k/12.9k [00:00&lt;00:00, 980kB/s]"
          }
        },
        "4a3a100449e2451eb8894a856338e3f5": {
          "model_module": "@jupyter-widgets/base",
          "model_name": "LayoutModel",
          "model_module_version": "1.2.0",
          "state": {
            "_model_module": "@jupyter-widgets/base",
            "_model_module_version": "1.2.0",
            "_model_name": "LayoutModel",
            "_view_count": null,
            "_view_module": "@jupyter-widgets/base",
            "_view_module_version": "1.2.0",
            "_view_name": "LayoutView",
            "align_content": null,
            "align_items": null,
            "align_self": null,
            "border": null,
            "bottom": null,
            "display": null,
            "flex": null,
            "flex_flow": null,
            "grid_area": null,
            "grid_auto_columns": null,
            "grid_auto_flow": null,
            "grid_auto_rows": null,
            "grid_column": null,
            "grid_gap": null,
            "grid_row": null,
            "grid_template_areas": null,
            "grid_template_columns": null,
            "grid_template_rows": null,
            "height": null,
            "justify_content": null,
            "justify_items": null,
            "left": null,
            "margin": null,
            "max_height": null,
            "max_width": null,
            "min_height": null,
            "min_width": null,
            "object_fit": null,
            "object_position": null,
            "order": null,
            "overflow": null,
            "overflow_x": null,
            "overflow_y": null,
            "padding": null,
            "right": null,
            "top": null,
            "visibility": null,
            "width": null
          }
        },
        "a468d1e9b7be4397a62de66d3737fc36": {
          "model_module": "@jupyter-widgets/base",
          "model_name": "LayoutModel",
          "model_module_version": "1.2.0",
          "state": {
            "_model_module": "@jupyter-widgets/base",
            "_model_module_version": "1.2.0",
            "_model_name": "LayoutModel",
            "_view_count": null,
            "_view_module": "@jupyter-widgets/base",
            "_view_module_version": "1.2.0",
            "_view_name": "LayoutView",
            "align_content": null,
            "align_items": null,
            "align_self": null,
            "border": null,
            "bottom": null,
            "display": null,
            "flex": null,
            "flex_flow": null,
            "grid_area": null,
            "grid_auto_columns": null,
            "grid_auto_flow": null,
            "grid_auto_rows": null,
            "grid_column": null,
            "grid_gap": null,
            "grid_row": null,
            "grid_template_areas": null,
            "grid_template_columns": null,
            "grid_template_rows": null,
            "height": null,
            "justify_content": null,
            "justify_items": null,
            "left": null,
            "margin": null,
            "max_height": null,
            "max_width": null,
            "min_height": null,
            "min_width": null,
            "object_fit": null,
            "object_position": null,
            "order": null,
            "overflow": null,
            "overflow_x": null,
            "overflow_y": null,
            "padding": null,
            "right": null,
            "top": null,
            "visibility": null,
            "width": null
          }
        },
        "c5a25a49ca6d44fd9c568f64295dfd84": {
          "model_module": "@jupyter-widgets/controls",
          "model_name": "DescriptionStyleModel",
          "model_module_version": "1.5.0",
          "state": {
            "_model_module": "@jupyter-widgets/controls",
            "_model_module_version": "1.5.0",
            "_model_name": "DescriptionStyleModel",
            "_view_count": null,
            "_view_module": "@jupyter-widgets/base",
            "_view_module_version": "1.2.0",
            "_view_name": "StyleView",
            "description_width": ""
          }
        },
        "80347538067c48f68594e3acac199d43": {
          "model_module": "@jupyter-widgets/base",
          "model_name": "LayoutModel",
          "model_module_version": "1.2.0",
          "state": {
            "_model_module": "@jupyter-widgets/base",
            "_model_module_version": "1.2.0",
            "_model_name": "LayoutModel",
            "_view_count": null,
            "_view_module": "@jupyter-widgets/base",
            "_view_module_version": "1.2.0",
            "_view_name": "LayoutView",
            "align_content": null,
            "align_items": null,
            "align_self": null,
            "border": null,
            "bottom": null,
            "display": null,
            "flex": null,
            "flex_flow": null,
            "grid_area": null,
            "grid_auto_columns": null,
            "grid_auto_flow": null,
            "grid_auto_rows": null,
            "grid_column": null,
            "grid_gap": null,
            "grid_row": null,
            "grid_template_areas": null,
            "grid_template_columns": null,
            "grid_template_rows": null,
            "height": null,
            "justify_content": null,
            "justify_items": null,
            "left": null,
            "margin": null,
            "max_height": null,
            "max_width": null,
            "min_height": null,
            "min_width": null,
            "object_fit": null,
            "object_position": null,
            "order": null,
            "overflow": null,
            "overflow_x": null,
            "overflow_y": null,
            "padding": null,
            "right": null,
            "top": null,
            "visibility": null,
            "width": null
          }
        },
        "64372c46b9654318a22a4f856a876751": {
          "model_module": "@jupyter-widgets/controls",
          "model_name": "ProgressStyleModel",
          "model_module_version": "1.5.0",
          "state": {
            "_model_module": "@jupyter-widgets/controls",
            "_model_module_version": "1.5.0",
            "_model_name": "ProgressStyleModel",
            "_view_count": null,
            "_view_module": "@jupyter-widgets/base",
            "_view_module_version": "1.2.0",
            "_view_name": "StyleView",
            "bar_color": null,
            "description_width": ""
          }
        },
        "03f2939666a44943a6bea6d39356536f": {
          "model_module": "@jupyter-widgets/base",
          "model_name": "LayoutModel",
          "model_module_version": "1.2.0",
          "state": {
            "_model_module": "@jupyter-widgets/base",
            "_model_module_version": "1.2.0",
            "_model_name": "LayoutModel",
            "_view_count": null,
            "_view_module": "@jupyter-widgets/base",
            "_view_module_version": "1.2.0",
            "_view_name": "LayoutView",
            "align_content": null,
            "align_items": null,
            "align_self": null,
            "border": null,
            "bottom": null,
            "display": null,
            "flex": null,
            "flex_flow": null,
            "grid_area": null,
            "grid_auto_columns": null,
            "grid_auto_flow": null,
            "grid_auto_rows": null,
            "grid_column": null,
            "grid_gap": null,
            "grid_row": null,
            "grid_template_areas": null,
            "grid_template_columns": null,
            "grid_template_rows": null,
            "height": null,
            "justify_content": null,
            "justify_items": null,
            "left": null,
            "margin": null,
            "max_height": null,
            "max_width": null,
            "min_height": null,
            "min_width": null,
            "object_fit": null,
            "object_position": null,
            "order": null,
            "overflow": null,
            "overflow_x": null,
            "overflow_y": null,
            "padding": null,
            "right": null,
            "top": null,
            "visibility": null,
            "width": null
          }
        },
        "bf4aaf07e03b4f7ca79464a624d33acb": {
          "model_module": "@jupyter-widgets/controls",
          "model_name": "DescriptionStyleModel",
          "model_module_version": "1.5.0",
          "state": {
            "_model_module": "@jupyter-widgets/controls",
            "_model_module_version": "1.5.0",
            "_model_name": "DescriptionStyleModel",
            "_view_count": null,
            "_view_module": "@jupyter-widgets/base",
            "_view_module_version": "1.2.0",
            "_view_name": "StyleView",
            "description_width": ""
          }
        },
        "da6678260eb646ffbc5ffd4f3761ac9f": {
          "model_module": "@jupyter-widgets/controls",
          "model_name": "HBoxModel",
          "model_module_version": "1.5.0",
          "state": {
            "_dom_classes": [],
            "_model_module": "@jupyter-widgets/controls",
            "_model_module_version": "1.5.0",
            "_model_name": "HBoxModel",
            "_view_count": null,
            "_view_module": "@jupyter-widgets/controls",
            "_view_module_version": "1.5.0",
            "_view_name": "HBoxView",
            "box_style": "",
            "children": [
              "IPY_MODEL_c689f5290c014ad7baed1c3184f4a55b",
              "IPY_MODEL_416f15ff819344cfa45bf08cfb31fa0d",
              "IPY_MODEL_f0d87bb3588743278ed4ba91ad4c13ca"
            ],
            "layout": "IPY_MODEL_a6f70c5b43984760819de1d3eea12d90"
          }
        },
        "c689f5290c014ad7baed1c3184f4a55b": {
          "model_module": "@jupyter-widgets/controls",
          "model_name": "HTMLModel",
          "model_module_version": "1.5.0",
          "state": {
            "_dom_classes": [],
            "_model_module": "@jupyter-widgets/controls",
            "_model_module_version": "1.5.0",
            "_model_name": "HTMLModel",
            "_view_count": null,
            "_view_module": "@jupyter-widgets/controls",
            "_view_module_version": "1.5.0",
            "_view_name": "HTMLView",
            "description": "",
            "description_tooltip": null,
            "layout": "IPY_MODEL_bbbb87f1a3d6459682161bac3f124751",
            "placeholder": "​",
            "style": "IPY_MODEL_f36047415150499e9edeb49521c91dd2",
            "value": "Downloading readme: 100%"
          }
        },
        "416f15ff819344cfa45bf08cfb31fa0d": {
          "model_module": "@jupyter-widgets/controls",
          "model_name": "FloatProgressModel",
          "model_module_version": "1.5.0",
          "state": {
            "_dom_classes": [],
            "_model_module": "@jupyter-widgets/controls",
            "_model_module_version": "1.5.0",
            "_model_name": "FloatProgressModel",
            "_view_count": null,
            "_view_module": "@jupyter-widgets/controls",
            "_view_module_version": "1.5.0",
            "_view_name": "ProgressView",
            "bar_style": "success",
            "description": "",
            "description_tooltip": null,
            "layout": "IPY_MODEL_81f4264758dc47a78528994ca070c156",
            "max": 5790,
            "min": 0,
            "orientation": "horizontal",
            "style": "IPY_MODEL_f9b085d7f2ac4146a1f7480bb7b96777",
            "value": 5790
          }
        },
        "f0d87bb3588743278ed4ba91ad4c13ca": {
          "model_module": "@jupyter-widgets/controls",
          "model_name": "HTMLModel",
          "model_module_version": "1.5.0",
          "state": {
            "_dom_classes": [],
            "_model_module": "@jupyter-widgets/controls",
            "_model_module_version": "1.5.0",
            "_model_name": "HTMLModel",
            "_view_count": null,
            "_view_module": "@jupyter-widgets/controls",
            "_view_module_version": "1.5.0",
            "_view_name": "HTMLView",
            "description": "",
            "description_tooltip": null,
            "layout": "IPY_MODEL_839d0ca5222941729ea20d74ed1ad29f",
            "placeholder": "​",
            "style": "IPY_MODEL_b04f38576cda408690eb1c6b0a8341f3",
            "value": " 5.79k/5.79k [00:00&lt;00:00, 483kB/s]"
          }
        },
        "a6f70c5b43984760819de1d3eea12d90": {
          "model_module": "@jupyter-widgets/base",
          "model_name": "LayoutModel",
          "model_module_version": "1.2.0",
          "state": {
            "_model_module": "@jupyter-widgets/base",
            "_model_module_version": "1.2.0",
            "_model_name": "LayoutModel",
            "_view_count": null,
            "_view_module": "@jupyter-widgets/base",
            "_view_module_version": "1.2.0",
            "_view_name": "LayoutView",
            "align_content": null,
            "align_items": null,
            "align_self": null,
            "border": null,
            "bottom": null,
            "display": null,
            "flex": null,
            "flex_flow": null,
            "grid_area": null,
            "grid_auto_columns": null,
            "grid_auto_flow": null,
            "grid_auto_rows": null,
            "grid_column": null,
            "grid_gap": null,
            "grid_row": null,
            "grid_template_areas": null,
            "grid_template_columns": null,
            "grid_template_rows": null,
            "height": null,
            "justify_content": null,
            "justify_items": null,
            "left": null,
            "margin": null,
            "max_height": null,
            "max_width": null,
            "min_height": null,
            "min_width": null,
            "object_fit": null,
            "object_position": null,
            "order": null,
            "overflow": null,
            "overflow_x": null,
            "overflow_y": null,
            "padding": null,
            "right": null,
            "top": null,
            "visibility": null,
            "width": null
          }
        },
        "bbbb87f1a3d6459682161bac3f124751": {
          "model_module": "@jupyter-widgets/base",
          "model_name": "LayoutModel",
          "model_module_version": "1.2.0",
          "state": {
            "_model_module": "@jupyter-widgets/base",
            "_model_module_version": "1.2.0",
            "_model_name": "LayoutModel",
            "_view_count": null,
            "_view_module": "@jupyter-widgets/base",
            "_view_module_version": "1.2.0",
            "_view_name": "LayoutView",
            "align_content": null,
            "align_items": null,
            "align_self": null,
            "border": null,
            "bottom": null,
            "display": null,
            "flex": null,
            "flex_flow": null,
            "grid_area": null,
            "grid_auto_columns": null,
            "grid_auto_flow": null,
            "grid_auto_rows": null,
            "grid_column": null,
            "grid_gap": null,
            "grid_row": null,
            "grid_template_areas": null,
            "grid_template_columns": null,
            "grid_template_rows": null,
            "height": null,
            "justify_content": null,
            "justify_items": null,
            "left": null,
            "margin": null,
            "max_height": null,
            "max_width": null,
            "min_height": null,
            "min_width": null,
            "object_fit": null,
            "object_position": null,
            "order": null,
            "overflow": null,
            "overflow_x": null,
            "overflow_y": null,
            "padding": null,
            "right": null,
            "top": null,
            "visibility": null,
            "width": null
          }
        },
        "f36047415150499e9edeb49521c91dd2": {
          "model_module": "@jupyter-widgets/controls",
          "model_name": "DescriptionStyleModel",
          "model_module_version": "1.5.0",
          "state": {
            "_model_module": "@jupyter-widgets/controls",
            "_model_module_version": "1.5.0",
            "_model_name": "DescriptionStyleModel",
            "_view_count": null,
            "_view_module": "@jupyter-widgets/base",
            "_view_module_version": "1.2.0",
            "_view_name": "StyleView",
            "description_width": ""
          }
        },
        "81f4264758dc47a78528994ca070c156": {
          "model_module": "@jupyter-widgets/base",
          "model_name": "LayoutModel",
          "model_module_version": "1.2.0",
          "state": {
            "_model_module": "@jupyter-widgets/base",
            "_model_module_version": "1.2.0",
            "_model_name": "LayoutModel",
            "_view_count": null,
            "_view_module": "@jupyter-widgets/base",
            "_view_module_version": "1.2.0",
            "_view_name": "LayoutView",
            "align_content": null,
            "align_items": null,
            "align_self": null,
            "border": null,
            "bottom": null,
            "display": null,
            "flex": null,
            "flex_flow": null,
            "grid_area": null,
            "grid_auto_columns": null,
            "grid_auto_flow": null,
            "grid_auto_rows": null,
            "grid_column": null,
            "grid_gap": null,
            "grid_row": null,
            "grid_template_areas": null,
            "grid_template_columns": null,
            "grid_template_rows": null,
            "height": null,
            "justify_content": null,
            "justify_items": null,
            "left": null,
            "margin": null,
            "max_height": null,
            "max_width": null,
            "min_height": null,
            "min_width": null,
            "object_fit": null,
            "object_position": null,
            "order": null,
            "overflow": null,
            "overflow_x": null,
            "overflow_y": null,
            "padding": null,
            "right": null,
            "top": null,
            "visibility": null,
            "width": null
          }
        },
        "f9b085d7f2ac4146a1f7480bb7b96777": {
          "model_module": "@jupyter-widgets/controls",
          "model_name": "ProgressStyleModel",
          "model_module_version": "1.5.0",
          "state": {
            "_model_module": "@jupyter-widgets/controls",
            "_model_module_version": "1.5.0",
            "_model_name": "ProgressStyleModel",
            "_view_count": null,
            "_view_module": "@jupyter-widgets/base",
            "_view_module_version": "1.2.0",
            "_view_name": "StyleView",
            "bar_color": null,
            "description_width": ""
          }
        },
        "839d0ca5222941729ea20d74ed1ad29f": {
          "model_module": "@jupyter-widgets/base",
          "model_name": "LayoutModel",
          "model_module_version": "1.2.0",
          "state": {
            "_model_module": "@jupyter-widgets/base",
            "_model_module_version": "1.2.0",
            "_model_name": "LayoutModel",
            "_view_count": null,
            "_view_module": "@jupyter-widgets/base",
            "_view_module_version": "1.2.0",
            "_view_name": "LayoutView",
            "align_content": null,
            "align_items": null,
            "align_self": null,
            "border": null,
            "bottom": null,
            "display": null,
            "flex": null,
            "flex_flow": null,
            "grid_area": null,
            "grid_auto_columns": null,
            "grid_auto_flow": null,
            "grid_auto_rows": null,
            "grid_column": null,
            "grid_gap": null,
            "grid_row": null,
            "grid_template_areas": null,
            "grid_template_columns": null,
            "grid_template_rows": null,
            "height": null,
            "justify_content": null,
            "justify_items": null,
            "left": null,
            "margin": null,
            "max_height": null,
            "max_width": null,
            "min_height": null,
            "min_width": null,
            "object_fit": null,
            "object_position": null,
            "order": null,
            "overflow": null,
            "overflow_x": null,
            "overflow_y": null,
            "padding": null,
            "right": null,
            "top": null,
            "visibility": null,
            "width": null
          }
        },
        "b04f38576cda408690eb1c6b0a8341f3": {
          "model_module": "@jupyter-widgets/controls",
          "model_name": "DescriptionStyleModel",
          "model_module_version": "1.5.0",
          "state": {
            "_model_module": "@jupyter-widgets/controls",
            "_model_module_version": "1.5.0",
            "_model_name": "DescriptionStyleModel",
            "_view_count": null,
            "_view_module": "@jupyter-widgets/base",
            "_view_module_version": "1.2.0",
            "_view_name": "StyleView",
            "description_width": ""
          }
        },
        "6122b65ea96d4a64b2f5f155355f377f": {
          "model_module": "@jupyter-widgets/controls",
          "model_name": "HBoxModel",
          "model_module_version": "1.5.0",
          "state": {
            "_dom_classes": [],
            "_model_module": "@jupyter-widgets/controls",
            "_model_module_version": "1.5.0",
            "_model_name": "HBoxModel",
            "_view_count": null,
            "_view_module": "@jupyter-widgets/controls",
            "_view_module_version": "1.5.0",
            "_view_name": "HBoxView",
            "box_style": "",
            "children": [
              "IPY_MODEL_63e72424e8f94fd7b2a4e1436adc0020",
              "IPY_MODEL_752474e929784f079aed647c8e34d7be",
              "IPY_MODEL_0bcd317d8b2c4598837082d70b91cb26"
            ],
            "layout": "IPY_MODEL_da8eb67df69249c3b2da148922737006"
          }
        },
        "63e72424e8f94fd7b2a4e1436adc0020": {
          "model_module": "@jupyter-widgets/controls",
          "model_name": "HTMLModel",
          "model_module_version": "1.5.0",
          "state": {
            "_dom_classes": [],
            "_model_module": "@jupyter-widgets/controls",
            "_model_module_version": "1.5.0",
            "_model_name": "HTMLModel",
            "_view_count": null,
            "_view_module": "@jupyter-widgets/controls",
            "_view_module_version": "1.5.0",
            "_view_name": "HTMLView",
            "description": "",
            "description_tooltip": null,
            "layout": "IPY_MODEL_3375943de6d84d75803704b1c63380b6",
            "placeholder": "​",
            "style": "IPY_MODEL_013c3f6260824725b96439226cac9f05",
            "value": "Downloading data: 100%"
          }
        },
        "752474e929784f079aed647c8e34d7be": {
          "model_module": "@jupyter-widgets/controls",
          "model_name": "FloatProgressModel",
          "model_module_version": "1.5.0",
          "state": {
            "_dom_classes": [],
            "_model_module": "@jupyter-widgets/controls",
            "_model_module_version": "1.5.0",
            "_model_name": "FloatProgressModel",
            "_view_count": null,
            "_view_module": "@jupyter-widgets/controls",
            "_view_module_version": "1.5.0",
            "_view_name": "ProgressView",
            "bar_style": "success",
            "description": "",
            "description_tooltip": null,
            "layout": "IPY_MODEL_2baf1b626e994cf3822523be49c43211",
            "max": 137,
            "min": 0,
            "orientation": "horizontal",
            "style": "IPY_MODEL_e4b90630e42d4cbe951d9e34aa475873",
            "value": 137
          }
        },
        "0bcd317d8b2c4598837082d70b91cb26": {
          "model_module": "@jupyter-widgets/controls",
          "model_name": "HTMLModel",
          "model_module_version": "1.5.0",
          "state": {
            "_dom_classes": [],
            "_model_module": "@jupyter-widgets/controls",
            "_model_module_version": "1.5.0",
            "_model_name": "HTMLModel",
            "_view_count": null,
            "_view_module": "@jupyter-widgets/controls",
            "_view_module_version": "1.5.0",
            "_view_name": "HTMLView",
            "description": "",
            "description_tooltip": null,
            "layout": "IPY_MODEL_4c07646f311748cbbde9304321df66cb",
            "placeholder": "​",
            "style": "IPY_MODEL_5f1dbef1a749418a848a25fbe5a5f524",
            "value": " 137/137 [02:39&lt;00:00,  1.50s/files]"
          }
        },
        "da8eb67df69249c3b2da148922737006": {
          "model_module": "@jupyter-widgets/base",
          "model_name": "LayoutModel",
          "model_module_version": "1.2.0",
          "state": {
            "_model_module": "@jupyter-widgets/base",
            "_model_module_version": "1.2.0",
            "_model_name": "LayoutModel",
            "_view_count": null,
            "_view_module": "@jupyter-widgets/base",
            "_view_module_version": "1.2.0",
            "_view_name": "LayoutView",
            "align_content": null,
            "align_items": null,
            "align_self": null,
            "border": null,
            "bottom": null,
            "display": null,
            "flex": null,
            "flex_flow": null,
            "grid_area": null,
            "grid_auto_columns": null,
            "grid_auto_flow": null,
            "grid_auto_rows": null,
            "grid_column": null,
            "grid_gap": null,
            "grid_row": null,
            "grid_template_areas": null,
            "grid_template_columns": null,
            "grid_template_rows": null,
            "height": null,
            "justify_content": null,
            "justify_items": null,
            "left": null,
            "margin": null,
            "max_height": null,
            "max_width": null,
            "min_height": null,
            "min_width": null,
            "object_fit": null,
            "object_position": null,
            "order": null,
            "overflow": null,
            "overflow_x": null,
            "overflow_y": null,
            "padding": null,
            "right": null,
            "top": null,
            "visibility": null,
            "width": null
          }
        },
        "3375943de6d84d75803704b1c63380b6": {
          "model_module": "@jupyter-widgets/base",
          "model_name": "LayoutModel",
          "model_module_version": "1.2.0",
          "state": {
            "_model_module": "@jupyter-widgets/base",
            "_model_module_version": "1.2.0",
            "_model_name": "LayoutModel",
            "_view_count": null,
            "_view_module": "@jupyter-widgets/base",
            "_view_module_version": "1.2.0",
            "_view_name": "LayoutView",
            "align_content": null,
            "align_items": null,
            "align_self": null,
            "border": null,
            "bottom": null,
            "display": null,
            "flex": null,
            "flex_flow": null,
            "grid_area": null,
            "grid_auto_columns": null,
            "grid_auto_flow": null,
            "grid_auto_rows": null,
            "grid_column": null,
            "grid_gap": null,
            "grid_row": null,
            "grid_template_areas": null,
            "grid_template_columns": null,
            "grid_template_rows": null,
            "height": null,
            "justify_content": null,
            "justify_items": null,
            "left": null,
            "margin": null,
            "max_height": null,
            "max_width": null,
            "min_height": null,
            "min_width": null,
            "object_fit": null,
            "object_position": null,
            "order": null,
            "overflow": null,
            "overflow_x": null,
            "overflow_y": null,
            "padding": null,
            "right": null,
            "top": null,
            "visibility": null,
            "width": null
          }
        },
        "013c3f6260824725b96439226cac9f05": {
          "model_module": "@jupyter-widgets/controls",
          "model_name": "DescriptionStyleModel",
          "model_module_version": "1.5.0",
          "state": {
            "_model_module": "@jupyter-widgets/controls",
            "_model_module_version": "1.5.0",
            "_model_name": "DescriptionStyleModel",
            "_view_count": null,
            "_view_module": "@jupyter-widgets/base",
            "_view_module_version": "1.2.0",
            "_view_name": "StyleView",
            "description_width": ""
          }
        },
        "2baf1b626e994cf3822523be49c43211": {
          "model_module": "@jupyter-widgets/base",
          "model_name": "LayoutModel",
          "model_module_version": "1.2.0",
          "state": {
            "_model_module": "@jupyter-widgets/base",
            "_model_module_version": "1.2.0",
            "_model_name": "LayoutModel",
            "_view_count": null,
            "_view_module": "@jupyter-widgets/base",
            "_view_module_version": "1.2.0",
            "_view_name": "LayoutView",
            "align_content": null,
            "align_items": null,
            "align_self": null,
            "border": null,
            "bottom": null,
            "display": null,
            "flex": null,
            "flex_flow": null,
            "grid_area": null,
            "grid_auto_columns": null,
            "grid_auto_flow": null,
            "grid_auto_rows": null,
            "grid_column": null,
            "grid_gap": null,
            "grid_row": null,
            "grid_template_areas": null,
            "grid_template_columns": null,
            "grid_template_rows": null,
            "height": null,
            "justify_content": null,
            "justify_items": null,
            "left": null,
            "margin": null,
            "max_height": null,
            "max_width": null,
            "min_height": null,
            "min_width": null,
            "object_fit": null,
            "object_position": null,
            "order": null,
            "overflow": null,
            "overflow_x": null,
            "overflow_y": null,
            "padding": null,
            "right": null,
            "top": null,
            "visibility": null,
            "width": null
          }
        },
        "e4b90630e42d4cbe951d9e34aa475873": {
          "model_module": "@jupyter-widgets/controls",
          "model_name": "ProgressStyleModel",
          "model_module_version": "1.5.0",
          "state": {
            "_model_module": "@jupyter-widgets/controls",
            "_model_module_version": "1.5.0",
            "_model_name": "ProgressStyleModel",
            "_view_count": null,
            "_view_module": "@jupyter-widgets/base",
            "_view_module_version": "1.2.0",
            "_view_name": "StyleView",
            "bar_color": null,
            "description_width": ""
          }
        },
        "4c07646f311748cbbde9304321df66cb": {
          "model_module": "@jupyter-widgets/base",
          "model_name": "LayoutModel",
          "model_module_version": "1.2.0",
          "state": {
            "_model_module": "@jupyter-widgets/base",
            "_model_module_version": "1.2.0",
            "_model_name": "LayoutModel",
            "_view_count": null,
            "_view_module": "@jupyter-widgets/base",
            "_view_module_version": "1.2.0",
            "_view_name": "LayoutView",
            "align_content": null,
            "align_items": null,
            "align_self": null,
            "border": null,
            "bottom": null,
            "display": null,
            "flex": null,
            "flex_flow": null,
            "grid_area": null,
            "grid_auto_columns": null,
            "grid_auto_flow": null,
            "grid_auto_rows": null,
            "grid_column": null,
            "grid_gap": null,
            "grid_row": null,
            "grid_template_areas": null,
            "grid_template_columns": null,
            "grid_template_rows": null,
            "height": null,
            "justify_content": null,
            "justify_items": null,
            "left": null,
            "margin": null,
            "max_height": null,
            "max_width": null,
            "min_height": null,
            "min_width": null,
            "object_fit": null,
            "object_position": null,
            "order": null,
            "overflow": null,
            "overflow_x": null,
            "overflow_y": null,
            "padding": null,
            "right": null,
            "top": null,
            "visibility": null,
            "width": null
          }
        },
        "5f1dbef1a749418a848a25fbe5a5f524": {
          "model_module": "@jupyter-widgets/controls",
          "model_name": "DescriptionStyleModel",
          "model_module_version": "1.5.0",
          "state": {
            "_model_module": "@jupyter-widgets/controls",
            "_model_module_version": "1.5.0",
            "_model_name": "DescriptionStyleModel",
            "_view_count": null,
            "_view_module": "@jupyter-widgets/base",
            "_view_module_version": "1.2.0",
            "_view_name": "StyleView",
            "description_width": ""
          }
        },
        "c16c3ea2bf2d4ce1978aa4abb60adf14": {
          "model_module": "@jupyter-widgets/controls",
          "model_name": "HBoxModel",
          "model_module_version": "1.5.0",
          "state": {
            "_dom_classes": [],
            "_model_module": "@jupyter-widgets/controls",
            "_model_module_version": "1.5.0",
            "_model_name": "HBoxModel",
            "_view_count": null,
            "_view_module": "@jupyter-widgets/controls",
            "_view_module_version": "1.5.0",
            "_view_name": "HBoxView",
            "box_style": "",
            "children": [
              "IPY_MODEL_4ad21ceaf7ed46e7b5f472f72b9c0f04",
              "IPY_MODEL_2e7901b92132400ea4adbee51a871986",
              "IPY_MODEL_c663c487eff34c749a6395d7954bd5cb"
            ],
            "layout": "IPY_MODEL_17d86e58e0f4440dabb5000e9e865510"
          }
        },
        "4ad21ceaf7ed46e7b5f472f72b9c0f04": {
          "model_module": "@jupyter-widgets/controls",
          "model_name": "HTMLModel",
          "model_module_version": "1.5.0",
          "state": {
            "_dom_classes": [],
            "_model_module": "@jupyter-widgets/controls",
            "_model_module_version": "1.5.0",
            "_model_name": "HTMLModel",
            "_view_count": null,
            "_view_module": "@jupyter-widgets/controls",
            "_view_module_version": "1.5.0",
            "_view_name": "HTMLView",
            "description": "",
            "description_tooltip": null,
            "layout": "IPY_MODEL_0f394fa28007430fbd3e1f30cefc24d7",
            "placeholder": "​",
            "style": "IPY_MODEL_2fd4f6f53caf48c88bfbe42695f26f03",
            "value": "Downloading data: 100%"
          }
        },
        "2e7901b92132400ea4adbee51a871986": {
          "model_module": "@jupyter-widgets/controls",
          "model_name": "FloatProgressModel",
          "model_module_version": "1.5.0",
          "state": {
            "_dom_classes": [],
            "_model_module": "@jupyter-widgets/controls",
            "_model_module_version": "1.5.0",
            "_model_name": "FloatProgressModel",
            "_view_count": null,
            "_view_module": "@jupyter-widgets/controls",
            "_view_module_version": "1.5.0",
            "_view_name": "ProgressView",
            "bar_style": "success",
            "description": "",
            "description_tooltip": null,
            "layout": "IPY_MODEL_8faad9fffcc042309cda744c4481d0a0",
            "max": 18,
            "min": 0,
            "orientation": "horizontal",
            "style": "IPY_MODEL_a07f392e96c24d2c995beed61a7e4725",
            "value": 18
          }
        },
        "c663c487eff34c749a6395d7954bd5cb": {
          "model_module": "@jupyter-widgets/controls",
          "model_name": "HTMLModel",
          "model_module_version": "1.5.0",
          "state": {
            "_dom_classes": [],
            "_model_module": "@jupyter-widgets/controls",
            "_model_module_version": "1.5.0",
            "_model_name": "HTMLModel",
            "_view_count": null,
            "_view_module": "@jupyter-widgets/controls",
            "_view_module_version": "1.5.0",
            "_view_name": "HTMLView",
            "description": "",
            "description_tooltip": null,
            "layout": "IPY_MODEL_896c2395d2d846fea8c6006549466459",
            "placeholder": "​",
            "style": "IPY_MODEL_8fe49338f1c7430085e61d17dba362e0",
            "value": " 18/18 [00:19&lt;00:00,  2.96s/files]"
          }
        },
        "17d86e58e0f4440dabb5000e9e865510": {
          "model_module": "@jupyter-widgets/base",
          "model_name": "LayoutModel",
          "model_module_version": "1.2.0",
          "state": {
            "_model_module": "@jupyter-widgets/base",
            "_model_module_version": "1.2.0",
            "_model_name": "LayoutModel",
            "_view_count": null,
            "_view_module": "@jupyter-widgets/base",
            "_view_module_version": "1.2.0",
            "_view_name": "LayoutView",
            "align_content": null,
            "align_items": null,
            "align_self": null,
            "border": null,
            "bottom": null,
            "display": null,
            "flex": null,
            "flex_flow": null,
            "grid_area": null,
            "grid_auto_columns": null,
            "grid_auto_flow": null,
            "grid_auto_rows": null,
            "grid_column": null,
            "grid_gap": null,
            "grid_row": null,
            "grid_template_areas": null,
            "grid_template_columns": null,
            "grid_template_rows": null,
            "height": null,
            "justify_content": null,
            "justify_items": null,
            "left": null,
            "margin": null,
            "max_height": null,
            "max_width": null,
            "min_height": null,
            "min_width": null,
            "object_fit": null,
            "object_position": null,
            "order": null,
            "overflow": null,
            "overflow_x": null,
            "overflow_y": null,
            "padding": null,
            "right": null,
            "top": null,
            "visibility": null,
            "width": null
          }
        },
        "0f394fa28007430fbd3e1f30cefc24d7": {
          "model_module": "@jupyter-widgets/base",
          "model_name": "LayoutModel",
          "model_module_version": "1.2.0",
          "state": {
            "_model_module": "@jupyter-widgets/base",
            "_model_module_version": "1.2.0",
            "_model_name": "LayoutModel",
            "_view_count": null,
            "_view_module": "@jupyter-widgets/base",
            "_view_module_version": "1.2.0",
            "_view_name": "LayoutView",
            "align_content": null,
            "align_items": null,
            "align_self": null,
            "border": null,
            "bottom": null,
            "display": null,
            "flex": null,
            "flex_flow": null,
            "grid_area": null,
            "grid_auto_columns": null,
            "grid_auto_flow": null,
            "grid_auto_rows": null,
            "grid_column": null,
            "grid_gap": null,
            "grid_row": null,
            "grid_template_areas": null,
            "grid_template_columns": null,
            "grid_template_rows": null,
            "height": null,
            "justify_content": null,
            "justify_items": null,
            "left": null,
            "margin": null,
            "max_height": null,
            "max_width": null,
            "min_height": null,
            "min_width": null,
            "object_fit": null,
            "object_position": null,
            "order": null,
            "overflow": null,
            "overflow_x": null,
            "overflow_y": null,
            "padding": null,
            "right": null,
            "top": null,
            "visibility": null,
            "width": null
          }
        },
        "2fd4f6f53caf48c88bfbe42695f26f03": {
          "model_module": "@jupyter-widgets/controls",
          "model_name": "DescriptionStyleModel",
          "model_module_version": "1.5.0",
          "state": {
            "_model_module": "@jupyter-widgets/controls",
            "_model_module_version": "1.5.0",
            "_model_name": "DescriptionStyleModel",
            "_view_count": null,
            "_view_module": "@jupyter-widgets/base",
            "_view_module_version": "1.2.0",
            "_view_name": "StyleView",
            "description_width": ""
          }
        },
        "8faad9fffcc042309cda744c4481d0a0": {
          "model_module": "@jupyter-widgets/base",
          "model_name": "LayoutModel",
          "model_module_version": "1.2.0",
          "state": {
            "_model_module": "@jupyter-widgets/base",
            "_model_module_version": "1.2.0",
            "_model_name": "LayoutModel",
            "_view_count": null,
            "_view_module": "@jupyter-widgets/base",
            "_view_module_version": "1.2.0",
            "_view_name": "LayoutView",
            "align_content": null,
            "align_items": null,
            "align_self": null,
            "border": null,
            "bottom": null,
            "display": null,
            "flex": null,
            "flex_flow": null,
            "grid_area": null,
            "grid_auto_columns": null,
            "grid_auto_flow": null,
            "grid_auto_rows": null,
            "grid_column": null,
            "grid_gap": null,
            "grid_row": null,
            "grid_template_areas": null,
            "grid_template_columns": null,
            "grid_template_rows": null,
            "height": null,
            "justify_content": null,
            "justify_items": null,
            "left": null,
            "margin": null,
            "max_height": null,
            "max_width": null,
            "min_height": null,
            "min_width": null,
            "object_fit": null,
            "object_position": null,
            "order": null,
            "overflow": null,
            "overflow_x": null,
            "overflow_y": null,
            "padding": null,
            "right": null,
            "top": null,
            "visibility": null,
            "width": null
          }
        },
        "a07f392e96c24d2c995beed61a7e4725": {
          "model_module": "@jupyter-widgets/controls",
          "model_name": "ProgressStyleModel",
          "model_module_version": "1.5.0",
          "state": {
            "_model_module": "@jupyter-widgets/controls",
            "_model_module_version": "1.5.0",
            "_model_name": "ProgressStyleModel",
            "_view_count": null,
            "_view_module": "@jupyter-widgets/base",
            "_view_module_version": "1.2.0",
            "_view_name": "StyleView",
            "bar_color": null,
            "description_width": ""
          }
        },
        "896c2395d2d846fea8c6006549466459": {
          "model_module": "@jupyter-widgets/base",
          "model_name": "LayoutModel",
          "model_module_version": "1.2.0",
          "state": {
            "_model_module": "@jupyter-widgets/base",
            "_model_module_version": "1.2.0",
            "_model_name": "LayoutModel",
            "_view_count": null,
            "_view_module": "@jupyter-widgets/base",
            "_view_module_version": "1.2.0",
            "_view_name": "LayoutView",
            "align_content": null,
            "align_items": null,
            "align_self": null,
            "border": null,
            "bottom": null,
            "display": null,
            "flex": null,
            "flex_flow": null,
            "grid_area": null,
            "grid_auto_columns": null,
            "grid_auto_flow": null,
            "grid_auto_rows": null,
            "grid_column": null,
            "grid_gap": null,
            "grid_row": null,
            "grid_template_areas": null,
            "grid_template_columns": null,
            "grid_template_rows": null,
            "height": null,
            "justify_content": null,
            "justify_items": null,
            "left": null,
            "margin": null,
            "max_height": null,
            "max_width": null,
            "min_height": null,
            "min_width": null,
            "object_fit": null,
            "object_position": null,
            "order": null,
            "overflow": null,
            "overflow_x": null,
            "overflow_y": null,
            "padding": null,
            "right": null,
            "top": null,
            "visibility": null,
            "width": null
          }
        },
        "8fe49338f1c7430085e61d17dba362e0": {
          "model_module": "@jupyter-widgets/controls",
          "model_name": "DescriptionStyleModel",
          "model_module_version": "1.5.0",
          "state": {
            "_model_module": "@jupyter-widgets/controls",
            "_model_module_version": "1.5.0",
            "_model_name": "DescriptionStyleModel",
            "_view_count": null,
            "_view_module": "@jupyter-widgets/base",
            "_view_module_version": "1.2.0",
            "_view_name": "StyleView",
            "description_width": ""
          }
        },
        "f5aafb5e99094b278dbe498b042cec20": {
          "model_module": "@jupyter-widgets/controls",
          "model_name": "HBoxModel",
          "model_module_version": "1.5.0",
          "state": {
            "_dom_classes": [],
            "_model_module": "@jupyter-widgets/controls",
            "_model_module_version": "1.5.0",
            "_model_name": "HBoxModel",
            "_view_count": null,
            "_view_module": "@jupyter-widgets/controls",
            "_view_module_version": "1.5.0",
            "_view_name": "HBoxView",
            "box_style": "",
            "children": [
              "IPY_MODEL_917ed749aed44753bc8bfb20b25a73a1",
              "IPY_MODEL_5f85ec9359334cdc9365d141ff02ec2a",
              "IPY_MODEL_6d2cb7ef21d147be8341dd37257fa72b"
            ],
            "layout": "IPY_MODEL_01aa245211554fc59277e4381127b79e"
          }
        },
        "917ed749aed44753bc8bfb20b25a73a1": {
          "model_module": "@jupyter-widgets/controls",
          "model_name": "HTMLModel",
          "model_module_version": "1.5.0",
          "state": {
            "_dom_classes": [],
            "_model_module": "@jupyter-widgets/controls",
            "_model_module_version": "1.5.0",
            "_model_name": "HTMLModel",
            "_view_count": null,
            "_view_module": "@jupyter-widgets/controls",
            "_view_module_version": "1.5.0",
            "_view_name": "HTMLView",
            "description": "",
            "description_tooltip": null,
            "layout": "IPY_MODEL_af9e1e1dd72445dbb06cf36736f5a3c8",
            "placeholder": "​",
            "style": "IPY_MODEL_9bf0160fce8d4671af275b8fa2c7fd55",
            "value": "Downloading data: 100%"
          }
        },
        "5f85ec9359334cdc9365d141ff02ec2a": {
          "model_module": "@jupyter-widgets/controls",
          "model_name": "FloatProgressModel",
          "model_module_version": "1.5.0",
          "state": {
            "_dom_classes": [],
            "_model_module": "@jupyter-widgets/controls",
            "_model_module_version": "1.5.0",
            "_model_name": "FloatProgressModel",
            "_view_count": null,
            "_view_module": "@jupyter-widgets/controls",
            "_view_module_version": "1.5.0",
            "_view_name": "ProgressView",
            "bar_style": "success",
            "description": "",
            "description_tooltip": null,
            "layout": "IPY_MODEL_d35baec21c3644acb8fe05b958542a62",
            "max": 16,
            "min": 0,
            "orientation": "horizontal",
            "style": "IPY_MODEL_a5a7ef1f1bc340ac9eead032245f5911",
            "value": 16
          }
        },
        "6d2cb7ef21d147be8341dd37257fa72b": {
          "model_module": "@jupyter-widgets/controls",
          "model_name": "HTMLModel",
          "model_module_version": "1.5.0",
          "state": {
            "_dom_classes": [],
            "_model_module": "@jupyter-widgets/controls",
            "_model_module_version": "1.5.0",
            "_model_name": "HTMLModel",
            "_view_count": null,
            "_view_module": "@jupyter-widgets/controls",
            "_view_module_version": "1.5.0",
            "_view_name": "HTMLView",
            "description": "",
            "description_tooltip": null,
            "layout": "IPY_MODEL_4b581ac744ae44be8ca2abf5ffb54df4",
            "placeholder": "​",
            "style": "IPY_MODEL_73e95bee68c7477c8be31878ff860544",
            "value": " 16/16 [00:16&lt;00:00,  4.39s/files]"
          }
        },
        "01aa245211554fc59277e4381127b79e": {
          "model_module": "@jupyter-widgets/base",
          "model_name": "LayoutModel",
          "model_module_version": "1.2.0",
          "state": {
            "_model_module": "@jupyter-widgets/base",
            "_model_module_version": "1.2.0",
            "_model_name": "LayoutModel",
            "_view_count": null,
            "_view_module": "@jupyter-widgets/base",
            "_view_module_version": "1.2.0",
            "_view_name": "LayoutView",
            "align_content": null,
            "align_items": null,
            "align_self": null,
            "border": null,
            "bottom": null,
            "display": null,
            "flex": null,
            "flex_flow": null,
            "grid_area": null,
            "grid_auto_columns": null,
            "grid_auto_flow": null,
            "grid_auto_rows": null,
            "grid_column": null,
            "grid_gap": null,
            "grid_row": null,
            "grid_template_areas": null,
            "grid_template_columns": null,
            "grid_template_rows": null,
            "height": null,
            "justify_content": null,
            "justify_items": null,
            "left": null,
            "margin": null,
            "max_height": null,
            "max_width": null,
            "min_height": null,
            "min_width": null,
            "object_fit": null,
            "object_position": null,
            "order": null,
            "overflow": null,
            "overflow_x": null,
            "overflow_y": null,
            "padding": null,
            "right": null,
            "top": null,
            "visibility": null,
            "width": null
          }
        },
        "af9e1e1dd72445dbb06cf36736f5a3c8": {
          "model_module": "@jupyter-widgets/base",
          "model_name": "LayoutModel",
          "model_module_version": "1.2.0",
          "state": {
            "_model_module": "@jupyter-widgets/base",
            "_model_module_version": "1.2.0",
            "_model_name": "LayoutModel",
            "_view_count": null,
            "_view_module": "@jupyter-widgets/base",
            "_view_module_version": "1.2.0",
            "_view_name": "LayoutView",
            "align_content": null,
            "align_items": null,
            "align_self": null,
            "border": null,
            "bottom": null,
            "display": null,
            "flex": null,
            "flex_flow": null,
            "grid_area": null,
            "grid_auto_columns": null,
            "grid_auto_flow": null,
            "grid_auto_rows": null,
            "grid_column": null,
            "grid_gap": null,
            "grid_row": null,
            "grid_template_areas": null,
            "grid_template_columns": null,
            "grid_template_rows": null,
            "height": null,
            "justify_content": null,
            "justify_items": null,
            "left": null,
            "margin": null,
            "max_height": null,
            "max_width": null,
            "min_height": null,
            "min_width": null,
            "object_fit": null,
            "object_position": null,
            "order": null,
            "overflow": null,
            "overflow_x": null,
            "overflow_y": null,
            "padding": null,
            "right": null,
            "top": null,
            "visibility": null,
            "width": null
          }
        },
        "9bf0160fce8d4671af275b8fa2c7fd55": {
          "model_module": "@jupyter-widgets/controls",
          "model_name": "DescriptionStyleModel",
          "model_module_version": "1.5.0",
          "state": {
            "_model_module": "@jupyter-widgets/controls",
            "_model_module_version": "1.5.0",
            "_model_name": "DescriptionStyleModel",
            "_view_count": null,
            "_view_module": "@jupyter-widgets/base",
            "_view_module_version": "1.2.0",
            "_view_name": "StyleView",
            "description_width": ""
          }
        },
        "d35baec21c3644acb8fe05b958542a62": {
          "model_module": "@jupyter-widgets/base",
          "model_name": "LayoutModel",
          "model_module_version": "1.2.0",
          "state": {
            "_model_module": "@jupyter-widgets/base",
            "_model_module_version": "1.2.0",
            "_model_name": "LayoutModel",
            "_view_count": null,
            "_view_module": "@jupyter-widgets/base",
            "_view_module_version": "1.2.0",
            "_view_name": "LayoutView",
            "align_content": null,
            "align_items": null,
            "align_self": null,
            "border": null,
            "bottom": null,
            "display": null,
            "flex": null,
            "flex_flow": null,
            "grid_area": null,
            "grid_auto_columns": null,
            "grid_auto_flow": null,
            "grid_auto_rows": null,
            "grid_column": null,
            "grid_gap": null,
            "grid_row": null,
            "grid_template_areas": null,
            "grid_template_columns": null,
            "grid_template_rows": null,
            "height": null,
            "justify_content": null,
            "justify_items": null,
            "left": null,
            "margin": null,
            "max_height": null,
            "max_width": null,
            "min_height": null,
            "min_width": null,
            "object_fit": null,
            "object_position": null,
            "order": null,
            "overflow": null,
            "overflow_x": null,
            "overflow_y": null,
            "padding": null,
            "right": null,
            "top": null,
            "visibility": null,
            "width": null
          }
        },
        "a5a7ef1f1bc340ac9eead032245f5911": {
          "model_module": "@jupyter-widgets/controls",
          "model_name": "ProgressStyleModel",
          "model_module_version": "1.5.0",
          "state": {
            "_model_module": "@jupyter-widgets/controls",
            "_model_module_version": "1.5.0",
            "_model_name": "ProgressStyleModel",
            "_view_count": null,
            "_view_module": "@jupyter-widgets/base",
            "_view_module_version": "1.2.0",
            "_view_name": "StyleView",
            "bar_color": null,
            "description_width": ""
          }
        },
        "4b581ac744ae44be8ca2abf5ffb54df4": {
          "model_module": "@jupyter-widgets/base",
          "model_name": "LayoutModel",
          "model_module_version": "1.2.0",
          "state": {
            "_model_module": "@jupyter-widgets/base",
            "_model_module_version": "1.2.0",
            "_model_name": "LayoutModel",
            "_view_count": null,
            "_view_module": "@jupyter-widgets/base",
            "_view_module_version": "1.2.0",
            "_view_name": "LayoutView",
            "align_content": null,
            "align_items": null,
            "align_self": null,
            "border": null,
            "bottom": null,
            "display": null,
            "flex": null,
            "flex_flow": null,
            "grid_area": null,
            "grid_auto_columns": null,
            "grid_auto_flow": null,
            "grid_auto_rows": null,
            "grid_column": null,
            "grid_gap": null,
            "grid_row": null,
            "grid_template_areas": null,
            "grid_template_columns": null,
            "grid_template_rows": null,
            "height": null,
            "justify_content": null,
            "justify_items": null,
            "left": null,
            "margin": null,
            "max_height": null,
            "max_width": null,
            "min_height": null,
            "min_width": null,
            "object_fit": null,
            "object_position": null,
            "order": null,
            "overflow": null,
            "overflow_x": null,
            "overflow_y": null,
            "padding": null,
            "right": null,
            "top": null,
            "visibility": null,
            "width": null
          }
        },
        "73e95bee68c7477c8be31878ff860544": {
          "model_module": "@jupyter-widgets/controls",
          "model_name": "DescriptionStyleModel",
          "model_module_version": "1.5.0",
          "state": {
            "_model_module": "@jupyter-widgets/controls",
            "_model_module_version": "1.5.0",
            "_model_name": "DescriptionStyleModel",
            "_view_count": null,
            "_view_module": "@jupyter-widgets/base",
            "_view_module_version": "1.2.0",
            "_view_name": "StyleView",
            "description_width": ""
          }
        },
        "af51a84884984ccea0e669df1e0b76a5": {
          "model_module": "@jupyter-widgets/controls",
          "model_name": "HBoxModel",
          "model_module_version": "1.5.0",
          "state": {
            "_dom_classes": [],
            "_model_module": "@jupyter-widgets/controls",
            "_model_module_version": "1.5.0",
            "_model_name": "HBoxModel",
            "_view_count": null,
            "_view_module": "@jupyter-widgets/controls",
            "_view_module_version": "1.5.0",
            "_view_name": "HBoxView",
            "box_style": "",
            "children": [
              "IPY_MODEL_7a23f42766304d81a5fb0c751085d90a",
              "IPY_MODEL_ae92b70ba90c46ad921a19ea813d6b0e",
              "IPY_MODEL_ca42bf44aa6d42b18083019f7a1096ae"
            ],
            "layout": "IPY_MODEL_7cf7fd9cf82e4ccbbd19ea55f800d295"
          }
        },
        "7a23f42766304d81a5fb0c751085d90a": {
          "model_module": "@jupyter-widgets/controls",
          "model_name": "HTMLModel",
          "model_module_version": "1.5.0",
          "state": {
            "_dom_classes": [],
            "_model_module": "@jupyter-widgets/controls",
            "_model_module_version": "1.5.0",
            "_model_name": "HTMLModel",
            "_view_count": null,
            "_view_module": "@jupyter-widgets/controls",
            "_view_module_version": "1.5.0",
            "_view_name": "HTMLView",
            "description": "",
            "description_tooltip": null,
            "layout": "IPY_MODEL_6c861db93c3b4994a27bcb0a01f48536",
            "placeholder": "​",
            "style": "IPY_MODEL_eb5ab5f26e95429ea21a5f352ad3fb0c",
            "value": "Downloading data: 100%"
          }
        },
        "ae92b70ba90c46ad921a19ea813d6b0e": {
          "model_module": "@jupyter-widgets/controls",
          "model_name": "FloatProgressModel",
          "model_module_version": "1.5.0",
          "state": {
            "_dom_classes": [],
            "_model_module": "@jupyter-widgets/controls",
            "_model_module_version": "1.5.0",
            "_model_name": "FloatProgressModel",
            "_view_count": null,
            "_view_module": "@jupyter-widgets/controls",
            "_view_module_version": "1.5.0",
            "_view_name": "ProgressView",
            "bar_style": "success",
            "description": "",
            "description_tooltip": null,
            "layout": "IPY_MODEL_041f20393fbb4e2db1ec212eeba6b8b3",
            "max": 8241018,
            "min": 0,
            "orientation": "horizontal",
            "style": "IPY_MODEL_6cb60dfc50ca468bafeb0463803e2ce5",
            "value": 8241018
          }
        },
        "ca42bf44aa6d42b18083019f7a1096ae": {
          "model_module": "@jupyter-widgets/controls",
          "model_name": "HTMLModel",
          "model_module_version": "1.5.0",
          "state": {
            "_dom_classes": [],
            "_model_module": "@jupyter-widgets/controls",
            "_model_module_version": "1.5.0",
            "_model_name": "HTMLModel",
            "_view_count": null,
            "_view_module": "@jupyter-widgets/controls",
            "_view_module_version": "1.5.0",
            "_view_name": "HTMLView",
            "description": "",
            "description_tooltip": null,
            "layout": "IPY_MODEL_9cd624e082b74e4e9e76f2ee6cc0ec23",
            "placeholder": "​",
            "style": "IPY_MODEL_97ba9059500a4bac987bcb6b014a52db",
            "value": " 8.24M/8.24M [00:00&lt;00:00, 24.5MB/s]"
          }
        },
        "7cf7fd9cf82e4ccbbd19ea55f800d295": {
          "model_module": "@jupyter-widgets/base",
          "model_name": "LayoutModel",
          "model_module_version": "1.2.0",
          "state": {
            "_model_module": "@jupyter-widgets/base",
            "_model_module_version": "1.2.0",
            "_model_name": "LayoutModel",
            "_view_count": null,
            "_view_module": "@jupyter-widgets/base",
            "_view_module_version": "1.2.0",
            "_view_name": "LayoutView",
            "align_content": null,
            "align_items": null,
            "align_self": null,
            "border": null,
            "bottom": null,
            "display": null,
            "flex": null,
            "flex_flow": null,
            "grid_area": null,
            "grid_auto_columns": null,
            "grid_auto_flow": null,
            "grid_auto_rows": null,
            "grid_column": null,
            "grid_gap": null,
            "grid_row": null,
            "grid_template_areas": null,
            "grid_template_columns": null,
            "grid_template_rows": null,
            "height": null,
            "justify_content": null,
            "justify_items": null,
            "left": null,
            "margin": null,
            "max_height": null,
            "max_width": null,
            "min_height": null,
            "min_width": null,
            "object_fit": null,
            "object_position": null,
            "order": null,
            "overflow": null,
            "overflow_x": null,
            "overflow_y": null,
            "padding": null,
            "right": null,
            "top": null,
            "visibility": null,
            "width": null
          }
        },
        "6c861db93c3b4994a27bcb0a01f48536": {
          "model_module": "@jupyter-widgets/base",
          "model_name": "LayoutModel",
          "model_module_version": "1.2.0",
          "state": {
            "_model_module": "@jupyter-widgets/base",
            "_model_module_version": "1.2.0",
            "_model_name": "LayoutModel",
            "_view_count": null,
            "_view_module": "@jupyter-widgets/base",
            "_view_module_version": "1.2.0",
            "_view_name": "LayoutView",
            "align_content": null,
            "align_items": null,
            "align_self": null,
            "border": null,
            "bottom": null,
            "display": null,
            "flex": null,
            "flex_flow": null,
            "grid_area": null,
            "grid_auto_columns": null,
            "grid_auto_flow": null,
            "grid_auto_rows": null,
            "grid_column": null,
            "grid_gap": null,
            "grid_row": null,
            "grid_template_areas": null,
            "grid_template_columns": null,
            "grid_template_rows": null,
            "height": null,
            "justify_content": null,
            "justify_items": null,
            "left": null,
            "margin": null,
            "max_height": null,
            "max_width": null,
            "min_height": null,
            "min_width": null,
            "object_fit": null,
            "object_position": null,
            "order": null,
            "overflow": null,
            "overflow_x": null,
            "overflow_y": null,
            "padding": null,
            "right": null,
            "top": null,
            "visibility": null,
            "width": null
          }
        },
        "eb5ab5f26e95429ea21a5f352ad3fb0c": {
          "model_module": "@jupyter-widgets/controls",
          "model_name": "DescriptionStyleModel",
          "model_module_version": "1.5.0",
          "state": {
            "_model_module": "@jupyter-widgets/controls",
            "_model_module_version": "1.5.0",
            "_model_name": "DescriptionStyleModel",
            "_view_count": null,
            "_view_module": "@jupyter-widgets/base",
            "_view_module_version": "1.2.0",
            "_view_name": "StyleView",
            "description_width": ""
          }
        },
        "041f20393fbb4e2db1ec212eeba6b8b3": {
          "model_module": "@jupyter-widgets/base",
          "model_name": "LayoutModel",
          "model_module_version": "1.2.0",
          "state": {
            "_model_module": "@jupyter-widgets/base",
            "_model_module_version": "1.2.0",
            "_model_name": "LayoutModel",
            "_view_count": null,
            "_view_module": "@jupyter-widgets/base",
            "_view_module_version": "1.2.0",
            "_view_name": "LayoutView",
            "align_content": null,
            "align_items": null,
            "align_self": null,
            "border": null,
            "bottom": null,
            "display": null,
            "flex": null,
            "flex_flow": null,
            "grid_area": null,
            "grid_auto_columns": null,
            "grid_auto_flow": null,
            "grid_auto_rows": null,
            "grid_column": null,
            "grid_gap": null,
            "grid_row": null,
            "grid_template_areas": null,
            "grid_template_columns": null,
            "grid_template_rows": null,
            "height": null,
            "justify_content": null,
            "justify_items": null,
            "left": null,
            "margin": null,
            "max_height": null,
            "max_width": null,
            "min_height": null,
            "min_width": null,
            "object_fit": null,
            "object_position": null,
            "order": null,
            "overflow": null,
            "overflow_x": null,
            "overflow_y": null,
            "padding": null,
            "right": null,
            "top": null,
            "visibility": null,
            "width": null
          }
        },
        "6cb60dfc50ca468bafeb0463803e2ce5": {
          "model_module": "@jupyter-widgets/controls",
          "model_name": "ProgressStyleModel",
          "model_module_version": "1.5.0",
          "state": {
            "_model_module": "@jupyter-widgets/controls",
            "_model_module_version": "1.5.0",
            "_model_name": "ProgressStyleModel",
            "_view_count": null,
            "_view_module": "@jupyter-widgets/base",
            "_view_module_version": "1.2.0",
            "_view_name": "StyleView",
            "bar_color": null,
            "description_width": ""
          }
        },
        "9cd624e082b74e4e9e76f2ee6cc0ec23": {
          "model_module": "@jupyter-widgets/base",
          "model_name": "LayoutModel",
          "model_module_version": "1.2.0",
          "state": {
            "_model_module": "@jupyter-widgets/base",
            "_model_module_version": "1.2.0",
            "_model_name": "LayoutModel",
            "_view_count": null,
            "_view_module": "@jupyter-widgets/base",
            "_view_module_version": "1.2.0",
            "_view_name": "LayoutView",
            "align_content": null,
            "align_items": null,
            "align_self": null,
            "border": null,
            "bottom": null,
            "display": null,
            "flex": null,
            "flex_flow": null,
            "grid_area": null,
            "grid_auto_columns": null,
            "grid_auto_flow": null,
            "grid_auto_rows": null,
            "grid_column": null,
            "grid_gap": null,
            "grid_row": null,
            "grid_template_areas": null,
            "grid_template_columns": null,
            "grid_template_rows": null,
            "height": null,
            "justify_content": null,
            "justify_items": null,
            "left": null,
            "margin": null,
            "max_height": null,
            "max_width": null,
            "min_height": null,
            "min_width": null,
            "object_fit": null,
            "object_position": null,
            "order": null,
            "overflow": null,
            "overflow_x": null,
            "overflow_y": null,
            "padding": null,
            "right": null,
            "top": null,
            "visibility": null,
            "width": null
          }
        },
        "97ba9059500a4bac987bcb6b014a52db": {
          "model_module": "@jupyter-widgets/controls",
          "model_name": "DescriptionStyleModel",
          "model_module_version": "1.5.0",
          "state": {
            "_model_module": "@jupyter-widgets/controls",
            "_model_module_version": "1.5.0",
            "_model_name": "DescriptionStyleModel",
            "_view_count": null,
            "_view_module": "@jupyter-widgets/base",
            "_view_module_version": "1.2.0",
            "_view_name": "StyleView",
            "description_width": ""
          }
        },
        "b4b6118413a0477e94c77c82d252c006": {
          "model_module": "@jupyter-widgets/controls",
          "model_name": "HBoxModel",
          "model_module_version": "1.5.0",
          "state": {
            "_dom_classes": [],
            "_model_module": "@jupyter-widgets/controls",
            "_model_module_version": "1.5.0",
            "_model_name": "HBoxModel",
            "_view_count": null,
            "_view_module": "@jupyter-widgets/controls",
            "_view_module_version": "1.5.0",
            "_view_name": "HBoxView",
            "box_style": "",
            "children": [
              "IPY_MODEL_917f4474623f4a4e818cb3d58a859c32",
              "IPY_MODEL_1012f62eb3dd491d84c3a7f6a0bb113e",
              "IPY_MODEL_6c604fd9dd0f43c7ae416e68570bed05"
            ],
            "layout": "IPY_MODEL_9db8be7b76194243b50e7170d3540f25"
          }
        },
        "917f4474623f4a4e818cb3d58a859c32": {
          "model_module": "@jupyter-widgets/controls",
          "model_name": "HTMLModel",
          "model_module_version": "1.5.0",
          "state": {
            "_dom_classes": [],
            "_model_module": "@jupyter-widgets/controls",
            "_model_module_version": "1.5.0",
            "_model_name": "HTMLModel",
            "_view_count": null,
            "_view_module": "@jupyter-widgets/controls",
            "_view_module_version": "1.5.0",
            "_view_name": "HTMLView",
            "description": "",
            "description_tooltip": null,
            "layout": "IPY_MODEL_5f99f8ec45d84480a64b70524956d1d1",
            "placeholder": "​",
            "style": "IPY_MODEL_7c4ecb65a364422f90b2bcf3ed67fe64",
            "value": "Downloading data: 100%"
          }
        },
        "1012f62eb3dd491d84c3a7f6a0bb113e": {
          "model_module": "@jupyter-widgets/controls",
          "model_name": "FloatProgressModel",
          "model_module_version": "1.5.0",
          "state": {
            "_dom_classes": [],
            "_model_module": "@jupyter-widgets/controls",
            "_model_module_version": "1.5.0",
            "_model_name": "FloatProgressModel",
            "_view_count": null,
            "_view_module": "@jupyter-widgets/controls",
            "_view_module_version": "1.5.0",
            "_view_name": "ProgressView",
            "bar_style": "success",
            "description": "",
            "description_tooltip": null,
            "layout": "IPY_MODEL_41f540c43ed14726b0d1d6d2d5683900",
            "max": 979345,
            "min": 0,
            "orientation": "horizontal",
            "style": "IPY_MODEL_7841e29b1f474fb39f4e67df592e6e37",
            "value": 979345
          }
        },
        "6c604fd9dd0f43c7ae416e68570bed05": {
          "model_module": "@jupyter-widgets/controls",
          "model_name": "HTMLModel",
          "model_module_version": "1.5.0",
          "state": {
            "_dom_classes": [],
            "_model_module": "@jupyter-widgets/controls",
            "_model_module_version": "1.5.0",
            "_model_name": "HTMLModel",
            "_view_count": null,
            "_view_module": "@jupyter-widgets/controls",
            "_view_module_version": "1.5.0",
            "_view_name": "HTMLView",
            "description": "",
            "description_tooltip": null,
            "layout": "IPY_MODEL_2910742ef61d4de88e71637f068de002",
            "placeholder": "​",
            "style": "IPY_MODEL_2680df40052842d8af5dae3b29838af1",
            "value": " 979k/979k [00:00&lt;00:00, 13.2MB/s]"
          }
        },
        "9db8be7b76194243b50e7170d3540f25": {
          "model_module": "@jupyter-widgets/base",
          "model_name": "LayoutModel",
          "model_module_version": "1.2.0",
          "state": {
            "_model_module": "@jupyter-widgets/base",
            "_model_module_version": "1.2.0",
            "_model_name": "LayoutModel",
            "_view_count": null,
            "_view_module": "@jupyter-widgets/base",
            "_view_module_version": "1.2.0",
            "_view_name": "LayoutView",
            "align_content": null,
            "align_items": null,
            "align_self": null,
            "border": null,
            "bottom": null,
            "display": null,
            "flex": null,
            "flex_flow": null,
            "grid_area": null,
            "grid_auto_columns": null,
            "grid_auto_flow": null,
            "grid_auto_rows": null,
            "grid_column": null,
            "grid_gap": null,
            "grid_row": null,
            "grid_template_areas": null,
            "grid_template_columns": null,
            "grid_template_rows": null,
            "height": null,
            "justify_content": null,
            "justify_items": null,
            "left": null,
            "margin": null,
            "max_height": null,
            "max_width": null,
            "min_height": null,
            "min_width": null,
            "object_fit": null,
            "object_position": null,
            "order": null,
            "overflow": null,
            "overflow_x": null,
            "overflow_y": null,
            "padding": null,
            "right": null,
            "top": null,
            "visibility": null,
            "width": null
          }
        },
        "5f99f8ec45d84480a64b70524956d1d1": {
          "model_module": "@jupyter-widgets/base",
          "model_name": "LayoutModel",
          "model_module_version": "1.2.0",
          "state": {
            "_model_module": "@jupyter-widgets/base",
            "_model_module_version": "1.2.0",
            "_model_name": "LayoutModel",
            "_view_count": null,
            "_view_module": "@jupyter-widgets/base",
            "_view_module_version": "1.2.0",
            "_view_name": "LayoutView",
            "align_content": null,
            "align_items": null,
            "align_self": null,
            "border": null,
            "bottom": null,
            "display": null,
            "flex": null,
            "flex_flow": null,
            "grid_area": null,
            "grid_auto_columns": null,
            "grid_auto_flow": null,
            "grid_auto_rows": null,
            "grid_column": null,
            "grid_gap": null,
            "grid_row": null,
            "grid_template_areas": null,
            "grid_template_columns": null,
            "grid_template_rows": null,
            "height": null,
            "justify_content": null,
            "justify_items": null,
            "left": null,
            "margin": null,
            "max_height": null,
            "max_width": null,
            "min_height": null,
            "min_width": null,
            "object_fit": null,
            "object_position": null,
            "order": null,
            "overflow": null,
            "overflow_x": null,
            "overflow_y": null,
            "padding": null,
            "right": null,
            "top": null,
            "visibility": null,
            "width": null
          }
        },
        "7c4ecb65a364422f90b2bcf3ed67fe64": {
          "model_module": "@jupyter-widgets/controls",
          "model_name": "DescriptionStyleModel",
          "model_module_version": "1.5.0",
          "state": {
            "_model_module": "@jupyter-widgets/controls",
            "_model_module_version": "1.5.0",
            "_model_name": "DescriptionStyleModel",
            "_view_count": null,
            "_view_module": "@jupyter-widgets/base",
            "_view_module_version": "1.2.0",
            "_view_name": "StyleView",
            "description_width": ""
          }
        },
        "41f540c43ed14726b0d1d6d2d5683900": {
          "model_module": "@jupyter-widgets/base",
          "model_name": "LayoutModel",
          "model_module_version": "1.2.0",
          "state": {
            "_model_module": "@jupyter-widgets/base",
            "_model_module_version": "1.2.0",
            "_model_name": "LayoutModel",
            "_view_count": null,
            "_view_module": "@jupyter-widgets/base",
            "_view_module_version": "1.2.0",
            "_view_name": "LayoutView",
            "align_content": null,
            "align_items": null,
            "align_self": null,
            "border": null,
            "bottom": null,
            "display": null,
            "flex": null,
            "flex_flow": null,
            "grid_area": null,
            "grid_auto_columns": null,
            "grid_auto_flow": null,
            "grid_auto_rows": null,
            "grid_column": null,
            "grid_gap": null,
            "grid_row": null,
            "grid_template_areas": null,
            "grid_template_columns": null,
            "grid_template_rows": null,
            "height": null,
            "justify_content": null,
            "justify_items": null,
            "left": null,
            "margin": null,
            "max_height": null,
            "max_width": null,
            "min_height": null,
            "min_width": null,
            "object_fit": null,
            "object_position": null,
            "order": null,
            "overflow": null,
            "overflow_x": null,
            "overflow_y": null,
            "padding": null,
            "right": null,
            "top": null,
            "visibility": null,
            "width": null
          }
        },
        "7841e29b1f474fb39f4e67df592e6e37": {
          "model_module": "@jupyter-widgets/controls",
          "model_name": "ProgressStyleModel",
          "model_module_version": "1.5.0",
          "state": {
            "_model_module": "@jupyter-widgets/controls",
            "_model_module_version": "1.5.0",
            "_model_name": "ProgressStyleModel",
            "_view_count": null,
            "_view_module": "@jupyter-widgets/base",
            "_view_module_version": "1.2.0",
            "_view_name": "StyleView",
            "bar_color": null,
            "description_width": ""
          }
        },
        "2910742ef61d4de88e71637f068de002": {
          "model_module": "@jupyter-widgets/base",
          "model_name": "LayoutModel",
          "model_module_version": "1.2.0",
          "state": {
            "_model_module": "@jupyter-widgets/base",
            "_model_module_version": "1.2.0",
            "_model_name": "LayoutModel",
            "_view_count": null,
            "_view_module": "@jupyter-widgets/base",
            "_view_module_version": "1.2.0",
            "_view_name": "LayoutView",
            "align_content": null,
            "align_items": null,
            "align_self": null,
            "border": null,
            "bottom": null,
            "display": null,
            "flex": null,
            "flex_flow": null,
            "grid_area": null,
            "grid_auto_columns": null,
            "grid_auto_flow": null,
            "grid_auto_rows": null,
            "grid_column": null,
            "grid_gap": null,
            "grid_row": null,
            "grid_template_areas": null,
            "grid_template_columns": null,
            "grid_template_rows": null,
            "height": null,
            "justify_content": null,
            "justify_items": null,
            "left": null,
            "margin": null,
            "max_height": null,
            "max_width": null,
            "min_height": null,
            "min_width": null,
            "object_fit": null,
            "object_position": null,
            "order": null,
            "overflow": null,
            "overflow_x": null,
            "overflow_y": null,
            "padding": null,
            "right": null,
            "top": null,
            "visibility": null,
            "width": null
          }
        },
        "2680df40052842d8af5dae3b29838af1": {
          "model_module": "@jupyter-widgets/controls",
          "model_name": "DescriptionStyleModel",
          "model_module_version": "1.5.0",
          "state": {
            "_model_module": "@jupyter-widgets/controls",
            "_model_module_version": "1.5.0",
            "_model_name": "DescriptionStyleModel",
            "_view_count": null,
            "_view_module": "@jupyter-widgets/base",
            "_view_module_version": "1.2.0",
            "_view_name": "StyleView",
            "description_width": ""
          }
        },
        "8912e210aa2d4433ba4db547fd3635b9": {
          "model_module": "@jupyter-widgets/controls",
          "model_name": "HBoxModel",
          "model_module_version": "1.5.0",
          "state": {
            "_dom_classes": [],
            "_model_module": "@jupyter-widgets/controls",
            "_model_module_version": "1.5.0",
            "_model_name": "HBoxModel",
            "_view_count": null,
            "_view_module": "@jupyter-widgets/controls",
            "_view_module_version": "1.5.0",
            "_view_name": "HBoxView",
            "box_style": "",
            "children": [
              "IPY_MODEL_5fec7b659b714b14bb0a71f4c74eadc4",
              "IPY_MODEL_9aa1b65fd1ff4a399b3cdef759c52aed",
              "IPY_MODEL_0d4a37ab886140c1912d58f9054abe78"
            ],
            "layout": "IPY_MODEL_a5a035982a6444d59cc7b3acbd0c547d"
          }
        },
        "5fec7b659b714b14bb0a71f4c74eadc4": {
          "model_module": "@jupyter-widgets/controls",
          "model_name": "HTMLModel",
          "model_module_version": "1.5.0",
          "state": {
            "_dom_classes": [],
            "_model_module": "@jupyter-widgets/controls",
            "_model_module_version": "1.5.0",
            "_model_name": "HTMLModel",
            "_view_count": null,
            "_view_module": "@jupyter-widgets/controls",
            "_view_module_version": "1.5.0",
            "_view_name": "HTMLView",
            "description": "",
            "description_tooltip": null,
            "layout": "IPY_MODEL_1b9dfddd05724d439ad89926ab348a09",
            "placeholder": "​",
            "style": "IPY_MODEL_4a4d4e15d98e41cf8f76e7d45c4b46ef",
            "value": "Downloading data: 100%"
          }
        },
        "9aa1b65fd1ff4a399b3cdef759c52aed": {
          "model_module": "@jupyter-widgets/controls",
          "model_name": "FloatProgressModel",
          "model_module_version": "1.5.0",
          "state": {
            "_dom_classes": [],
            "_model_module": "@jupyter-widgets/controls",
            "_model_module_version": "1.5.0",
            "_model_name": "FloatProgressModel",
            "_view_count": null,
            "_view_module": "@jupyter-widgets/controls",
            "_view_module_version": "1.5.0",
            "_view_name": "ProgressView",
            "bar_style": "success",
            "description": "",
            "description_tooltip": null,
            "layout": "IPY_MODEL_30409967fc56478995b279d508b16ad6",
            "max": 944225,
            "min": 0,
            "orientation": "horizontal",
            "style": "IPY_MODEL_821f0f703fdc4ea087b4f7b8c6bb37f2",
            "value": 944225
          }
        },
        "0d4a37ab886140c1912d58f9054abe78": {
          "model_module": "@jupyter-widgets/controls",
          "model_name": "HTMLModel",
          "model_module_version": "1.5.0",
          "state": {
            "_dom_classes": [],
            "_model_module": "@jupyter-widgets/controls",
            "_model_module_version": "1.5.0",
            "_model_name": "HTMLModel",
            "_view_count": null,
            "_view_module": "@jupyter-widgets/controls",
            "_view_module_version": "1.5.0",
            "_view_name": "HTMLView",
            "description": "",
            "description_tooltip": null,
            "layout": "IPY_MODEL_f81aedbccab945f0a518ac99cfb654c8",
            "placeholder": "​",
            "style": "IPY_MODEL_ec7702553b8c4e9c9ad5dded51c4f123",
            "value": " 944k/944k [00:00&lt;00:00, 11.5MB/s]"
          }
        },
        "a5a035982a6444d59cc7b3acbd0c547d": {
          "model_module": "@jupyter-widgets/base",
          "model_name": "LayoutModel",
          "model_module_version": "1.2.0",
          "state": {
            "_model_module": "@jupyter-widgets/base",
            "_model_module_version": "1.2.0",
            "_model_name": "LayoutModel",
            "_view_count": null,
            "_view_module": "@jupyter-widgets/base",
            "_view_module_version": "1.2.0",
            "_view_name": "LayoutView",
            "align_content": null,
            "align_items": null,
            "align_self": null,
            "border": null,
            "bottom": null,
            "display": null,
            "flex": null,
            "flex_flow": null,
            "grid_area": null,
            "grid_auto_columns": null,
            "grid_auto_flow": null,
            "grid_auto_rows": null,
            "grid_column": null,
            "grid_gap": null,
            "grid_row": null,
            "grid_template_areas": null,
            "grid_template_columns": null,
            "grid_template_rows": null,
            "height": null,
            "justify_content": null,
            "justify_items": null,
            "left": null,
            "margin": null,
            "max_height": null,
            "max_width": null,
            "min_height": null,
            "min_width": null,
            "object_fit": null,
            "object_position": null,
            "order": null,
            "overflow": null,
            "overflow_x": null,
            "overflow_y": null,
            "padding": null,
            "right": null,
            "top": null,
            "visibility": null,
            "width": null
          }
        },
        "1b9dfddd05724d439ad89926ab348a09": {
          "model_module": "@jupyter-widgets/base",
          "model_name": "LayoutModel",
          "model_module_version": "1.2.0",
          "state": {
            "_model_module": "@jupyter-widgets/base",
            "_model_module_version": "1.2.0",
            "_model_name": "LayoutModel",
            "_view_count": null,
            "_view_module": "@jupyter-widgets/base",
            "_view_module_version": "1.2.0",
            "_view_name": "LayoutView",
            "align_content": null,
            "align_items": null,
            "align_self": null,
            "border": null,
            "bottom": null,
            "display": null,
            "flex": null,
            "flex_flow": null,
            "grid_area": null,
            "grid_auto_columns": null,
            "grid_auto_flow": null,
            "grid_auto_rows": null,
            "grid_column": null,
            "grid_gap": null,
            "grid_row": null,
            "grid_template_areas": null,
            "grid_template_columns": null,
            "grid_template_rows": null,
            "height": null,
            "justify_content": null,
            "justify_items": null,
            "left": null,
            "margin": null,
            "max_height": null,
            "max_width": null,
            "min_height": null,
            "min_width": null,
            "object_fit": null,
            "object_position": null,
            "order": null,
            "overflow": null,
            "overflow_x": null,
            "overflow_y": null,
            "padding": null,
            "right": null,
            "top": null,
            "visibility": null,
            "width": null
          }
        },
        "4a4d4e15d98e41cf8f76e7d45c4b46ef": {
          "model_module": "@jupyter-widgets/controls",
          "model_name": "DescriptionStyleModel",
          "model_module_version": "1.5.0",
          "state": {
            "_model_module": "@jupyter-widgets/controls",
            "_model_module_version": "1.5.0",
            "_model_name": "DescriptionStyleModel",
            "_view_count": null,
            "_view_module": "@jupyter-widgets/base",
            "_view_module_version": "1.2.0",
            "_view_name": "StyleView",
            "description_width": ""
          }
        },
        "30409967fc56478995b279d508b16ad6": {
          "model_module": "@jupyter-widgets/base",
          "model_name": "LayoutModel",
          "model_module_version": "1.2.0",
          "state": {
            "_model_module": "@jupyter-widgets/base",
            "_model_module_version": "1.2.0",
            "_model_name": "LayoutModel",
            "_view_count": null,
            "_view_module": "@jupyter-widgets/base",
            "_view_module_version": "1.2.0",
            "_view_name": "LayoutView",
            "align_content": null,
            "align_items": null,
            "align_self": null,
            "border": null,
            "bottom": null,
            "display": null,
            "flex": null,
            "flex_flow": null,
            "grid_area": null,
            "grid_auto_columns": null,
            "grid_auto_flow": null,
            "grid_auto_rows": null,
            "grid_column": null,
            "grid_gap": null,
            "grid_row": null,
            "grid_template_areas": null,
            "grid_template_columns": null,
            "grid_template_rows": null,
            "height": null,
            "justify_content": null,
            "justify_items": null,
            "left": null,
            "margin": null,
            "max_height": null,
            "max_width": null,
            "min_height": null,
            "min_width": null,
            "object_fit": null,
            "object_position": null,
            "order": null,
            "overflow": null,
            "overflow_x": null,
            "overflow_y": null,
            "padding": null,
            "right": null,
            "top": null,
            "visibility": null,
            "width": null
          }
        },
        "821f0f703fdc4ea087b4f7b8c6bb37f2": {
          "model_module": "@jupyter-widgets/controls",
          "model_name": "ProgressStyleModel",
          "model_module_version": "1.5.0",
          "state": {
            "_model_module": "@jupyter-widgets/controls",
            "_model_module_version": "1.5.0",
            "_model_name": "ProgressStyleModel",
            "_view_count": null,
            "_view_module": "@jupyter-widgets/base",
            "_view_module_version": "1.2.0",
            "_view_name": "StyleView",
            "bar_color": null,
            "description_width": ""
          }
        },
        "f81aedbccab945f0a518ac99cfb654c8": {
          "model_module": "@jupyter-widgets/base",
          "model_name": "LayoutModel",
          "model_module_version": "1.2.0",
          "state": {
            "_model_module": "@jupyter-widgets/base",
            "_model_module_version": "1.2.0",
            "_model_name": "LayoutModel",
            "_view_count": null,
            "_view_module": "@jupyter-widgets/base",
            "_view_module_version": "1.2.0",
            "_view_name": "LayoutView",
            "align_content": null,
            "align_items": null,
            "align_self": null,
            "border": null,
            "bottom": null,
            "display": null,
            "flex": null,
            "flex_flow": null,
            "grid_area": null,
            "grid_auto_columns": null,
            "grid_auto_flow": null,
            "grid_auto_rows": null,
            "grid_column": null,
            "grid_gap": null,
            "grid_row": null,
            "grid_template_areas": null,
            "grid_template_columns": null,
            "grid_template_rows": null,
            "height": null,
            "justify_content": null,
            "justify_items": null,
            "left": null,
            "margin": null,
            "max_height": null,
            "max_width": null,
            "min_height": null,
            "min_width": null,
            "object_fit": null,
            "object_position": null,
            "order": null,
            "overflow": null,
            "overflow_x": null,
            "overflow_y": null,
            "padding": null,
            "right": null,
            "top": null,
            "visibility": null,
            "width": null
          }
        },
        "ec7702553b8c4e9c9ad5dded51c4f123": {
          "model_module": "@jupyter-widgets/controls",
          "model_name": "DescriptionStyleModel",
          "model_module_version": "1.5.0",
          "state": {
            "_model_module": "@jupyter-widgets/controls",
            "_model_module_version": "1.5.0",
            "_model_name": "DescriptionStyleModel",
            "_view_count": null,
            "_view_module": "@jupyter-widgets/base",
            "_view_module_version": "1.2.0",
            "_view_name": "StyleView",
            "description_width": ""
          }
        },
        "247fee125b224802a456cf7d0a918de4": {
          "model_module": "@jupyter-widgets/controls",
          "model_name": "HBoxModel",
          "model_module_version": "1.5.0",
          "state": {
            "_dom_classes": [],
            "_model_module": "@jupyter-widgets/controls",
            "_model_module_version": "1.5.0",
            "_model_name": "HBoxModel",
            "_view_count": null,
            "_view_module": "@jupyter-widgets/controls",
            "_view_module_version": "1.5.0",
            "_view_name": "HBoxView",
            "box_style": "",
            "children": [
              "IPY_MODEL_e9d85437aa2b4b408ec6ed099c9df5e9",
              "IPY_MODEL_15d2c9cb625a48a8b592f997174bc7ff",
              "IPY_MODEL_a103e860916940e5893ba7c3bde7c68a"
            ],
            "layout": "IPY_MODEL_eb928b967f2c4b9a9456fada8308198b"
          }
        },
        "e9d85437aa2b4b408ec6ed099c9df5e9": {
          "model_module": "@jupyter-widgets/controls",
          "model_name": "HTMLModel",
          "model_module_version": "1.5.0",
          "state": {
            "_dom_classes": [],
            "_model_module": "@jupyter-widgets/controls",
            "_model_module_version": "1.5.0",
            "_model_name": "HTMLModel",
            "_view_count": null,
            "_view_module": "@jupyter-widgets/controls",
            "_view_module_version": "1.5.0",
            "_view_name": "HTMLView",
            "description": "",
            "description_tooltip": null,
            "layout": "IPY_MODEL_75b5230e58ba40c3b130b2e790fc7aeb",
            "placeholder": "​",
            "style": "IPY_MODEL_03bcc5e1a0634cff9a0c5239bd8d9d74",
            "value": "Generating train split: "
          }
        },
        "15d2c9cb625a48a8b592f997174bc7ff": {
          "model_module": "@jupyter-widgets/controls",
          "model_name": "FloatProgressModel",
          "model_module_version": "1.5.0",
          "state": {
            "_dom_classes": [],
            "_model_module": "@jupyter-widgets/controls",
            "_model_module_version": "1.5.0",
            "_model_name": "FloatProgressModel",
            "_view_count": null,
            "_view_module": "@jupyter-widgets/controls",
            "_view_module_version": "1.5.0",
            "_view_name": "ProgressView",
            "bar_style": "success",
            "description": "",
            "description_tooltip": null,
            "layout": "IPY_MODEL_6168f0cebb5b4cca8491caeea7e9505d",
            "max": 1,
            "min": 0,
            "orientation": "horizontal",
            "style": "IPY_MODEL_5a01f7d40abc48a69646ee2cb22e18d7",
            "value": 1
          }
        },
        "a103e860916940e5893ba7c3bde7c68a": {
          "model_module": "@jupyter-widgets/controls",
          "model_name": "HTMLModel",
          "model_module_version": "1.5.0",
          "state": {
            "_dom_classes": [],
            "_model_module": "@jupyter-widgets/controls",
            "_model_module_version": "1.5.0",
            "_model_name": "HTMLModel",
            "_view_count": null,
            "_view_module": "@jupyter-widgets/controls",
            "_view_module_version": "1.5.0",
            "_view_name": "HTMLView",
            "description": "",
            "description_tooltip": null,
            "layout": "IPY_MODEL_e257e934d3e34384b03fffcf95db4972",
            "placeholder": "​",
            "style": "IPY_MODEL_1714965849c049d2a67d65bafd129ba1",
            "value": " 108502/0 [02:04&lt;00:00, 1193.24 examples/s]"
          }
        },
        "eb928b967f2c4b9a9456fada8308198b": {
          "model_module": "@jupyter-widgets/base",
          "model_name": "LayoutModel",
          "model_module_version": "1.2.0",
          "state": {
            "_model_module": "@jupyter-widgets/base",
            "_model_module_version": "1.2.0",
            "_model_name": "LayoutModel",
            "_view_count": null,
            "_view_module": "@jupyter-widgets/base",
            "_view_module_version": "1.2.0",
            "_view_name": "LayoutView",
            "align_content": null,
            "align_items": null,
            "align_self": null,
            "border": null,
            "bottom": null,
            "display": null,
            "flex": null,
            "flex_flow": null,
            "grid_area": null,
            "grid_auto_columns": null,
            "grid_auto_flow": null,
            "grid_auto_rows": null,
            "grid_column": null,
            "grid_gap": null,
            "grid_row": null,
            "grid_template_areas": null,
            "grid_template_columns": null,
            "grid_template_rows": null,
            "height": null,
            "justify_content": null,
            "justify_items": null,
            "left": null,
            "margin": null,
            "max_height": null,
            "max_width": null,
            "min_height": null,
            "min_width": null,
            "object_fit": null,
            "object_position": null,
            "order": null,
            "overflow": null,
            "overflow_x": null,
            "overflow_y": null,
            "padding": null,
            "right": null,
            "top": null,
            "visibility": null,
            "width": null
          }
        },
        "75b5230e58ba40c3b130b2e790fc7aeb": {
          "model_module": "@jupyter-widgets/base",
          "model_name": "LayoutModel",
          "model_module_version": "1.2.0",
          "state": {
            "_model_module": "@jupyter-widgets/base",
            "_model_module_version": "1.2.0",
            "_model_name": "LayoutModel",
            "_view_count": null,
            "_view_module": "@jupyter-widgets/base",
            "_view_module_version": "1.2.0",
            "_view_name": "LayoutView",
            "align_content": null,
            "align_items": null,
            "align_self": null,
            "border": null,
            "bottom": null,
            "display": null,
            "flex": null,
            "flex_flow": null,
            "grid_area": null,
            "grid_auto_columns": null,
            "grid_auto_flow": null,
            "grid_auto_rows": null,
            "grid_column": null,
            "grid_gap": null,
            "grid_row": null,
            "grid_template_areas": null,
            "grid_template_columns": null,
            "grid_template_rows": null,
            "height": null,
            "justify_content": null,
            "justify_items": null,
            "left": null,
            "margin": null,
            "max_height": null,
            "max_width": null,
            "min_height": null,
            "min_width": null,
            "object_fit": null,
            "object_position": null,
            "order": null,
            "overflow": null,
            "overflow_x": null,
            "overflow_y": null,
            "padding": null,
            "right": null,
            "top": null,
            "visibility": null,
            "width": null
          }
        },
        "03bcc5e1a0634cff9a0c5239bd8d9d74": {
          "model_module": "@jupyter-widgets/controls",
          "model_name": "DescriptionStyleModel",
          "model_module_version": "1.5.0",
          "state": {
            "_model_module": "@jupyter-widgets/controls",
            "_model_module_version": "1.5.0",
            "_model_name": "DescriptionStyleModel",
            "_view_count": null,
            "_view_module": "@jupyter-widgets/base",
            "_view_module_version": "1.2.0",
            "_view_name": "StyleView",
            "description_width": ""
          }
        },
        "6168f0cebb5b4cca8491caeea7e9505d": {
          "model_module": "@jupyter-widgets/base",
          "model_name": "LayoutModel",
          "model_module_version": "1.2.0",
          "state": {
            "_model_module": "@jupyter-widgets/base",
            "_model_module_version": "1.2.0",
            "_model_name": "LayoutModel",
            "_view_count": null,
            "_view_module": "@jupyter-widgets/base",
            "_view_module_version": "1.2.0",
            "_view_name": "LayoutView",
            "align_content": null,
            "align_items": null,
            "align_self": null,
            "border": null,
            "bottom": null,
            "display": null,
            "flex": null,
            "flex_flow": null,
            "grid_area": null,
            "grid_auto_columns": null,
            "grid_auto_flow": null,
            "grid_auto_rows": null,
            "grid_column": null,
            "grid_gap": null,
            "grid_row": null,
            "grid_template_areas": null,
            "grid_template_columns": null,
            "grid_template_rows": null,
            "height": null,
            "justify_content": null,
            "justify_items": null,
            "left": null,
            "margin": null,
            "max_height": null,
            "max_width": null,
            "min_height": null,
            "min_width": null,
            "object_fit": null,
            "object_position": null,
            "order": null,
            "overflow": null,
            "overflow_x": null,
            "overflow_y": null,
            "padding": null,
            "right": null,
            "top": null,
            "visibility": null,
            "width": "20px"
          }
        },
        "5a01f7d40abc48a69646ee2cb22e18d7": {
          "model_module": "@jupyter-widgets/controls",
          "model_name": "ProgressStyleModel",
          "model_module_version": "1.5.0",
          "state": {
            "_model_module": "@jupyter-widgets/controls",
            "_model_module_version": "1.5.0",
            "_model_name": "ProgressStyleModel",
            "_view_count": null,
            "_view_module": "@jupyter-widgets/base",
            "_view_module_version": "1.2.0",
            "_view_name": "StyleView",
            "bar_color": null,
            "description_width": ""
          }
        },
        "e257e934d3e34384b03fffcf95db4972": {
          "model_module": "@jupyter-widgets/base",
          "model_name": "LayoutModel",
          "model_module_version": "1.2.0",
          "state": {
            "_model_module": "@jupyter-widgets/base",
            "_model_module_version": "1.2.0",
            "_model_name": "LayoutModel",
            "_view_count": null,
            "_view_module": "@jupyter-widgets/base",
            "_view_module_version": "1.2.0",
            "_view_name": "LayoutView",
            "align_content": null,
            "align_items": null,
            "align_self": null,
            "border": null,
            "bottom": null,
            "display": null,
            "flex": null,
            "flex_flow": null,
            "grid_area": null,
            "grid_auto_columns": null,
            "grid_auto_flow": null,
            "grid_auto_rows": null,
            "grid_column": null,
            "grid_gap": null,
            "grid_row": null,
            "grid_template_areas": null,
            "grid_template_columns": null,
            "grid_template_rows": null,
            "height": null,
            "justify_content": null,
            "justify_items": null,
            "left": null,
            "margin": null,
            "max_height": null,
            "max_width": null,
            "min_height": null,
            "min_width": null,
            "object_fit": null,
            "object_position": null,
            "order": null,
            "overflow": null,
            "overflow_x": null,
            "overflow_y": null,
            "padding": null,
            "right": null,
            "top": null,
            "visibility": null,
            "width": null
          }
        },
        "1714965849c049d2a67d65bafd129ba1": {
          "model_module": "@jupyter-widgets/controls",
          "model_name": "DescriptionStyleModel",
          "model_module_version": "1.5.0",
          "state": {
            "_model_module": "@jupyter-widgets/controls",
            "_model_module_version": "1.5.0",
            "_model_name": "DescriptionStyleModel",
            "_view_count": null,
            "_view_module": "@jupyter-widgets/base",
            "_view_module_version": "1.2.0",
            "_view_name": "StyleView",
            "description_width": ""
          }
        },
        "32f7aaf17ea84f11b0b404e1c4cd4478": {
          "model_module": "@jupyter-widgets/controls",
          "model_name": "HBoxModel",
          "model_module_version": "1.5.0",
          "state": {
            "_dom_classes": [],
            "_model_module": "@jupyter-widgets/controls",
            "_model_module_version": "1.5.0",
            "_model_name": "HBoxModel",
            "_view_count": null,
            "_view_module": "@jupyter-widgets/controls",
            "_view_module_version": "1.5.0",
            "_view_name": "HBoxView",
            "box_style": "",
            "children": [
              "IPY_MODEL_452cb790d4094d5b92d812dea59c3e0d",
              "IPY_MODEL_ce794d2689674b6cb60c99fa870fecfd",
              "IPY_MODEL_be10f49b11fa4cd49fa0029059e1bff9"
            ],
            "layout": "IPY_MODEL_d96662726e2643328415dff6a0b6d880"
          }
        },
        "452cb790d4094d5b92d812dea59c3e0d": {
          "model_module": "@jupyter-widgets/controls",
          "model_name": "HTMLModel",
          "model_module_version": "1.5.0",
          "state": {
            "_dom_classes": [],
            "_model_module": "@jupyter-widgets/controls",
            "_model_module_version": "1.5.0",
            "_model_name": "HTMLModel",
            "_view_count": null,
            "_view_module": "@jupyter-widgets/controls",
            "_view_module_version": "1.5.0",
            "_view_name": "HTMLView",
            "description": "",
            "description_tooltip": null,
            "layout": "IPY_MODEL_e390722d1d6e4c5da08f0fcf2296504c",
            "placeholder": "​",
            "style": "IPY_MODEL_5659d0f15bdd4c1caade78c371e25227",
            "value": "Generating validation split: "
          }
        },
        "ce794d2689674b6cb60c99fa870fecfd": {
          "model_module": "@jupyter-widgets/controls",
          "model_name": "FloatProgressModel",
          "model_module_version": "1.5.0",
          "state": {
            "_dom_classes": [],
            "_model_module": "@jupyter-widgets/controls",
            "_model_module_version": "1.5.0",
            "_model_name": "FloatProgressModel",
            "_view_count": null,
            "_view_module": "@jupyter-widgets/controls",
            "_view_module_version": "1.5.0",
            "_view_name": "ProgressView",
            "bar_style": "success",
            "description": "",
            "description_tooltip": null,
            "layout": "IPY_MODEL_8f96201a0fdc4b7eb3bedd1be32e3a5e",
            "max": 1,
            "min": 0,
            "orientation": "horizontal",
            "style": "IPY_MODEL_23937621fa664cfbb590b868b62311a8",
            "value": 1
          }
        },
        "be10f49b11fa4cd49fa0029059e1bff9": {
          "model_module": "@jupyter-widgets/controls",
          "model_name": "HTMLModel",
          "model_module_version": "1.5.0",
          "state": {
            "_dom_classes": [],
            "_model_module": "@jupyter-widgets/controls",
            "_model_module_version": "1.5.0",
            "_model_name": "HTMLModel",
            "_view_count": null,
            "_view_module": "@jupyter-widgets/controls",
            "_view_module_version": "1.5.0",
            "_view_name": "HTMLView",
            "description": "",
            "description_tooltip": null,
            "layout": "IPY_MODEL_1437251df9a4414c820093763fbe7f30",
            "placeholder": "​",
            "style": "IPY_MODEL_f49a4bb328de4bf5a3949d56c6c53464",
            "value": " 13098/0 [00:15&lt;00:00, 1259.61 examples/s]"
          }
        },
        "d96662726e2643328415dff6a0b6d880": {
          "model_module": "@jupyter-widgets/base",
          "model_name": "LayoutModel",
          "model_module_version": "1.2.0",
          "state": {
            "_model_module": "@jupyter-widgets/base",
            "_model_module_version": "1.2.0",
            "_model_name": "LayoutModel",
            "_view_count": null,
            "_view_module": "@jupyter-widgets/base",
            "_view_module_version": "1.2.0",
            "_view_name": "LayoutView",
            "align_content": null,
            "align_items": null,
            "align_self": null,
            "border": null,
            "bottom": null,
            "display": null,
            "flex": null,
            "flex_flow": null,
            "grid_area": null,
            "grid_auto_columns": null,
            "grid_auto_flow": null,
            "grid_auto_rows": null,
            "grid_column": null,
            "grid_gap": null,
            "grid_row": null,
            "grid_template_areas": null,
            "grid_template_columns": null,
            "grid_template_rows": null,
            "height": null,
            "justify_content": null,
            "justify_items": null,
            "left": null,
            "margin": null,
            "max_height": null,
            "max_width": null,
            "min_height": null,
            "min_width": null,
            "object_fit": null,
            "object_position": null,
            "order": null,
            "overflow": null,
            "overflow_x": null,
            "overflow_y": null,
            "padding": null,
            "right": null,
            "top": null,
            "visibility": null,
            "width": null
          }
        },
        "e390722d1d6e4c5da08f0fcf2296504c": {
          "model_module": "@jupyter-widgets/base",
          "model_name": "LayoutModel",
          "model_module_version": "1.2.0",
          "state": {
            "_model_module": "@jupyter-widgets/base",
            "_model_module_version": "1.2.0",
            "_model_name": "LayoutModel",
            "_view_count": null,
            "_view_module": "@jupyter-widgets/base",
            "_view_module_version": "1.2.0",
            "_view_name": "LayoutView",
            "align_content": null,
            "align_items": null,
            "align_self": null,
            "border": null,
            "bottom": null,
            "display": null,
            "flex": null,
            "flex_flow": null,
            "grid_area": null,
            "grid_auto_columns": null,
            "grid_auto_flow": null,
            "grid_auto_rows": null,
            "grid_column": null,
            "grid_gap": null,
            "grid_row": null,
            "grid_template_areas": null,
            "grid_template_columns": null,
            "grid_template_rows": null,
            "height": null,
            "justify_content": null,
            "justify_items": null,
            "left": null,
            "margin": null,
            "max_height": null,
            "max_width": null,
            "min_height": null,
            "min_width": null,
            "object_fit": null,
            "object_position": null,
            "order": null,
            "overflow": null,
            "overflow_x": null,
            "overflow_y": null,
            "padding": null,
            "right": null,
            "top": null,
            "visibility": null,
            "width": null
          }
        },
        "5659d0f15bdd4c1caade78c371e25227": {
          "model_module": "@jupyter-widgets/controls",
          "model_name": "DescriptionStyleModel",
          "model_module_version": "1.5.0",
          "state": {
            "_model_module": "@jupyter-widgets/controls",
            "_model_module_version": "1.5.0",
            "_model_name": "DescriptionStyleModel",
            "_view_count": null,
            "_view_module": "@jupyter-widgets/base",
            "_view_module_version": "1.2.0",
            "_view_name": "StyleView",
            "description_width": ""
          }
        },
        "8f96201a0fdc4b7eb3bedd1be32e3a5e": {
          "model_module": "@jupyter-widgets/base",
          "model_name": "LayoutModel",
          "model_module_version": "1.2.0",
          "state": {
            "_model_module": "@jupyter-widgets/base",
            "_model_module_version": "1.2.0",
            "_model_name": "LayoutModel",
            "_view_count": null,
            "_view_module": "@jupyter-widgets/base",
            "_view_module_version": "1.2.0",
            "_view_name": "LayoutView",
            "align_content": null,
            "align_items": null,
            "align_self": null,
            "border": null,
            "bottom": null,
            "display": null,
            "flex": null,
            "flex_flow": null,
            "grid_area": null,
            "grid_auto_columns": null,
            "grid_auto_flow": null,
            "grid_auto_rows": null,
            "grid_column": null,
            "grid_gap": null,
            "grid_row": null,
            "grid_template_areas": null,
            "grid_template_columns": null,
            "grid_template_rows": null,
            "height": null,
            "justify_content": null,
            "justify_items": null,
            "left": null,
            "margin": null,
            "max_height": null,
            "max_width": null,
            "min_height": null,
            "min_width": null,
            "object_fit": null,
            "object_position": null,
            "order": null,
            "overflow": null,
            "overflow_x": null,
            "overflow_y": null,
            "padding": null,
            "right": null,
            "top": null,
            "visibility": null,
            "width": "20px"
          }
        },
        "23937621fa664cfbb590b868b62311a8": {
          "model_module": "@jupyter-widgets/controls",
          "model_name": "ProgressStyleModel",
          "model_module_version": "1.5.0",
          "state": {
            "_model_module": "@jupyter-widgets/controls",
            "_model_module_version": "1.5.0",
            "_model_name": "ProgressStyleModel",
            "_view_count": null,
            "_view_module": "@jupyter-widgets/base",
            "_view_module_version": "1.2.0",
            "_view_name": "StyleView",
            "bar_color": null,
            "description_width": ""
          }
        },
        "1437251df9a4414c820093763fbe7f30": {
          "model_module": "@jupyter-widgets/base",
          "model_name": "LayoutModel",
          "model_module_version": "1.2.0",
          "state": {
            "_model_module": "@jupyter-widgets/base",
            "_model_module_version": "1.2.0",
            "_model_name": "LayoutModel",
            "_view_count": null,
            "_view_module": "@jupyter-widgets/base",
            "_view_module_version": "1.2.0",
            "_view_name": "LayoutView",
            "align_content": null,
            "align_items": null,
            "align_self": null,
            "border": null,
            "bottom": null,
            "display": null,
            "flex": null,
            "flex_flow": null,
            "grid_area": null,
            "grid_auto_columns": null,
            "grid_auto_flow": null,
            "grid_auto_rows": null,
            "grid_column": null,
            "grid_gap": null,
            "grid_row": null,
            "grid_template_areas": null,
            "grid_template_columns": null,
            "grid_template_rows": null,
            "height": null,
            "justify_content": null,
            "justify_items": null,
            "left": null,
            "margin": null,
            "max_height": null,
            "max_width": null,
            "min_height": null,
            "min_width": null,
            "object_fit": null,
            "object_position": null,
            "order": null,
            "overflow": null,
            "overflow_x": null,
            "overflow_y": null,
            "padding": null,
            "right": null,
            "top": null,
            "visibility": null,
            "width": null
          }
        },
        "f49a4bb328de4bf5a3949d56c6c53464": {
          "model_module": "@jupyter-widgets/controls",
          "model_name": "DescriptionStyleModel",
          "model_module_version": "1.5.0",
          "state": {
            "_model_module": "@jupyter-widgets/controls",
            "_model_module_version": "1.5.0",
            "_model_name": "DescriptionStyleModel",
            "_view_count": null,
            "_view_module": "@jupyter-widgets/base",
            "_view_module_version": "1.2.0",
            "_view_name": "StyleView",
            "description_width": ""
          }
        },
        "ed935288c50b456dae0a8f1b089eb48a": {
          "model_module": "@jupyter-widgets/controls",
          "model_name": "HBoxModel",
          "model_module_version": "1.5.0",
          "state": {
            "_dom_classes": [],
            "_model_module": "@jupyter-widgets/controls",
            "_model_module_version": "1.5.0",
            "_model_name": "HBoxModel",
            "_view_count": null,
            "_view_module": "@jupyter-widgets/controls",
            "_view_module_version": "1.5.0",
            "_view_name": "HBoxView",
            "box_style": "",
            "children": [
              "IPY_MODEL_3daee2353f9d4157aa8111b56c995e30",
              "IPY_MODEL_22784a08a79c4072b358bea17ca4dd3f",
              "IPY_MODEL_26f85ef01f04496d8260bcdf08143bff"
            ],
            "layout": "IPY_MODEL_a19a2947907747fca6b5f8507ac56715"
          }
        },
        "3daee2353f9d4157aa8111b56c995e30": {
          "model_module": "@jupyter-widgets/controls",
          "model_name": "HTMLModel",
          "model_module_version": "1.5.0",
          "state": {
            "_dom_classes": [],
            "_model_module": "@jupyter-widgets/controls",
            "_model_module_version": "1.5.0",
            "_model_name": "HTMLModel",
            "_view_count": null,
            "_view_module": "@jupyter-widgets/controls",
            "_view_module_version": "1.5.0",
            "_view_name": "HTMLView",
            "description": "",
            "description_tooltip": null,
            "layout": "IPY_MODEL_6430c4baebde4b809eec820d11c85467",
            "placeholder": "​",
            "style": "IPY_MODEL_9e3ac7982af34e329e0e2eb868542ccc",
            "value": "Generating test split: "
          }
        },
        "22784a08a79c4072b358bea17ca4dd3f": {
          "model_module": "@jupyter-widgets/controls",
          "model_name": "FloatProgressModel",
          "model_module_version": "1.5.0",
          "state": {
            "_dom_classes": [],
            "_model_module": "@jupyter-widgets/controls",
            "_model_module_version": "1.5.0",
            "_model_name": "FloatProgressModel",
            "_view_count": null,
            "_view_module": "@jupyter-widgets/controls",
            "_view_module_version": "1.5.0",
            "_view_name": "ProgressView",
            "bar_style": "success",
            "description": "",
            "description_tooltip": null,
            "layout": "IPY_MODEL_b5f88e026ce5497ea166f7f08ce5f1dd",
            "max": 1,
            "min": 0,
            "orientation": "horizontal",
            "style": "IPY_MODEL_1724a9d35f4340488cff3b9257dc39e9",
            "value": 1
          }
        },
        "26f85ef01f04496d8260bcdf08143bff": {
          "model_module": "@jupyter-widgets/controls",
          "model_name": "HTMLModel",
          "model_module_version": "1.5.0",
          "state": {
            "_dom_classes": [],
            "_model_module": "@jupyter-widgets/controls",
            "_model_module_version": "1.5.0",
            "_model_name": "HTMLModel",
            "_view_count": null,
            "_view_module": "@jupyter-widgets/controls",
            "_view_module_version": "1.5.0",
            "_view_name": "HTMLView",
            "description": "",
            "description_tooltip": null,
            "layout": "IPY_MODEL_38879cb4793d4488a14013f69383a32f",
            "placeholder": "​",
            "style": "IPY_MODEL_48072b81aa3a4228a7c899706cd1f918",
            "value": " 12643/0 [00:13&lt;00:00, 1079.60 examples/s]"
          }
        },
        "a19a2947907747fca6b5f8507ac56715": {
          "model_module": "@jupyter-widgets/base",
          "model_name": "LayoutModel",
          "model_module_version": "1.2.0",
          "state": {
            "_model_module": "@jupyter-widgets/base",
            "_model_module_version": "1.2.0",
            "_model_name": "LayoutModel",
            "_view_count": null,
            "_view_module": "@jupyter-widgets/base",
            "_view_module_version": "1.2.0",
            "_view_name": "LayoutView",
            "align_content": null,
            "align_items": null,
            "align_self": null,
            "border": null,
            "bottom": null,
            "display": null,
            "flex": null,
            "flex_flow": null,
            "grid_area": null,
            "grid_auto_columns": null,
            "grid_auto_flow": null,
            "grid_auto_rows": null,
            "grid_column": null,
            "grid_gap": null,
            "grid_row": null,
            "grid_template_areas": null,
            "grid_template_columns": null,
            "grid_template_rows": null,
            "height": null,
            "justify_content": null,
            "justify_items": null,
            "left": null,
            "margin": null,
            "max_height": null,
            "max_width": null,
            "min_height": null,
            "min_width": null,
            "object_fit": null,
            "object_position": null,
            "order": null,
            "overflow": null,
            "overflow_x": null,
            "overflow_y": null,
            "padding": null,
            "right": null,
            "top": null,
            "visibility": null,
            "width": null
          }
        },
        "6430c4baebde4b809eec820d11c85467": {
          "model_module": "@jupyter-widgets/base",
          "model_name": "LayoutModel",
          "model_module_version": "1.2.0",
          "state": {
            "_model_module": "@jupyter-widgets/base",
            "_model_module_version": "1.2.0",
            "_model_name": "LayoutModel",
            "_view_count": null,
            "_view_module": "@jupyter-widgets/base",
            "_view_module_version": "1.2.0",
            "_view_name": "LayoutView",
            "align_content": null,
            "align_items": null,
            "align_self": null,
            "border": null,
            "bottom": null,
            "display": null,
            "flex": null,
            "flex_flow": null,
            "grid_area": null,
            "grid_auto_columns": null,
            "grid_auto_flow": null,
            "grid_auto_rows": null,
            "grid_column": null,
            "grid_gap": null,
            "grid_row": null,
            "grid_template_areas": null,
            "grid_template_columns": null,
            "grid_template_rows": null,
            "height": null,
            "justify_content": null,
            "justify_items": null,
            "left": null,
            "margin": null,
            "max_height": null,
            "max_width": null,
            "min_height": null,
            "min_width": null,
            "object_fit": null,
            "object_position": null,
            "order": null,
            "overflow": null,
            "overflow_x": null,
            "overflow_y": null,
            "padding": null,
            "right": null,
            "top": null,
            "visibility": null,
            "width": null
          }
        },
        "9e3ac7982af34e329e0e2eb868542ccc": {
          "model_module": "@jupyter-widgets/controls",
          "model_name": "DescriptionStyleModel",
          "model_module_version": "1.5.0",
          "state": {
            "_model_module": "@jupyter-widgets/controls",
            "_model_module_version": "1.5.0",
            "_model_name": "DescriptionStyleModel",
            "_view_count": null,
            "_view_module": "@jupyter-widgets/base",
            "_view_module_version": "1.2.0",
            "_view_name": "StyleView",
            "description_width": ""
          }
        },
        "b5f88e026ce5497ea166f7f08ce5f1dd": {
          "model_module": "@jupyter-widgets/base",
          "model_name": "LayoutModel",
          "model_module_version": "1.2.0",
          "state": {
            "_model_module": "@jupyter-widgets/base",
            "_model_module_version": "1.2.0",
            "_model_name": "LayoutModel",
            "_view_count": null,
            "_view_module": "@jupyter-widgets/base",
            "_view_module_version": "1.2.0",
            "_view_name": "LayoutView",
            "align_content": null,
            "align_items": null,
            "align_self": null,
            "border": null,
            "bottom": null,
            "display": null,
            "flex": null,
            "flex_flow": null,
            "grid_area": null,
            "grid_auto_columns": null,
            "grid_auto_flow": null,
            "grid_auto_rows": null,
            "grid_column": null,
            "grid_gap": null,
            "grid_row": null,
            "grid_template_areas": null,
            "grid_template_columns": null,
            "grid_template_rows": null,
            "height": null,
            "justify_content": null,
            "justify_items": null,
            "left": null,
            "margin": null,
            "max_height": null,
            "max_width": null,
            "min_height": null,
            "min_width": null,
            "object_fit": null,
            "object_position": null,
            "order": null,
            "overflow": null,
            "overflow_x": null,
            "overflow_y": null,
            "padding": null,
            "right": null,
            "top": null,
            "visibility": null,
            "width": "20px"
          }
        },
        "1724a9d35f4340488cff3b9257dc39e9": {
          "model_module": "@jupyter-widgets/controls",
          "model_name": "ProgressStyleModel",
          "model_module_version": "1.5.0",
          "state": {
            "_model_module": "@jupyter-widgets/controls",
            "_model_module_version": "1.5.0",
            "_model_name": "ProgressStyleModel",
            "_view_count": null,
            "_view_module": "@jupyter-widgets/base",
            "_view_module_version": "1.2.0",
            "_view_name": "StyleView",
            "bar_color": null,
            "description_width": ""
          }
        },
        "38879cb4793d4488a14013f69383a32f": {
          "model_module": "@jupyter-widgets/base",
          "model_name": "LayoutModel",
          "model_module_version": "1.2.0",
          "state": {
            "_model_module": "@jupyter-widgets/base",
            "_model_module_version": "1.2.0",
            "_model_name": "LayoutModel",
            "_view_count": null,
            "_view_module": "@jupyter-widgets/base",
            "_view_module_version": "1.2.0",
            "_view_name": "LayoutView",
            "align_content": null,
            "align_items": null,
            "align_self": null,
            "border": null,
            "bottom": null,
            "display": null,
            "flex": null,
            "flex_flow": null,
            "grid_area": null,
            "grid_auto_columns": null,
            "grid_auto_flow": null,
            "grid_auto_rows": null,
            "grid_column": null,
            "grid_gap": null,
            "grid_row": null,
            "grid_template_areas": null,
            "grid_template_columns": null,
            "grid_template_rows": null,
            "height": null,
            "justify_content": null,
            "justify_items": null,
            "left": null,
            "margin": null,
            "max_height": null,
            "max_width": null,
            "min_height": null,
            "min_width": null,
            "object_fit": null,
            "object_position": null,
            "order": null,
            "overflow": null,
            "overflow_x": null,
            "overflow_y": null,
            "padding": null,
            "right": null,
            "top": null,
            "visibility": null,
            "width": null
          }
        },
        "48072b81aa3a4228a7c899706cd1f918": {
          "model_module": "@jupyter-widgets/controls",
          "model_name": "DescriptionStyleModel",
          "model_module_version": "1.5.0",
          "state": {
            "_model_module": "@jupyter-widgets/controls",
            "_model_module_version": "1.5.0",
            "_model_name": "DescriptionStyleModel",
            "_view_count": null,
            "_view_module": "@jupyter-widgets/base",
            "_view_module_version": "1.2.0",
            "_view_name": "StyleView",
            "description_width": ""
          }
        }
      }
    }
  },
  "nbformat_minor": 0,
  "nbformat": 4,
  "cells": [
    {
      "cell_type": "markdown",
      "source": [
        "# Introduction\n",
        "\n",
        "The speed at which a speaker speaks can be a measurement of the quality and confidence of the speaker. If we can measure this speed, we can have a quantitative metric for grading a speakers speech. This is a difficult problem to solve using analytical methods, but possibly one that deep learning can tackle.\n",
        "\n",
        "This project aims to predict the speaking rate (words per second) from audio data using deep learning techniques. We're using the AMI (Augmented Multi-party Interaction) dataset, which contains recordings of meetings. The dataset can be found here: https://huggingface.co/datasets/edinburghcstr/ami. This dataset contains 109,682 audio files, totaling 11.5 GB.\n",
        "\n",
        "\n"
      ],
      "metadata": {
        "id": "gg3i4xJwpCik"
      }
    },
    {
      "cell_type": "code",
      "source": [
        "import numpy as np\n",
        "import pandas as pd\n",
        "import matplotlib.pyplot as plt\n",
        "from datasets import load_dataset\n",
        "import torch\n",
        "import torch.nn as nn\n",
        "import torch.optim as optim\n",
        "from torch.utils.data import Dataset, DataLoader\n",
        "from torch.nn.utils.rnn import pad_sequence, pack_padded_sequence, pad_packed_sequence\n",
        "import numpy as np\n",
        "from sklearn.metrics import r2_score\n",
        "import pickle\n",
        "from tqdm import tqdm\n",
        "import seaborn as sns"
      ],
      "metadata": {
        "execution": {
          "iopub.status.busy": "2024-08-08T02:05:48.793301Z",
          "iopub.execute_input": "2024-08-08T02:05:48.793659Z",
          "iopub.status.idle": "2024-08-08T02:05:58.015944Z",
          "shell.execute_reply.started": "2024-08-08T02:05:48.793634Z",
          "shell.execute_reply": "2024-08-08T02:05:58.015133Z"
        },
        "trusted": true,
        "id": "1fHeE43SpCil"
      },
      "execution_count": 1,
      "outputs": []
    },
    {
      "cell_type": "code",
      "source": [
        "np.__version__"
      ],
      "metadata": {
        "execution": {
          "iopub.status.busy": "2024-08-08T02:05:58.017716Z",
          "iopub.execute_input": "2024-08-08T02:05:58.018136Z",
          "iopub.status.idle": "2024-08-08T02:05:58.025006Z",
          "shell.execute_reply.started": "2024-08-08T02:05:58.018111Z",
          "shell.execute_reply": "2024-08-08T02:05:58.024023Z"
        },
        "trusted": true,
        "colab": {
          "base_uri": "https://localhost:8080/",
          "height": 35
        },
        "id": "ypG6rwoupCim",
        "outputId": "8284c041-656b-4613-c70c-24807845be92"
      },
      "execution_count": 2,
      "outputs": [
        {
          "output_type": "execute_result",
          "data": {
            "text/plain": [
              "'1.26.4'"
            ],
            "application/vnd.google.colaboratory.intrinsic+json": {
              "type": "string"
            }
          },
          "metadata": {},
          "execution_count": 2
        }
      ]
    },
    {
      "cell_type": "markdown",
      "source": [
        "# EDA\n",
        "\n",
        "In this crucial phase, we dive deep into understanding our dataset. The AMI dataset provides us with audio samples and corresponding transcriptions. Our goal is to extract meaningful insights that will inform our model design and data preprocessing steps."
      ],
      "metadata": {
        "id": "VCiNROmPpCin"
      }
    },
    {
      "cell_type": "code",
      "source": [
        "dataset = load_dataset(\"edinburghcstr/ami\", \"ihm\", trust_remote_code=True)"
      ],
      "metadata": {
        "execution": {
          "iopub.status.busy": "2024-08-08T02:05:58.026301Z",
          "iopub.execute_input": "2024-08-08T02:05:58.026929Z",
          "iopub.status.idle": "2024-08-08T02:05:59.763529Z",
          "shell.execute_reply.started": "2024-08-08T02:05:58.026896Z",
          "shell.execute_reply": "2024-08-08T02:05:59.762697Z"
        },
        "trusted": true,
        "colab": {
          "base_uri": "https://localhost:8080/",
          "height": 369,
          "referenced_widgets": [
            "c4f3f646744c4dcdb6e22fc0d40006df",
            "525284eafbdc4d9e8623f9a344fbcff8",
            "ca9fe83f60534330a38462519c934839",
            "c2e9e21fc74b40289c4dd44d2439f625",
            "4a3a100449e2451eb8894a856338e3f5",
            "a468d1e9b7be4397a62de66d3737fc36",
            "c5a25a49ca6d44fd9c568f64295dfd84",
            "80347538067c48f68594e3acac199d43",
            "64372c46b9654318a22a4f856a876751",
            "03f2939666a44943a6bea6d39356536f",
            "bf4aaf07e03b4f7ca79464a624d33acb",
            "da6678260eb646ffbc5ffd4f3761ac9f",
            "c689f5290c014ad7baed1c3184f4a55b",
            "416f15ff819344cfa45bf08cfb31fa0d",
            "f0d87bb3588743278ed4ba91ad4c13ca",
            "a6f70c5b43984760819de1d3eea12d90",
            "bbbb87f1a3d6459682161bac3f124751",
            "f36047415150499e9edeb49521c91dd2",
            "81f4264758dc47a78528994ca070c156",
            "f9b085d7f2ac4146a1f7480bb7b96777",
            "839d0ca5222941729ea20d74ed1ad29f",
            "b04f38576cda408690eb1c6b0a8341f3",
            "6122b65ea96d4a64b2f5f155355f377f",
            "63e72424e8f94fd7b2a4e1436adc0020",
            "752474e929784f079aed647c8e34d7be",
            "0bcd317d8b2c4598837082d70b91cb26",
            "da8eb67df69249c3b2da148922737006",
            "3375943de6d84d75803704b1c63380b6",
            "013c3f6260824725b96439226cac9f05",
            "2baf1b626e994cf3822523be49c43211",
            "e4b90630e42d4cbe951d9e34aa475873",
            "4c07646f311748cbbde9304321df66cb",
            "5f1dbef1a749418a848a25fbe5a5f524",
            "c16c3ea2bf2d4ce1978aa4abb60adf14",
            "4ad21ceaf7ed46e7b5f472f72b9c0f04",
            "2e7901b92132400ea4adbee51a871986",
            "c663c487eff34c749a6395d7954bd5cb",
            "17d86e58e0f4440dabb5000e9e865510",
            "0f394fa28007430fbd3e1f30cefc24d7",
            "2fd4f6f53caf48c88bfbe42695f26f03",
            "8faad9fffcc042309cda744c4481d0a0",
            "a07f392e96c24d2c995beed61a7e4725",
            "896c2395d2d846fea8c6006549466459",
            "8fe49338f1c7430085e61d17dba362e0",
            "f5aafb5e99094b278dbe498b042cec20",
            "917ed749aed44753bc8bfb20b25a73a1",
            "5f85ec9359334cdc9365d141ff02ec2a",
            "6d2cb7ef21d147be8341dd37257fa72b",
            "01aa245211554fc59277e4381127b79e",
            "af9e1e1dd72445dbb06cf36736f5a3c8",
            "9bf0160fce8d4671af275b8fa2c7fd55",
            "d35baec21c3644acb8fe05b958542a62",
            "a5a7ef1f1bc340ac9eead032245f5911",
            "4b581ac744ae44be8ca2abf5ffb54df4",
            "73e95bee68c7477c8be31878ff860544",
            "af51a84884984ccea0e669df1e0b76a5",
            "7a23f42766304d81a5fb0c751085d90a",
            "ae92b70ba90c46ad921a19ea813d6b0e",
            "ca42bf44aa6d42b18083019f7a1096ae",
            "7cf7fd9cf82e4ccbbd19ea55f800d295",
            "6c861db93c3b4994a27bcb0a01f48536",
            "eb5ab5f26e95429ea21a5f352ad3fb0c",
            "041f20393fbb4e2db1ec212eeba6b8b3",
            "6cb60dfc50ca468bafeb0463803e2ce5",
            "9cd624e082b74e4e9e76f2ee6cc0ec23",
            "97ba9059500a4bac987bcb6b014a52db",
            "b4b6118413a0477e94c77c82d252c006",
            "917f4474623f4a4e818cb3d58a859c32",
            "1012f62eb3dd491d84c3a7f6a0bb113e",
            "6c604fd9dd0f43c7ae416e68570bed05",
            "9db8be7b76194243b50e7170d3540f25",
            "5f99f8ec45d84480a64b70524956d1d1",
            "7c4ecb65a364422f90b2bcf3ed67fe64",
            "41f540c43ed14726b0d1d6d2d5683900",
            "7841e29b1f474fb39f4e67df592e6e37",
            "2910742ef61d4de88e71637f068de002",
            "2680df40052842d8af5dae3b29838af1",
            "8912e210aa2d4433ba4db547fd3635b9",
            "5fec7b659b714b14bb0a71f4c74eadc4",
            "9aa1b65fd1ff4a399b3cdef759c52aed",
            "0d4a37ab886140c1912d58f9054abe78",
            "a5a035982a6444d59cc7b3acbd0c547d",
            "1b9dfddd05724d439ad89926ab348a09",
            "4a4d4e15d98e41cf8f76e7d45c4b46ef",
            "30409967fc56478995b279d508b16ad6",
            "821f0f703fdc4ea087b4f7b8c6bb37f2",
            "f81aedbccab945f0a518ac99cfb654c8",
            "ec7702553b8c4e9c9ad5dded51c4f123",
            "247fee125b224802a456cf7d0a918de4",
            "e9d85437aa2b4b408ec6ed099c9df5e9",
            "15d2c9cb625a48a8b592f997174bc7ff",
            "a103e860916940e5893ba7c3bde7c68a",
            "eb928b967f2c4b9a9456fada8308198b",
            "75b5230e58ba40c3b130b2e790fc7aeb",
            "03bcc5e1a0634cff9a0c5239bd8d9d74",
            "6168f0cebb5b4cca8491caeea7e9505d",
            "5a01f7d40abc48a69646ee2cb22e18d7",
            "e257e934d3e34384b03fffcf95db4972",
            "1714965849c049d2a67d65bafd129ba1",
            "32f7aaf17ea84f11b0b404e1c4cd4478",
            "452cb790d4094d5b92d812dea59c3e0d",
            "ce794d2689674b6cb60c99fa870fecfd",
            "be10f49b11fa4cd49fa0029059e1bff9",
            "d96662726e2643328415dff6a0b6d880",
            "e390722d1d6e4c5da08f0fcf2296504c",
            "5659d0f15bdd4c1caade78c371e25227",
            "8f96201a0fdc4b7eb3bedd1be32e3a5e",
            "23937621fa664cfbb590b868b62311a8",
            "1437251df9a4414c820093763fbe7f30",
            "f49a4bb328de4bf5a3949d56c6c53464",
            "ed935288c50b456dae0a8f1b089eb48a",
            "3daee2353f9d4157aa8111b56c995e30",
            "22784a08a79c4072b358bea17ca4dd3f",
            "26f85ef01f04496d8260bcdf08143bff",
            "a19a2947907747fca6b5f8507ac56715",
            "6430c4baebde4b809eec820d11c85467",
            "9e3ac7982af34e329e0e2eb868542ccc",
            "b5f88e026ce5497ea166f7f08ce5f1dd",
            "1724a9d35f4340488cff3b9257dc39e9",
            "38879cb4793d4488a14013f69383a32f",
            "48072b81aa3a4228a7c899706cd1f918"
          ]
        },
        "id": "Hyct3jJXpCin",
        "outputId": "dfff6fd3-f544-4b8d-984d-15fe88698ef6"
      },
      "execution_count": 3,
      "outputs": [
        {
          "output_type": "display_data",
          "data": {
            "text/plain": [
              "Downloading builder script:   0%|          | 0.00/12.9k [00:00<?, ?B/s]"
            ],
            "application/vnd.jupyter.widget-view+json": {
              "version_major": 2,
              "version_minor": 0,
              "model_id": "c4f3f646744c4dcdb6e22fc0d40006df"
            }
          },
          "metadata": {}
        },
        {
          "output_type": "display_data",
          "data": {
            "text/plain": [
              "Downloading readme:   0%|          | 0.00/5.79k [00:00<?, ?B/s]"
            ],
            "application/vnd.jupyter.widget-view+json": {
              "version_major": 2,
              "version_minor": 0,
              "model_id": "da6678260eb646ffbc5ffd4f3761ac9f"
            }
          },
          "metadata": {}
        },
        {
          "output_type": "display_data",
          "data": {
            "text/plain": [
              "Downloading data:   0%|          | 0/137 [00:00<?, ?files/s]"
            ],
            "application/vnd.jupyter.widget-view+json": {
              "version_major": 2,
              "version_minor": 0,
              "model_id": "6122b65ea96d4a64b2f5f155355f377f"
            }
          },
          "metadata": {}
        },
        {
          "output_type": "display_data",
          "data": {
            "text/plain": [
              "Downloading data:   0%|          | 0/18 [00:00<?, ?files/s]"
            ],
            "application/vnd.jupyter.widget-view+json": {
              "version_major": 2,
              "version_minor": 0,
              "model_id": "c16c3ea2bf2d4ce1978aa4abb60adf14"
            }
          },
          "metadata": {}
        },
        {
          "output_type": "display_data",
          "data": {
            "text/plain": [
              "Downloading data:   0%|          | 0/16 [00:00<?, ?files/s]"
            ],
            "application/vnd.jupyter.widget-view+json": {
              "version_major": 2,
              "version_minor": 0,
              "model_id": "f5aafb5e99094b278dbe498b042cec20"
            }
          },
          "metadata": {}
        },
        {
          "output_type": "display_data",
          "data": {
            "text/plain": [
              "Downloading data:   0%|          | 0.00/8.24M [00:00<?, ?B/s]"
            ],
            "application/vnd.jupyter.widget-view+json": {
              "version_major": 2,
              "version_minor": 0,
              "model_id": "af51a84884984ccea0e669df1e0b76a5"
            }
          },
          "metadata": {}
        },
        {
          "output_type": "display_data",
          "data": {
            "text/plain": [
              "Downloading data:   0%|          | 0.00/979k [00:00<?, ?B/s]"
            ],
            "application/vnd.jupyter.widget-view+json": {
              "version_major": 2,
              "version_minor": 0,
              "model_id": "b4b6118413a0477e94c77c82d252c006"
            }
          },
          "metadata": {}
        },
        {
          "output_type": "display_data",
          "data": {
            "text/plain": [
              "Downloading data:   0%|          | 0.00/944k [00:00<?, ?B/s]"
            ],
            "application/vnd.jupyter.widget-view+json": {
              "version_major": 2,
              "version_minor": 0,
              "model_id": "8912e210aa2d4433ba4db547fd3635b9"
            }
          },
          "metadata": {}
        },
        {
          "output_type": "display_data",
          "data": {
            "text/plain": [
              "Generating train split: 0 examples [00:00, ? examples/s]"
            ],
            "application/vnd.jupyter.widget-view+json": {
              "version_major": 2,
              "version_minor": 0,
              "model_id": "247fee125b224802a456cf7d0a918de4"
            }
          },
          "metadata": {}
        },
        {
          "output_type": "display_data",
          "data": {
            "text/plain": [
              "Generating validation split: 0 examples [00:00, ? examples/s]"
            ],
            "application/vnd.jupyter.widget-view+json": {
              "version_major": 2,
              "version_minor": 0,
              "model_id": "32f7aaf17ea84f11b0b404e1c4cd4478"
            }
          },
          "metadata": {}
        },
        {
          "output_type": "display_data",
          "data": {
            "text/plain": [
              "Generating test split: 0 examples [00:00, ? examples/s]"
            ],
            "application/vnd.jupyter.widget-view+json": {
              "version_major": 2,
              "version_minor": 0,
              "model_id": "ed935288c50b456dae0a8f1b089eb48a"
            }
          },
          "metadata": {}
        }
      ]
    },
    {
      "cell_type": "markdown",
      "source": [
        "We can see that the data contains:\n",
        "- Text, this will be useful in getting total number of words\n",
        "- audio, this will be the input to our model\n",
        "- begin_time\n",
        "- end_time"
      ],
      "metadata": {
        "id": "00PA8Id_pCip"
      }
    },
    {
      "cell_type": "code",
      "source": [
        "dataset['train'][0]"
      ],
      "metadata": {
        "execution": {
          "iopub.status.busy": "2024-08-08T02:06:00.058282Z",
          "iopub.execute_input": "2024-08-08T02:06:00.058680Z",
          "iopub.status.idle": "2024-08-08T02:06:02.141694Z",
          "shell.execute_reply.started": "2024-08-08T02:06:00.058650Z",
          "shell.execute_reply": "2024-08-08T02:06:02.140669Z"
        },
        "trusted": true,
        "colab": {
          "base_uri": "https://localhost:8080/"
        },
        "id": "Vi1aTudDpCip",
        "outputId": "9559df36-d88a-48bc-d7df-847cc3965b74"
      },
      "execution_count": 4,
      "outputs": [
        {
          "output_type": "execute_result",
          "data": {
            "text/plain": [
              "{'meeting_id': 'EN2001a',\n",
              " 'audio_id': 'AMI_EN2001a_H04_MEO069_0330297_0330718',\n",
              " 'text': 'IF YOU IF YOU S. S. H. AND THEY HAVE THIS BIG WARNING ABOUT DOING NOTHING AT ALL IN THE GATEWAY MACHINE',\n",
              " 'audio': {'path': '/root/.cache/huggingface/datasets/downloads/extracted/b093dd855ad7f053bb12157f9ce4b51aaeaf29ccaf78fdc8150b3a8125130e2b/EN2001a/train_ami_en2001a_h04_meo069_0330297_0330718.wav',\n",
              "  'array': array([ 0.00231934, -0.00183105, -0.00543213, ..., -0.00238037,\n",
              "         -0.00244141, -0.00219727]),\n",
              "  'sampling_rate': 16000},\n",
              " 'begin_time': 3302.969970703125,\n",
              " 'end_time': 3307.179931640625,\n",
              " 'microphone_id': 'H04',\n",
              " 'speaker_id': 'MEO069'}"
            ]
          },
          "metadata": {},
          "execution_count": 4
        }
      ]
    },
    {
      "cell_type": "markdown",
      "source": [
        "## Loading and Visualizing the Data\n",
        "\n",
        "We start by loading the AMI dataset using the datasets library. We then visualize a couple of audio samples to get a feel for the data we're working with. This visualization helps us understand the structure and potential patterns in the audio signals."
      ],
      "metadata": {
        "id": "8tJMCCSrpCir"
      }
    },
    {
      "cell_type": "code",
      "source": [
        "audio_sample = dataset['train'][0]['audio']['array']\n",
        "fig, ax = plt.subplots()\n",
        "ax.plot(audio_sample)\n",
        "fig.show()\n",
        "\n",
        "audio_sample = dataset['train'][1]['audio']['array']\n",
        "fig, ax = plt.subplots()\n",
        "ax.plot(audio_sample)\n",
        "fig.show()"
      ],
      "metadata": {
        "execution": {
          "iopub.status.busy": "2024-08-08T02:06:06.846057Z",
          "iopub.execute_input": "2024-08-08T02:06:06.846741Z",
          "iopub.status.idle": "2024-08-08T02:06:07.497562Z",
          "shell.execute_reply.started": "2024-08-08T02:06:06.846706Z",
          "shell.execute_reply": "2024-08-08T02:06:07.496619Z"
        },
        "trusted": true,
        "colab": {
          "base_uri": "https://localhost:8080/",
          "height": 843
        },
        "id": "zv9_h4FZpCir",
        "outputId": "1107cd25-50ff-4a28-e8b7-423563cd60a1"
      },
      "execution_count": 5,
      "outputs": [
        {
          "output_type": "display_data",
          "data": {
            "text/plain": [
              "<Figure size 640x480 with 1 Axes>"
            ],
            "image/png": "[encoded data removed]"
          },
          "metadata": {}
        },
        {
          "output_type": "display_data",
          "data": {
            "text/plain": [
              "<Figure size 640x480 with 1 Axes>"
            ],
            "image/png": "[encoded data removed]"
          },
          "metadata": {}
        }
      ]
    },
    {
      "cell_type": "code",
      "source": [
        "len(dataset['train'])\n"
      ],
      "metadata": {
        "execution": {
          "iopub.status.busy": "2024-08-08T02:06:08.352058Z",
          "iopub.execute_input": "2024-08-08T02:06:08.352708Z",
          "iopub.status.idle": "2024-08-08T02:06:08.358911Z",
          "shell.execute_reply.started": "2024-08-08T02:06:08.352674Z",
          "shell.execute_reply": "2024-08-08T02:06:08.357986Z"
        },
        "trusted": true,
        "colab": {
          "base_uri": "https://localhost:8080/"
        },
        "id": "oyYeH_wBpCir",
        "outputId": "76a8f71f-4b67-4363-bc57-db76d4653816"
      },
      "execution_count": 6,
      "outputs": [
        {
          "output_type": "execute_result",
          "data": {
            "text/plain": [
              "108502"
            ]
          },
          "metadata": {},
          "execution_count": 6
        }
      ]
    },
    {
      "cell_type": "code",
      "source": [
        "def transform_dataset(dataset, limit, category='train'):\n",
        "    data = {'audio': [], 'wps': []}\n",
        "    for i in range(limit):\n",
        "        row_data = dataset[category][i]\n",
        "        audio_data = row_data['audio']['array']\n",
        "        word_count = len(row_data['text'].split())\n",
        "        speech_time = row_data['end_time'] - row_data['begin_time']\n",
        "        words_per_second = (word_count / speech_time)\n",
        "        data['audio'].append(audio_data)\n",
        "        data['wps'].append(words_per_second)\n",
        "    return data"
      ],
      "metadata": {
        "execution": {
          "iopub.status.busy": "2024-08-08T02:06:08.826886Z",
          "iopub.execute_input": "2024-08-08T02:06:08.827231Z",
          "iopub.status.idle": "2024-08-08T02:06:08.834046Z",
          "shell.execute_reply.started": "2024-08-08T02:06:08.827202Z",
          "shell.execute_reply": "2024-08-08T02:06:08.833064Z"
        },
        "trusted": true,
        "id": "cZ5aSgF2pCit"
      },
      "execution_count": 7,
      "outputs": []
    },
    {
      "cell_type": "code",
      "source": [
        "reduced_dataset = transform_dataset(dataset, 20_000, category='train')"
      ],
      "metadata": {
        "execution": {
          "iopub.status.busy": "2024-08-08T02:06:09.454438Z",
          "iopub.execute_input": "2024-08-08T02:06:09.454784Z",
          "iopub.status.idle": "2024-08-08T02:06:39.097223Z",
          "shell.execute_reply.started": "2024-08-08T02:06:09.454759Z",
          "shell.execute_reply": "2024-08-08T02:06:39.096390Z"
        },
        "trusted": true,
        "id": "JO8fxDv1pCiu"
      },
      "execution_count": 8,
      "outputs": []
    },
    {
      "cell_type": "code",
      "source": [
        "df = pd.DataFrame(reduced_dataset)\n",
        "df"
      ],
      "metadata": {
        "execution": {
          "iopub.status.busy": "2024-08-08T02:06:39.098820Z",
          "iopub.execute_input": "2024-08-08T02:06:39.099143Z",
          "iopub.status.idle": "2024-08-08T02:06:39.142463Z",
          "shell.execute_reply.started": "2024-08-08T02:06:39.099116Z",
          "shell.execute_reply": "2024-08-08T02:06:39.141556Z"
        },
        "trusted": true,
        "colab": {
          "base_uri": "https://localhost:8080/",
          "height": 424
        },
        "id": "7DUBkmDPpCiu",
        "outputId": "1292273f-53d4-4e87-c513-ac4b61a262a8"
      },
      "execution_count": 9,
      "outputs": [
        {
          "output_type": "execute_result",
          "data": {
            "text/plain": [
              "                                                   audio       wps\n",
              "0      [0.0023193359375, -0.0018310546875, -0.0054321...  5.225702\n",
              "1      [-0.000518798828125, 0.0001220703125, 0.000122...  3.067705\n",
              "2      [-0.000152587890625, -0.000213623046875, -0.00...  2.857143\n",
              "3      [0.0, 0.0, 6.103515625e-05, 3.0517578125e-05, ...  3.139720\n",
              "4      [-0.001495361328125, -0.001495361328125, -0.00...  2.701847\n",
              "...                                                  ...       ...\n",
              "19995  [-3.0517578125e-05, -3.0517578125e-05, 0.0, 3....  3.881720\n",
              "19996  [-0.0057373046875, -0.005401611328125, -0.0046...  2.564006\n",
              "19997  [-0.00738525390625, -0.007354736328125, -0.007...  2.524542\n",
              "19998  [0.0, -3.0517578125e-05, 0.0, 0.0, 0.0, 0.0, 0...  3.242329\n",
              "19999  [-3.0517578125e-05, -6.103515625e-05, -9.15527...  3.449263\n",
              "\n",
              "[20000 rows x 2 columns]"
            ],
            "text/html": [
              "\n",
              "  <div id=\"df-40ec9e1a-b38e-45e0-81d3-4ac4737e40d3\" class=\"colab-df-container\">\n",
              "    <div>\n",
              "<style scoped>\n",
              "    .dataframe tbody tr th:only-of-type {\n",
              "        vertical-align: middle;\n",
              "    }\n",
              "\n",
              "    .dataframe tbody tr th {\n",
              "        vertical-align: top;\n",
              "    }\n",
              "\n",
              "    .dataframe thead th {\n",
              "        text-align: right;\n",
              "    }\n",
              "</style>\n",
              "<table border=\"1\" class=\"dataframe\">\n",
              "  <thead>\n",
              "    <tr style=\"text-align: right;\">\n",
              "      <th></th>\n",
              "      <th>audio</th>\n",
              "      <th>wps</th>\n",
              "    </tr>\n",
              "  </thead>\n",
              "  <tbody>\n",
              "    <tr>\n",
              "      <th>0</th>\n",
              "      <td>[0.0023193359375, -0.0018310546875, -0.0054321...</td>\n",
              "      <td>5.225702</td>\n",
              "    </tr>\n",
              "    <tr>\n",
              "      <th>1</th>\n",
              "      <td>[-0.000518798828125, 0.0001220703125, 0.000122...</td>\n",
              "      <td>3.067705</td>\n",
              "    </tr>\n",
              "    <tr>\n",
              "      <th>2</th>\n",
              "      <td>[-0.000152587890625, -0.000213623046875, -0.00...</td>\n",
              "      <td>2.857143</td>\n",
              "    </tr>\n",
              "    <tr>\n",
              "      <th>3</th>\n",
              "      <td>[0.0, 0.0, 6.103515625e-05, 3.0517578125e-05, ...</td>\n",
              "      <td>3.139720</td>\n",
              "    </tr>\n",
              "    <tr>\n",
              "      <th>4</th>\n",
              "      <td>[-0.001495361328125, -0.001495361328125, -0.00...</td>\n",
              "      <td>2.701847</td>\n",
              "    </tr>\n",
              "    <tr>\n",
              "      <th>...</th>\n",
              "      <td>...</td>\n",
              "      <td>...</td>\n",
              "    </tr>\n",
              "    <tr>\n",
              "      <th>19995</th>\n",
              "      <td>[-3.0517578125e-05, -3.0517578125e-05, 0.0, 3....</td>\n",
              "      <td>3.881720</td>\n",
              "    </tr>\n",
              "    <tr>\n",
              "      <th>19996</th>\n",
              "      <td>[-0.0057373046875, -0.005401611328125, -0.0046...</td>\n",
              "      <td>2.564006</td>\n",
              "    </tr>\n",
              "    <tr>\n",
              "      <th>19997</th>\n",
              "      <td>[-0.00738525390625, -0.007354736328125, -0.007...</td>\n",
              "      <td>2.524542</td>\n",
              "    </tr>\n",
              "    <tr>\n",
              "      <th>19998</th>\n",
              "      <td>[0.0, -3.0517578125e-05, 0.0, 0.0, 0.0, 0.0, 0...</td>\n",
              "      <td>3.242329</td>\n",
              "    </tr>\n",
              "    <tr>\n",
              "      <th>19999</th>\n",
              "      <td>[-3.0517578125e-05, -6.103515625e-05, -9.15527...</td>\n",
              "      <td>3.449263</td>\n",
              "    </tr>\n",
              "  </tbody>\n",
              "</table>\n",
              "<p>20000 rows × 2 columns</p>\n",
              "</div>\n",
              "    <div class=\"colab-df-buttons\">\n",
              "\n",
              "  <div class=\"colab-df-container\">\n",
              "    <button class=\"colab-df-convert\" onclick=\"convertToInteractive('df-40ec9e1a-b38e-45e0-81d3-4ac4737e40d3')\"\n",
              "            title=\"Convert this dataframe to an interactive table.\"\n",
              "            style=\"display:none;\">\n",
              "\n",
              "  <svg xmlns=\"http://www.w3.org/2000/svg\" height=\"24px\" viewBox=\"0 -960 960 960\">\n",
              "    <path d=\"M120-120v-720h720v720H120Zm60-500h600v-160H180v160Zm220 220h160v-160H400v160Zm0 220h160v-160H400v160ZM180-400h160v-160H180v160Zm440 0h160v-160H620v160ZM180-180h160v-160H180v160Zm440 0h160v-160H620v160Z\"/>\n",
              "  </svg>\n",
              "    </button>\n",
              "\n",
              "  <style>\n",
              "    .colab-df-container {\n",
              "      display:flex;\n",
              "      gap: 12px;\n",
              "    }\n",
              "\n",
              "    .colab-df-convert {\n",
              "      background-color: #E8F0FE;\n",
              "      border: none;\n",
              "      border-radius: 50%;\n",
              "      cursor: pointer;\n",
              "      display: none;\n",
              "      fill: #1967D2;\n",
              "      height: 32px;\n",
              "      padding: 0 0 0 0;\n",
              "      width: 32px;\n",
              "    }\n",
              "\n",
              "    .colab-df-convert:hover {\n",
              "      background-color: #E2EBFA;\n",
              "      box-shadow: 0px 1px 2px rgba(60, 64, 67, 0.3), 0px 1px 3px 1px rgba(60, 64, 67, 0.15);\n",
              "      fill: #174EA6;\n",
              "    }\n",
              "\n",
              "    .colab-df-buttons div {\n",
              "      margin-bottom: 4px;\n",
              "    }\n",
              "\n",
              "    [theme=dark] .colab-df-convert {\n",
              "      background-color: #3B4455;\n",
              "      fill: #D2E3FC;\n",
              "    }\n",
              "\n",
              "    [theme=dark] .colab-df-convert:hover {\n",
              "      background-color: #434B5C;\n",
              "      box-shadow: 0px 1px 3px 1px rgba(0, 0, 0, 0.15);\n",
              "      filter: drop-shadow(0px 1px 2px rgba(0, 0, 0, 0.3));\n",
              "      fill: #FFFFFF;\n",
              "    }\n",
              "  </style>\n",
              "\n",
              "    <script>\n",
              "      const buttonEl =\n",
              "        document.querySelector('#df-40ec9e1a-b38e-45e0-81d3-4ac4737e40d3 button.colab-df-convert');\n",
              "      buttonEl.style.display =\n",
              "        google.colab.kernel.accessAllowed ? 'block' : 'none';\n",
              "\n",
              "      async function convertToInteractive(key) {\n",
              "        const element = document.querySelector('#df-40ec9e1a-b38e-45e0-81d3-4ac4737e40d3');\n",
              "        const dataTable =\n",
              "          await google.colab.kernel.invokeFunction('convertToInteractive',\n",
              "                                                    [key], {});\n",
              "        if (!dataTable) return;\n",
              "\n",
              "        const docLinkHtml = 'Like what you see? Visit the ' +\n",
              "          '<a target=\"_blank\" href=https://colab.research.google.com/notebooks/data_table.ipynb>data table notebook</a>'\n",
              "          + ' to learn more about interactive tables.';\n",
              "        element.innerHTML = '';\n",
              "        dataTable['output_type'] = 'display_data';\n",
              "        await google.colab.output.renderOutput(dataTable, element);\n",
              "        const docLink = document.createElement('div');\n",
              "        docLink.innerHTML = docLinkHtml;\n",
              "        element.appendChild(docLink);\n",
              "      }\n",
              "    </script>\n",
              "  </div>\n",
              "\n",
              "\n",
              "<div id=\"df-8d49ea3f-a9dd-4b06-9c86-de67a78d2356\">\n",
              "  <button class=\"colab-df-quickchart\" onclick=\"quickchart('df-8d49ea3f-a9dd-4b06-9c86-de67a78d2356')\"\n",
              "            title=\"Suggest charts\"\n",
              "            style=\"display:none;\">\n",
              "\n",
              "<svg xmlns=\"http://www.w3.org/2000/svg\" height=\"24px\"viewBox=\"0 0 24 24\"\n",
              "     width=\"24px\">\n",
              "    <g>\n",
              "        <path d=\"M19 3H5c-1.1 0-2 .9-2 2v14c0 1.1.9 2 2 2h14c1.1 0 2-.9 2-2V5c0-1.1-.9-2-2-2zM9 17H7v-7h2v7zm4 0h-2V7h2v10zm4 0h-2v-4h2v4z\"/>\n",
              "    </g>\n",
              "</svg>\n",
              "  </button>\n",
              "\n",
              "<style>\n",
              "  .colab-df-quickchart {\n",
              "      --bg-color: #E8F0FE;\n",
              "      --fill-color: #1967D2;\n",
              "      --hover-bg-color: #E2EBFA;\n",
              "      --hover-fill-color: #174EA6;\n",
              "      --disabled-fill-color: #AAA;\n",
              "      --disabled-bg-color: #DDD;\n",
              "  }\n",
              "\n",
              "  [theme=dark] .colab-df-quickchart {\n",
              "      --bg-color: #3B4455;\n",
              "      --fill-color: #D2E3FC;\n",
              "      --hover-bg-color: #434B5C;\n",
              "      --hover-fill-color: #FFFFFF;\n",
              "      --disabled-bg-color: #3B4455;\n",
              "      --disabled-fill-color: #666;\n",
              "  }\n",
              "\n",
              "  .colab-df-quickchart {\n",
              "    background-color: var(--bg-color);\n",
              "    border: none;\n",
              "    border-radius: 50%;\n",
              "    cursor: pointer;\n",
              "    display: none;\n",
              "    fill: var(--fill-color);\n",
              "    height: 32px;\n",
              "    padding: 0;\n",
              "    width: 32px;\n",
              "  }\n",
              "\n",
              "  .colab-df-quickchart:hover {\n",
              "    background-color: var(--hover-bg-color);\n",
              "    box-shadow: 0 1px 2px rgba(60, 64, 67, 0.3), 0 1px 3px 1px rgba(60, 64, 67, 0.15);\n",
              "    fill: var(--button-hover-fill-color);\n",
              "  }\n",
              "\n",
              "  .colab-df-quickchart-complete:disabled,\n",
              "  .colab-df-quickchart-complete:disabled:hover {\n",
              "    background-color: var(--disabled-bg-color);\n",
              "    fill: var(--disabled-fill-color);\n",
              "    box-shadow: none;\n",
              "  }\n",
              "\n",
              "  .colab-df-spinner {\n",
              "    border: 2px solid var(--fill-color);\n",
              "    border-color: transparent;\n",
              "    border-bottom-color: var(--fill-color);\n",
              "    animation:\n",
              "      spin 1s steps(1) infinite;\n",
              "  }\n",
              "\n",
              "  @keyframes spin {\n",
              "    0% {\n",
              "      border-color: transparent;\n",
              "      border-bottom-color: var(--fill-color);\n",
              "      border-left-color: var(--fill-color);\n",
              "    }\n",
              "    20% {\n",
              "      border-color: transparent;\n",
              "      border-left-color: var(--fill-color);\n",
              "      border-top-color: var(--fill-color);\n",
              "    }\n",
              "    30% {\n",
              "      border-color: transparent;\n",
              "      border-left-color: var(--fill-color);\n",
              "      border-top-color: var(--fill-color);\n",
              "      border-right-color: var(--fill-color);\n",
              "    }\n",
              "    40% {\n",
              "      border-color: transparent;\n",
              "      border-right-color: var(--fill-color);\n",
              "      border-top-color: var(--fill-color);\n",
              "    }\n",
              "    60% {\n",
              "      border-color: transparent;\n",
              "      border-right-color: var(--fill-color);\n",
              "    }\n",
              "    80% {\n",
              "      border-color: transparent;\n",
              "      border-right-color: var(--fill-color);\n",
              "      border-bottom-color: var(--fill-color);\n",
              "    }\n",
              "    90% {\n",
              "      border-color: transparent;\n",
              "      border-bottom-color: var(--fill-color);\n",
              "    }\n",
              "  }\n",
              "</style>\n",
              "\n",
              "  <script>\n",
              "    async function quickchart(key) {\n",
              "      const quickchartButtonEl =\n",
              "        document.querySelector('#' + key + ' button');\n",
              "      quickchartButtonEl.disabled = true;  // To prevent multiple clicks.\n",
              "      quickchartButtonEl.classList.add('colab-df-spinner');\n",
              "      try {\n",
              "        const charts = await google.colab.kernel.invokeFunction(\n",
              "            'suggestCharts', [key], {});\n",
              "      } catch (error) {\n",
              "        console.error('Error during call to suggestCharts:', error);\n",
              "      }\n",
              "      quickchartButtonEl.classList.remove('colab-df-spinner');\n",
              "      quickchartButtonEl.classList.add('colab-df-quickchart-complete');\n",
              "    }\n",
              "    (() => {\n",
              "      let quickchartButtonEl =\n",
              "        document.querySelector('#df-8d49ea3f-a9dd-4b06-9c86-de67a78d2356 button');\n",
              "      quickchartButtonEl.style.display =\n",
              "        google.colab.kernel.accessAllowed ? 'block' : 'none';\n",
              "    })();\n",
              "  </script>\n",
              "</div>\n",
              "\n",
              "  <div id=\"id_d067a2cc-22c1-49ac-8ac5-a0c38cda1c2f\">\n",
              "    <style>\n",
              "      .colab-df-generate {\n",
              "        background-color: #E8F0FE;\n",
              "        border: none;\n",
              "        border-radius: 50%;\n",
              "        cursor: pointer;\n",
              "        display: none;\n",
              "        fill: #1967D2;\n",
              "        height: 32px;\n",
              "        padding: 0 0 0 0;\n",
              "        width: 32px;\n",
              "      }\n",
              "\n",
              "      .colab-df-generate:hover {\n",
              "        background-color: #E2EBFA;\n",
              "        box-shadow: 0px 1px 2px rgba(60, 64, 67, 0.3), 0px 1px 3px 1px rgba(60, 64, 67, 0.15);\n",
              "        fill: #174EA6;\n",
              "      }\n",
              "\n",
              "      [theme=dark] .colab-df-generate {\n",
              "        background-color: #3B4455;\n",
              "        fill: #D2E3FC;\n",
              "      }\n",
              "\n",
              "      [theme=dark] .colab-df-generate:hover {\n",
              "        background-color: #434B5C;\n",
              "        box-shadow: 0px 1px 3px 1px rgba(0, 0, 0, 0.15);\n",
              "        filter: drop-shadow(0px 1px 2px rgba(0, 0, 0, 0.3));\n",
              "        fill: #FFFFFF;\n",
              "      }\n",
              "    </style>\n",
              "    <button class=\"colab-df-generate\" onclick=\"generateWithVariable('df')\"\n",
              "            title=\"Generate code using this dataframe.\"\n",
              "            style=\"display:none;\">\n",
              "\n",
              "  <svg xmlns=\"http://www.w3.org/2000/svg\" height=\"24px\"viewBox=\"0 0 24 24\"\n",
              "       width=\"24px\">\n",
              "    <path d=\"M7,19H8.4L18.45,9,17,7.55,7,17.6ZM5,21V16.75L18.45,3.32a2,2,0,0,1,2.83,0l1.4,1.43a1.91,1.91,0,0,1,.58,1.4,1.91,1.91,0,0,1-.58,1.4L9.25,21ZM18.45,9,17,7.55Zm-12,3A5.31,5.31,0,0,0,4.9,8.1,5.31,5.31,0,0,0,1,6.5,5.31,5.31,0,0,0,4.9,4.9,5.31,5.31,0,0,0,6.5,1,5.31,5.31,0,0,0,8.1,4.9,5.31,5.31,0,0,0,12,6.5,5.46,5.46,0,0,0,6.5,12Z\"/>\n",
              "  </svg>\n",
              "    </button>\n",
              "    <script>\n",
              "      (() => {\n",
              "      const buttonEl =\n",
              "        document.querySelector('#id_d067a2cc-22c1-49ac-8ac5-a0c38cda1c2f button.colab-df-generate');\n",
              "      buttonEl.style.display =\n",
              "        google.colab.kernel.accessAllowed ? 'block' : 'none';\n",
              "\n",
              "      buttonEl.onclick = () => {\n",
              "        google.colab.notebook.generateWithVariable('df');\n",
              "      }\n",
              "      })();\n",
              "    </script>\n",
              "  </div>\n",
              "\n",
              "    </div>\n",
              "  </div>\n"
            ],
            "application/vnd.google.colaboratory.intrinsic+json": {
              "type": "dataframe",
              "variable_name": "df",
              "summary": "{\n  \"name\": \"df\",\n  \"rows\": 20000,\n  \"fields\": [\n    {\n      \"column\": \"audio\",\n      \"properties\": {\n        \"dtype\": \"object\",\n        \"semantic_type\": \"\",\n        \"description\": \"\"\n      }\n    },\n    {\n      \"column\": \"wps\",\n      \"properties\": {\n        \"dtype\": \"number\",\n        \"std\": 1.6864499091956695,\n        \"min\": 0.04638219449154821,\n        \"max\": 49.951219512195124,\n        \"num_unique_values\": 9193,\n        \"samples\": [\n          2.1660735729945904,\n          6.557370488030617,\n          2.2058665134814923\n        ],\n        \"semantic_type\": \"\",\n        \"description\": \"\"\n      }\n    }\n  ]\n}"
            }
          },
          "metadata": {},
          "execution_count": 9
        }
      ]
    },
    {
      "cell_type": "markdown",
      "source": [
        "A key aspect of our project is understanding the distribution of speaking rates. We calculate words per second for each audio sample and visualize this distribution using a kernel density estimation plot. This analysis reveals:\n",
        "\n",
        "- The range of speaking rates in our dataset\n",
        "- Potential outliers or unrealistic values\n",
        "- The central tendency and spread of speaking rates\n",
        "\n",
        "Based on our findings, we clean the data by removing samples with unrealistically high speaking rates (above 10 words per second). This step ensures our model trains on more reliable data."
      ],
      "metadata": {
        "id": "E9J8H38bpCiv"
      }
    },
    {
      "cell_type": "code",
      "source": [
        "sns.kdeplot(data=df, x='wps', fill=True, alpha=0.5)\n",
        "print(\"Words Per Second mean: \", df['wps'].mean())\n",
        "print(\"Words Per Second max: \", df['wps'].max())\n",
        "print(\"Words Per Second min: \", df['wps'].min())"
      ],
      "metadata": {
        "execution": {
          "iopub.status.busy": "2024-08-08T02:06:39.143487Z",
          "iopub.execute_input": "2024-08-08T02:06:39.143755Z",
          "iopub.status.idle": "2024-08-08T02:06:39.664295Z",
          "shell.execute_reply.started": "2024-08-08T02:06:39.143731Z",
          "shell.execute_reply": "2024-08-08T02:06:39.663388Z"
        },
        "trusted": true,
        "colab": {
          "base_uri": "https://localhost:8080/",
          "height": 501
        },
        "id": "gVPDuO9JpCiv",
        "outputId": "66b2a227-7720-4a39-eb5e-b12689e197a6"
      },
      "execution_count": 10,
      "outputs": [
        {
          "output_type": "stream",
          "name": "stdout",
          "text": [
            "Words Per Second mean:  3.2820695477180153\n",
            "Words Per Second max:  49.951219512195124\n",
            "Words Per Second min:  0.04638219449154821\n"
          ]
        },
        {
          "output_type": "display_data",
          "data": {
            "text/plain": [
              "<Figure size 640x480 with 1 Axes>"
            ],
            "image/png": "[encoded data removed]"
          },
          "metadata": {}
        }
      ]
    },
    {
      "cell_type": "markdown",
      "source": [
        "49 words per second seems odd, even for an auctioneer. I'm going to drop anything above 10 words per second, as that seems unrealistic"
      ],
      "metadata": {
        "id": "DsCJGprzpCiw"
      }
    },
    {
      "cell_type": "code",
      "source": [
        "df = df.loc[df['wps'] < 10.0]"
      ],
      "metadata": {
        "execution": {
          "iopub.status.busy": "2024-08-08T02:06:39.666554Z",
          "iopub.execute_input": "2024-08-08T02:06:39.666847Z",
          "iopub.status.idle": "2024-08-08T02:06:39.673128Z",
          "shell.execute_reply.started": "2024-08-08T02:06:39.666821Z",
          "shell.execute_reply": "2024-08-08T02:06:39.672094Z"
        },
        "trusted": true,
        "id": "T8dUqSk3pCiw"
      },
      "execution_count": 11,
      "outputs": []
    },
    {
      "cell_type": "code",
      "source": [
        "\n",
        "sns.kdeplot(data=df, x='wps', fill=True, alpha=0.5)\n",
        "print(\"Words Per Second mean: \", df['wps'].mean())\n",
        "print(\"Words Per Second max: \", df['wps'].max())\n",
        "print(\"Words Per Second min: \", df['wps'].min())"
      ],
      "metadata": {
        "execution": {
          "iopub.status.busy": "2024-08-08T02:06:39.674397Z",
          "iopub.execute_input": "2024-08-08T02:06:39.674726Z",
          "iopub.status.idle": "2024-08-08T02:06:40.042297Z",
          "shell.execute_reply.started": "2024-08-08T02:06:39.674699Z",
          "shell.execute_reply": "2024-08-08T02:06:40.041377Z"
        },
        "trusted": true,
        "colab": {
          "base_uri": "https://localhost:8080/",
          "height": 501
        },
        "id": "AZzpsUkKpCiw",
        "outputId": "0295533b-4139-439f-87fd-4fa25a505201"
      },
      "execution_count": 12,
      "outputs": [
        {
          "output_type": "stream",
          "name": "stdout",
          "text": [
            "Words Per Second mean:  3.2398732894205735\n",
            "Words Per Second max:  9.990243902439024\n",
            "Words Per Second min:  0.04638219449154821\n"
          ]
        },
        {
          "output_type": "display_data",
          "data": {
            "text/plain": [
              "<Figure size 640x480 with 1 Axes>"
            ],
            "image/png": "[encoded data removed]"
          },
          "metadata": {}
        }
      ]
    },
    {
      "cell_type": "markdown",
      "source": [
        "10 words per second is probably still a little too high, but we will leave it in there. Our mean moved slightly to the left when we dropped those high values, which is expected."
      ],
      "metadata": {
        "id": "8WKFZDOUpCix"
      }
    },
    {
      "cell_type": "markdown",
      "source": [
        "## Normalization\n",
        "\n",
        "Data normalization is crucial for effective neural network training. We apply two types of normalization:\n",
        "\n",
        "Words per second normalization: We scale the WPS values to a 0-1 range, which is a common practice for regression tasks.\n",
        "Audio normalization: We apply Root Mean Square (RMS) normalization to standardize the volume levels across all audio samples.\n",
        "\n",
        "These normalization steps help in creating a consistent scale across our features and target variable, potentially leading to faster convergence during training."
      ],
      "metadata": {
        "id": "db-nh8HFpCix"
      }
    },
    {
      "cell_type": "code",
      "source": [
        "# Words per second normalization\n",
        "# We know that words per second range from 0-10 so we can simply divide by 10 to min-max normalize to 0-1\n",
        "df['wps'] = df['wps'] / 10.0"
      ],
      "metadata": {
        "execution": {
          "iopub.status.busy": "2024-08-08T02:06:40.043799Z",
          "iopub.execute_input": "2024-08-08T02:06:40.044183Z",
          "iopub.status.idle": "2024-08-08T02:06:40.050523Z",
          "shell.execute_reply.started": "2024-08-08T02:06:40.044146Z",
          "shell.execute_reply": "2024-08-08T02:06:40.049546Z"
        },
        "trusted": true,
        "colab": {
          "base_uri": "https://localhost:8080/"
        },
        "id": "uFiZem9QpCix",
        "outputId": "041b0bf7-433c-46dd-b74e-599e483c653d"
      },
      "execution_count": 13,
      "outputs": [
        {
          "output_type": "stream",
          "name": "stderr",
          "text": [
            "<ipython-input-13-59bdb3155e9d>:3: SettingWithCopyWarning: \n",
            "A value is trying to be set on a copy of a slice from a DataFrame.\n",
            "Try using .loc[row_indexer,col_indexer] = value instead\n",
            "\n",
            "See the caveats in the documentation: https://pandas.pydata.org/pandas-docs/stable/user_guide/indexing.html#returning-a-view-versus-a-copy\n",
            "  df['wps'] = df['wps'] / 10.0\n"
          ]
        }
      ]
    },
    {
      "cell_type": "code",
      "source": [
        "# Audio normalization\n",
        "\n",
        "def rms_normalization(arr, target_rms):\n",
        "    current_rms = np.sqrt(np.mean(np.square(arr)))\n",
        "    scaling_factor = target_rms / current_rms if current_rms > 0 else 1\n",
        "    return arr * scaling_factor\n",
        "\n",
        "df['audio'] = df['audio'].apply(lambda x: rms_normalization(x, 0.1))"
      ],
      "metadata": {
        "execution": {
          "iopub.status.busy": "2024-08-08T02:06:40.051706Z",
          "iopub.execute_input": "2024-08-08T02:06:40.051968Z",
          "iopub.status.idle": "2024-08-08T02:06:44.826821Z",
          "shell.execute_reply.started": "2024-08-08T02:06:40.051945Z",
          "shell.execute_reply": "2024-08-08T02:06:44.825812Z"
        },
        "trusted": true,
        "colab": {
          "base_uri": "https://localhost:8080/"
        },
        "id": "zUiCuEE3pCix",
        "outputId": "39dafb13-6052-47ff-af28-a8151e212e26"
      },
      "execution_count": 14,
      "outputs": [
        {
          "output_type": "stream",
          "name": "stderr",
          "text": [
            "<ipython-input-14-8ea56053940c>:8: SettingWithCopyWarning: \n",
            "A value is trying to be set on a copy of a slice from a DataFrame.\n",
            "Try using .loc[row_indexer,col_indexer] = value instead\n",
            "\n",
            "See the caveats in the documentation: https://pandas.pydata.org/pandas-docs/stable/user_guide/indexing.html#returning-a-view-versus-a-copy\n",
            "  df['audio'] = df['audio'].apply(lambda x: rms_normalization(x, 0.1))\n"
          ]
        }
      ]
    },
    {
      "cell_type": "code",
      "source": [
        "\n",
        "audio_sample = df['audio'].iloc[0]\n",
        "fig, ax = plt.subplots()\n",
        "ax.plot(audio_sample)\n",
        "fig.show()"
      ],
      "metadata": {
        "execution": {
          "iopub.status.busy": "2024-08-08T02:06:44.828082Z",
          "iopub.execute_input": "2024-08-08T02:06:44.828397Z",
          "iopub.status.idle": "2024-08-08T02:06:45.163202Z",
          "shell.execute_reply.started": "2024-08-08T02:06:44.828369Z",
          "shell.execute_reply": "2024-08-08T02:06:45.162165Z"
        },
        "trusted": true,
        "colab": {
          "base_uri": "https://localhost:8080/",
          "height": 430
        },
        "id": "x2dZ4cFgpCiy",
        "outputId": "9ec0c34e-1f4c-4e31-fe80-28ed23f112aa"
      },
      "execution_count": 15,
      "outputs": [
        {
          "output_type": "display_data",
          "data": {
            "text/plain": [
              "<Figure size 640x480 with 1 Axes>"
            ],
            "image/png": "[encoded data removed]"
          },
          "metadata": {}
        }
      ]
    },
    {
      "cell_type": "markdown",
      "source": [
        "## Audio Chunking\n",
        "To address the issue of very long sequences (around 70,000 points), we implement an audio chunking strategy. This involves:\n",
        "\n",
        "- Dividing the audio into smaller, overlapping chunks\n",
        "- Reducing the sequence length while retaining temporal information\n",
        "- Creating a more manageable input size for our LSTM/GRU models\n",
        "\n",
        "We visualize the distribution of original sequence lengths and chunked lengths to demonstrate the effect of this preprocessing step."
      ],
      "metadata": {
        "id": "wNLtYc91pCiz"
      }
    },
    {
      "cell_type": "code",
      "source": [
        "def chunk_audio(audio, frame_length, frame_step):\n",
        "    if len(audio) < frame_length:\n",
        "        return np.array([])\n",
        "    frames = []\n",
        "    for start in range(0, len(audio) - frame_length + 1, frame_step):\n",
        "        frames.append(audio[start:start+frame_length])\n",
        "    return np.array(frames)"
      ],
      "metadata": {
        "execution": {
          "iopub.status.busy": "2024-08-08T02:06:45.164582Z",
          "iopub.execute_input": "2024-08-08T02:06:45.164889Z",
          "iopub.status.idle": "2024-08-08T02:06:45.170418Z",
          "shell.execute_reply.started": "2024-08-08T02:06:45.164861Z",
          "shell.execute_reply": "2024-08-08T02:06:45.169332Z"
        },
        "trusted": true,
        "id": "KP5gdDOJpCiz"
      },
      "execution_count": 16,
      "outputs": []
    },
    {
      "cell_type": "code",
      "source": [
        "frame_length = 400\n",
        "frame_step = 100\n",
        "\n",
        "df['chunked_audio'] = df['audio'].apply(lambda x: chunk_audio(x, frame_length, frame_step))\n",
        "\n",
        "df['chunked_audio']"
      ],
      "metadata": {
        "execution": {
          "iopub.status.busy": "2024-08-08T02:06:45.173095Z",
          "iopub.execute_input": "2024-08-08T02:06:45.173426Z"
        },
        "trusted": true,
        "colab": {
          "base_uri": "https://localhost:8080/",
          "height": 583
        },
        "id": "mAU7H2ngpCiz",
        "outputId": "ee5a178d-ccee-4c9a-e414-4ebe51fd18a7"
      },
      "execution_count": 17,
      "outputs": [
        {
          "output_type": "stream",
          "name": "stderr",
          "text": [
            "<ipython-input-17-af300d73ca9e>:4: SettingWithCopyWarning: \n",
            "A value is trying to be set on a copy of a slice from a DataFrame.\n",
            "Try using .loc[row_indexer,col_indexer] = value instead\n",
            "\n",
            "See the caveats in the documentation: https://pandas.pydata.org/pandas-docs/stable/user_guide/indexing.html#returning-a-view-versus-a-copy\n",
            "  df['chunked_audio'] = df['audio'].apply(lambda x: chunk_audio(x, frame_length, frame_step))\n"
          ]
        },
        {
          "output_type": "execute_result",
          "data": {
            "text/plain": [
              "0        [[0.017672978309104366, -0.013952351296661343,...\n",
              "1        [[-0.012651380207559173, 0.0029767953429550996...\n",
              "2        [[-0.003878186112444303, -0.005429460557422024...\n",
              "3        [[0.0, 0.0, 0.0003031234703964115, 0.000151561...\n",
              "4        [[-0.03916168411249802, -0.03916168411249802, ...\n",
              "                               ...                        \n",
              "19995    [[-0.00013735442384306756, -0.0001373544238430...\n",
              "19996    [[-0.1537216787065081, -0.14472732516516984, -...\n",
              "19997    [[-0.048657529702691195, -0.048456465530366026...\n",
              "19998    [[0.0, -0.0001455832576821084, 0.0, 0.0, 0.0, ...\n",
              "19999    [[-0.0004837126072755495, -0.00096742521455109...\n",
              "Name: chunked_audio, Length: 19933, dtype: object"
            ],
            "text/html": [
              "<div>\n",
              "<style scoped>\n",
              "    .dataframe tbody tr th:only-of-type {\n",
              "        vertical-align: middle;\n",
              "    }\n",
              "\n",
              "    .dataframe tbody tr th {\n",
              "        vertical-align: top;\n",
              "    }\n",
              "\n",
              "    .dataframe thead th {\n",
              "        text-align: right;\n",
              "    }\n",
              "</style>\n",
              "<table border=\"1\" class=\"dataframe\">\n",
              "  <thead>\n",
              "    <tr style=\"text-align: right;\">\n",
              "      <th></th>\n",
              "      <th>chunked_audio</th>\n",
              "    </tr>\n",
              "  </thead>\n",
              "  <tbody>\n",
              "    <tr>\n",
              "      <th>0</th>\n",
              "      <td>[[0.017672978309104366, -0.013952351296661343,...</td>\n",
              "    </tr>\n",
              "    <tr>\n",
              "      <th>1</th>\n",
              "      <td>[[-0.012651380207559173, 0.0029767953429550996...</td>\n",
              "    </tr>\n",
              "    <tr>\n",
              "      <th>2</th>\n",
              "      <td>[[-0.003878186112444303, -0.005429460557422024...</td>\n",
              "    </tr>\n",
              "    <tr>\n",
              "      <th>3</th>\n",
              "      <td>[[0.0, 0.0, 0.0003031234703964115, 0.000151561...</td>\n",
              "    </tr>\n",
              "    <tr>\n",
              "      <th>4</th>\n",
              "      <td>[[-0.03916168411249802, -0.03916168411249802, ...</td>\n",
              "    </tr>\n",
              "    <tr>\n",
              "      <th>...</th>\n",
              "      <td>...</td>\n",
              "    </tr>\n",
              "    <tr>\n",
              "      <th>19995</th>\n",
              "      <td>[[-0.00013735442384306756, -0.0001373544238430...</td>\n",
              "    </tr>\n",
              "    <tr>\n",
              "      <th>19996</th>\n",
              "      <td>[[-0.1537216787065081, -0.14472732516516984, -...</td>\n",
              "    </tr>\n",
              "    <tr>\n",
              "      <th>19997</th>\n",
              "      <td>[[-0.048657529702691195, -0.048456465530366026...</td>\n",
              "    </tr>\n",
              "    <tr>\n",
              "      <th>19998</th>\n",
              "      <td>[[0.0, -0.0001455832576821084, 0.0, 0.0, 0.0, ...</td>\n",
              "    </tr>\n",
              "    <tr>\n",
              "      <th>19999</th>\n",
              "      <td>[[-0.0004837126072755495, -0.00096742521455109...</td>\n",
              "    </tr>\n",
              "  </tbody>\n",
              "</table>\n",
              "<p>19933 rows × 1 columns</p>\n",
              "</div><br><label><b>dtype:</b> object</label>"
            ]
          },
          "metadata": {},
          "execution_count": 17
        }
      ]
    },
    {
      "cell_type": "code",
      "source": [
        "df['sequence_length'] = df['audio'].apply(lambda x: len(x))\n",
        "df['chunked_length'] = df['chunked_audio'].apply(lambda x: len(x))\n"
      ],
      "metadata": {
        "trusted": true,
        "colab": {
          "base_uri": "https://localhost:8080/"
        },
        "id": "yEcKXD1jpCi0",
        "outputId": "d48a1301-3975-422c-892a-bb6d653a95f2"
      },
      "execution_count": 18,
      "outputs": [
        {
          "output_type": "stream",
          "name": "stderr",
          "text": [
            "<ipython-input-18-de8da1d8c79d>:1: SettingWithCopyWarning: \n",
            "A value is trying to be set on a copy of a slice from a DataFrame.\n",
            "Try using .loc[row_indexer,col_indexer] = value instead\n",
            "\n",
            "See the caveats in the documentation: https://pandas.pydata.org/pandas-docs/stable/user_guide/indexing.html#returning-a-view-versus-a-copy\n",
            "  df['sequence_length'] = df['audio'].apply(lambda x: len(x))\n",
            "<ipython-input-18-de8da1d8c79d>:2: SettingWithCopyWarning: \n",
            "A value is trying to be set on a copy of a slice from a DataFrame.\n",
            "Try using .loc[row_indexer,col_indexer] = value instead\n",
            "\n",
            "See the caveats in the documentation: https://pandas.pydata.org/pandas-docs/stable/user_guide/indexing.html#returning-a-view-versus-a-copy\n",
            "  df['chunked_length'] = df['chunked_audio'].apply(lambda x: len(x))\n"
          ]
        }
      ]
    },
    {
      "cell_type": "code",
      "source": [
        "\n",
        "sns.histplot(data=df, x='sequence_length', kde=True, color=\"blue\", label='sequence_length', alpha=0.6)\n",
        "plt.title('Sequence Length')\n",
        "plt.xlabel('Lengths')\n",
        "plt.ylabel('Frequency')"
      ],
      "metadata": {
        "trusted": true,
        "colab": {
          "base_uri": "https://localhost:8080/",
          "height": 489
        },
        "id": "JEEq9RqNpCi0",
        "outputId": "b943b040-ea6d-4f98-a744-ca1b8d467736"
      },
      "execution_count": 19,
      "outputs": [
        {
          "output_type": "execute_result",
          "data": {
            "text/plain": [
              "Text(0, 0.5, 'Frequency')"
            ]
          },
          "metadata": {},
          "execution_count": 19
        },
        {
          "output_type": "display_data",
          "data": {
            "text/plain": [
              "<Figure size 640x480 with 1 Axes>"
            ],
            "image/png": "[encoded data removed]"
          },
          "metadata": {}
        }
      ]
    },
    {
      "cell_type": "code",
      "source": [
        "\n",
        "sns.histplot(data=df, x='chunked_length', kde=True, color=\"red\", label='chunked_length', alpha=0.6)\n",
        "plt.title('Chunked Length')\n",
        "plt.xlabel('Lengths')\n",
        "plt.ylabel('Frequency')"
      ],
      "metadata": {
        "trusted": true,
        "colab": {
          "base_uri": "https://localhost:8080/",
          "height": 489
        },
        "id": "1S-jJNWepCi0",
        "outputId": "bb8e513a-5ef5-451b-e052-95dbc143b946"
      },
      "execution_count": 20,
      "outputs": [
        {
          "output_type": "execute_result",
          "data": {
            "text/plain": [
              "Text(0, 0.5, 'Frequency')"
            ]
          },
          "metadata": {},
          "execution_count": 20
        },
        {
          "output_type": "display_data",
          "data": {
            "text/plain": [
              "<Figure size 640x480 with 1 Axes>"
            ],
            "image/png": "[encoded data removed]"
          },
          "metadata": {}
        }
      ]
    },
    {
      "cell_type": "markdown",
      "source": [
        "By chunking our dataset, we can move elements of our audio 'horizontally' and reduce our overall sequence length. This will help improve the performance of the LSTM by having a smaller context window to work with"
      ],
      "metadata": {
        "id": "KEAkv7WZpCi2"
      }
    },
    {
      "cell_type": "code",
      "source": [
        "device = torch.device(\"cuda\" if torch.cuda.is_available() else \"cpu\")\n",
        "print(device)"
      ],
      "metadata": {
        "trusted": true,
        "colab": {
          "base_uri": "https://localhost:8080/"
        },
        "id": "ZrXAcv2kpCi2",
        "outputId": "4e5b60d2-5a21-4886-d314-35fcf7da9de1"
      },
      "execution_count": 21,
      "outputs": [
        {
          "output_type": "stream",
          "name": "stdout",
          "text": [
            "cuda\n"
          ]
        }
      ]
    },
    {
      "cell_type": "markdown",
      "source": [
        "# Dataset and DataLoader Preparation\n",
        "Proper data handling is crucial for efficient model training. We create custom PyTorch classes and functions to prepare our data:\n",
        "## Custom Dataset Class\n",
        "We implement a SpeechDataset class that inherits from PyTorch's Dataset. This class:\n",
        "\n",
        "Holds our preprocessed audio data and corresponding WPS values\n",
        "Defines how individual samples are accessed and returned\n",
        "\n",
        "## Collate Function\n",
        "To handle variable-length sequences in our batches, we implement a custom collate_fn. This function:\n",
        "\n",
        "Pads shorter sequences to match the length of the longest sequence in the batch\n",
        "Returns padded sequences along with their original lengths (crucial for proper LSTM/GRU processing)\n",
        "\n",
        "## DataLoader Setup\n",
        "We create separate DataLoaders for training and validation sets, incorporating our custom dataset and collate function. This setup enables efficient batching and shuffling of our data during training."
      ],
      "metadata": {
        "id": "z5unrQEOpCi2"
      }
    },
    {
      "cell_type": "code",
      "source": [
        "class SpeechDataset(Dataset):\n",
        "    def __init__(self, audio_data):\n",
        "        self.audio_data = audio_data\n",
        "\n",
        "    def __len__(self):\n",
        "        return len(self.audio_data)\n",
        "\n",
        "    def __getitem__(self, idx):\n",
        "        audio_data = self.audio_data.iloc[idx]\n",
        "        audio = torch.FloatTensor(audio_data['chunked_audio'])\n",
        "        words_per_second = torch.FloatTensor([audio_data['wps']])\n",
        "        return audio, words_per_second\n"
      ],
      "metadata": {
        "trusted": true,
        "id": "ICfoK3TQpCi2"
      },
      "execution_count": 22,
      "outputs": []
    },
    {
      "cell_type": "code",
      "source": [
        "def collate_fn(batch):\n",
        "    batch = [(audio, count) for audio, count in batch if audio.numel() > 0]\n",
        "    if len(batch) == 0:\n",
        "        return torch.tensor([]),  torch.tensor([]), torch.tensor([])\n",
        "    audios, word_counts = zip(*batch)\n",
        "    lengths = [audio.shape[0] for audio in audios]\n",
        "    padded_audios = pad_sequence(audios, batch_first=True)\n",
        "    return padded_audios, torch.tensor(word_counts), torch.tensor(lengths)\n"
      ],
      "metadata": {
        "trusted": true,
        "id": "veizLPaHpCi2"
      },
      "execution_count": 23,
      "outputs": []
    },
    {
      "cell_type": "markdown",
      "source": [
        "# Model Architecture\n",
        "We explore two types of recurrent neural networks for our task:\n",
        "1. LSTM\n",
        "2. GRU"
      ],
      "metadata": {
        "id": "botciXyFpCi3"
      }
    },
    {
      "cell_type": "markdown",
      "source": [
        "## LSTM Model\n",
        "![LSTM model](data:image/png;base64,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)\n",
        "\n",
        "image credit to: https://en.wikipedia.org/wiki/Long_short-term_memory\n",
        "\n",
        "The Long Short-Term Memory (LSTM) model  performs similarily to the RNN model, however it adds a cell state and gates. The sell state contains information that can be seen throughout the sequence. The gates regulate information flow and are comprised of a forget gate, an input gate and an output gate. The forget gate desides what information to discard from the cell state. The input gate determines what new information to store in the cell state. The output gate decides what to output based on the cell state. Like the RNN the result of this sequence is passed to a linear layer for classification\n",
        "\n",
        "\n",
        "LSTM networks are well-suited for processing sequential data like audio. Our WordCountLSTM class includes:\n",
        "\n",
        "- LSTM layers for capturing temporal dependencies\n",
        "- Fully connected layers for final prediction\n"
      ],
      "metadata": {
        "id": "KobhVcVYpCi3"
      }
    },
    {
      "cell_type": "code",
      "source": [
        "class WordCountLSTM(nn.Module):\n",
        "    def __init__(self, input_size, num_lstm_layers=2, hidden_size=64, num_hidden_layers=1):\n",
        "        super(WordCountLSTM, self).__init__()\n",
        "        self.lstm = nn.LSTM(input_size, hidden_size, num_layers=num_lstm_layers, batch_first=True)\n",
        "        # Build FC layers\n",
        "        layers = []\n",
        "        for i in range(num_hidden_layers):\n",
        "            layers.append(nn.Linear(hidden_size, hidden_size))\n",
        "            if i > 0:\n",
        "                layers.append(nn.ReLU())\n",
        "        layers.append(nn.Linear(hidden_size, 1))\n",
        "        self.fc_layers = nn.Sequential(*layers)\n",
        "\n",
        "    def forward(self, x, lengths):\n",
        "        packed_x = pack_padded_sequence(x, lengths.cpu(), batch_first=True, enforce_sorted=False)\n",
        "        _, (hidden, _) = self.lstm(packed_x)\n",
        "        output = self.fc_layers((hidden[-1]))\n",
        "        return output.squeeze(1)"
      ],
      "metadata": {
        "trusted": true,
        "id": "gMBUDuqepCi3"
      },
      "execution_count": 24,
      "outputs": []
    },
    {
      "cell_type": "markdown",
      "source": [
        "## GRU Model\n",
        "![GRU Model](https://upload.wikimedia.org/wikipedia/commons/thumb/3/37/Gated_Recurrent_Unit%2C_base_type.svg/220px-Gated_Recurrent_Unit%2C_base_type.svg.png)\n",
        "\n",
        "Image credit to: https://en.wikipedia.org/wiki/Gated_recurrent_unit\n",
        "We also implement a Gated Recurrent Unit (GRU) model as an alternative to LSTM. GRUs are similar to LSTMs but with a simpler structure, potentially leading to faster training. A GRU only contains an update gate, and a reset gate. An update gates simply decides what information to keep. A Reset gate determines how much information to forget.\n",
        "\n"
      ],
      "metadata": {
        "id": "xxwmXGx7pCi4"
      }
    },
    {
      "cell_type": "code",
      "source": [
        "\n",
        "class WordCountGRU(nn.Module):\n",
        "    def __init__(self, input_size, num_lstm_layers=2, hidden_size=64, num_hidden_layers=1):\n",
        "        super(WordCountGRU, self).__init__()\n",
        "        self.gru = nn.GRU(input_size, hidden_size, num_layers=num_lstm_layers, batch_first=True)\n",
        "        # Build FC layers\n",
        "        layers = []\n",
        "        for i in range(num_hidden_layers):\n",
        "            layers.append(nn.Linear(hidden_size, hidden_size))\n",
        "            if i > 0:\n",
        "                layers.append(nn.ReLU())\n",
        "        layers.append(nn.Linear(hidden_size, 1))\n",
        "        self.fc_layers = nn.Sequential(*layers)\n",
        "\n",
        "    def forward(self, x, lengths):\n",
        "        packed_x = pack_padded_sequence(x, lengths.cpu(), batch_first=True, enforce_sorted=False)\n",
        "        _, hidden = self.gru(packed_x)\n",
        "        output = self.fc_layers((hidden[-1]))\n",
        "        return output.squeeze(1)\n"
      ],
      "metadata": {
        "trusted": true,
        "id": "tP6_qr99pCi4"
      },
      "execution_count": 25,
      "outputs": []
    },
    {
      "cell_type": "code",
      "source": [
        "train_dataset = SpeechDataset(df.iloc[:18000])\n",
        "val_dataset = SpeechDataset(df.iloc[18000:])\n",
        "batch_size = 64\n",
        "train_dataloader = DataLoader(train_dataset, batch_size=batch_size, shuffle=True, collate_fn=collate_fn)\n",
        "val_dataloader = DataLoader(val_dataset, batch_size=batch_size, shuffle=True, collate_fn=collate_fn)"
      ],
      "metadata": {
        "trusted": true,
        "id": "ZWQzI9fLpCi4"
      },
      "execution_count": 26,
      "outputs": []
    },
    {
      "cell_type": "code",
      "source": [
        "\n",
        "word_count_lstm = WordCountLSTM(400)"
      ],
      "metadata": {
        "execution": {
          "iopub.status.busy": "2024-08-07T18:30:28.260520Z",
          "iopub.execute_input": "2024-08-07T18:30:28.260791Z",
          "iopub.status.idle": "2024-08-07T18:30:28.326849Z",
          "shell.execute_reply.started": "2024-08-07T18:30:28.260769Z",
          "shell.execute_reply": "2024-08-07T18:30:28.325981Z"
        },
        "trusted": true,
        "id": "ala2yUB4pCi6"
      },
      "execution_count": null,
      "outputs": []
    },
    {
      "cell_type": "markdown",
      "source": [
        "# Training Process\n",
        "\n"
      ],
      "metadata": {
        "id": "qKbcZqvepCi6"
      }
    },
    {
      "cell_type": "code",
      "source": [
        "def evaluate_model(model, data_loader, criterion, device):\n",
        "    model.eval()\n",
        "    total_loss = 0\n",
        "    with torch.no_grad():\n",
        "        for audio, wps, lengths in data_loader:\n",
        "            if audio.numel() == 0:\n",
        "                continue\n",
        "            audio = audio.to(device)\n",
        "            wps = wps.to(device)\n",
        "            lengths = lengths.to(device)\n",
        "            outputs = model(audio, lengths)\n",
        "            loss = criterion(outputs, wps.float())\n",
        "            total_loss += loss.item()\n",
        "    return total_loss / len(data_loader)\n",
        "\n",
        "def train_model(model, train_loader, val_loader, criterion,  optimizer, num_epochs):\n",
        "    train_losses = []\n",
        "    val_losses = []\n",
        "    for epoch in range(num_epochs):\n",
        "        total_loss = 0\n",
        "        model.train()\n",
        "        for audio, wps, lengths in tqdm(train_loader):\n",
        "            if audio.numel() == 0:\n",
        "                continue\n",
        "            audio = audio.to(device)\n",
        "            wps = wps.to(device)\n",
        "            lengths = lengths.to(device)\n",
        "            optimizer.zero_grad()\n",
        "            outputs = model(audio, lengths)\n",
        "            loss = criterion(outputs, wps.float())\n",
        "            loss.backward()\n",
        "            optimizer.step()\n",
        "            total_loss += loss.item()\n",
        "        avg_train_loss = total_loss / len(train_loader)\n",
        "        val_loss = evaluate_model(model, val_loader, criterion, device)\n",
        "        train_losses.append(avg_train_loss)\n",
        "        val_losses.append(val_loss)\n",
        "        print(f\"Epoch {epoch+1}/{num_epochs}, Loss: {avg_train_loss:.4f}, Val Loss: {val_loss:.4f}\")\n",
        "    return train_losses, val_losses\n"
      ],
      "metadata": {
        "execution": {
          "iopub.status.busy": "2024-08-08T01:06:39.557403Z",
          "iopub.execute_input": "2024-08-08T01:06:39.557671Z",
          "iopub.status.idle": "2024-08-08T01:06:39.568617Z",
          "shell.execute_reply.started": "2024-08-08T01:06:39.557649Z",
          "shell.execute_reply": "2024-08-08T01:06:39.567700Z"
        },
        "trusted": true,
        "id": "vRnACILNpCi6"
      },
      "execution_count": 27,
      "outputs": []
    },
    {
      "cell_type": "code",
      "source": [
        "criterion = nn.MSELoss()\n",
        "optimizer = optim.Adam(word_count_lstm.parameters(), lr=0.0001)\n",
        "num_epochs = 10\n",
        "word_count_lstm.to(device)"
      ],
      "metadata": {
        "execution": {
          "iopub.status.busy": "2024-08-07T18:30:28.344182Z",
          "iopub.execute_input": "2024-08-07T18:30:28.344546Z",
          "iopub.status.idle": "2024-08-07T18:30:29.582310Z",
          "shell.execute_reply.started": "2024-08-07T18:30:28.344512Z",
          "shell.execute_reply": "2024-08-07T18:30:29.581308Z"
        },
        "trusted": true,
        "id": "bG5rsc9dpCi7",
        "outputId": "136223d9-d549-4a78-ad11-7f8230745f33"
      },
      "execution_count": null,
      "outputs": [
        {
          "execution_count": 29,
          "output_type": "execute_result",
          "data": {
            "text/plain": "WordCountLSTM(\n  (lstm): LSTM(400, 64, num_layers=2, batch_first=True)\n  (fc_layers): Sequential(\n    (0): Linear(in_features=64, out_features=64, bias=True)\n    (1): Linear(in_features=64, out_features=1, bias=True)\n  )\n)"
          },
          "metadata": {}
        }
      ]
    },
    {
      "cell_type": "code",
      "source": [
        "train_losses, val_losses = train_model(word_count_lstm, train_dataloader, val_dataloader, criterion, optimizer, num_epochs)"
      ],
      "metadata": {
        "execution": {
          "iopub.status.busy": "2024-08-07T18:30:29.583915Z",
          "iopub.execute_input": "2024-08-07T18:30:29.584607Z",
          "iopub.status.idle": "2024-08-07T18:37:30.424735Z",
          "shell.execute_reply.started": "2024-08-07T18:30:29.584570Z",
          "shell.execute_reply": "2024-08-07T18:37:30.423694Z"
        },
        "trusted": true,
        "id": "ydiVATZVpCi7",
        "outputId": "bddbb61e-0063-453f-a125-5ecf80b60e3a"
      },
      "execution_count": null,
      "outputs": [
        {
          "name": "stderr",
          "text": "100%|██████████| 157/157 [00:39<00:00,  3.99it/s]\n",
          "output_type": "stream"
        },
        {
          "name": "stdout",
          "text": "Epoch 1/10, Loss: 0.0537, Val Loss: 0.0267\n",
          "output_type": "stream"
        },
        {
          "name": "stderr",
          "text": "100%|██████████| 157/157 [00:37<00:00,  4.16it/s]\n",
          "output_type": "stream"
        },
        {
          "name": "stdout",
          "text": "Epoch 2/10, Loss: 0.0186, Val Loss: 0.0262\n",
          "output_type": "stream"
        },
        {
          "name": "stderr",
          "text": "100%|██████████| 157/157 [00:37<00:00,  4.16it/s]\n",
          "output_type": "stream"
        },
        {
          "name": "stdout",
          "text": "Epoch 3/10, Loss: 0.0183, Val Loss: 0.0261\n",
          "output_type": "stream"
        },
        {
          "name": "stderr",
          "text": "100%|██████████| 157/157 [00:38<00:00,  4.11it/s]\n",
          "output_type": "stream"
        },
        {
          "name": "stdout",
          "text": "Epoch 4/10, Loss: 0.0180, Val Loss: 0.0259\n",
          "output_type": "stream"
        },
        {
          "name": "stderr",
          "text": "100%|██████████| 157/157 [00:37<00:00,  4.18it/s]\n",
          "output_type": "stream"
        },
        {
          "name": "stdout",
          "text": "Epoch 5/10, Loss: 0.0178, Val Loss: 0.0258\n",
          "output_type": "stream"
        },
        {
          "name": "stderr",
          "text": "100%|██████████| 157/157 [00:38<00:00,  4.06it/s]\n",
          "output_type": "stream"
        },
        {
          "name": "stdout",
          "text": "Epoch 6/10, Loss: 0.0177, Val Loss: 0.0255\n",
          "output_type": "stream"
        },
        {
          "name": "stderr",
          "text": "100%|██████████| 157/157 [00:38<00:00,  4.07it/s]\n",
          "output_type": "stream"
        },
        {
          "name": "stdout",
          "text": "Epoch 7/10, Loss: 0.0176, Val Loss: 0.0254\n",
          "output_type": "stream"
        },
        {
          "name": "stderr",
          "text": "100%|██████████| 157/157 [00:38<00:00,  4.06it/s]\n",
          "output_type": "stream"
        },
        {
          "name": "stdout",
          "text": "Epoch 8/10, Loss: 0.0175, Val Loss: 0.0254\n",
          "output_type": "stream"
        },
        {
          "name": "stderr",
          "text": "100%|██████████| 157/157 [00:38<00:00,  4.04it/s]\n",
          "output_type": "stream"
        },
        {
          "name": "stdout",
          "text": "Epoch 9/10, Loss: 0.0173, Val Loss: 0.0250\n",
          "output_type": "stream"
        },
        {
          "name": "stderr",
          "text": "100%|██████████| 157/157 [00:38<00:00,  4.12it/s]\n",
          "output_type": "stream"
        },
        {
          "name": "stdout",
          "text": "Epoch 10/10, Loss: 0.0171, Val Loss: 0.0246\n",
          "output_type": "stream"
        }
      ]
    },
    {
      "cell_type": "code",
      "source": [
        "torch.save(word_count_lstm.state_dict(), 'word_count_lstm.pt')"
      ],
      "metadata": {
        "execution": {
          "iopub.status.busy": "2024-08-07T18:37:30.426411Z",
          "iopub.execute_input": "2024-08-07T18:37:30.426795Z",
          "iopub.status.idle": "2024-08-07T18:37:30.439228Z",
          "shell.execute_reply.started": "2024-08-07T18:37:30.426761Z",
          "shell.execute_reply": "2024-08-07T18:37:30.438471Z"
        },
        "trusted": true,
        "id": "7vmLCi0UpCi7"
      },
      "execution_count": null,
      "outputs": []
    },
    {
      "cell_type": "code",
      "source": [
        "fig, ax = plt.subplots()\n",
        "ax.plot(train_losses)\n",
        "ax.plot(val_losses)\n",
        "fig.show()"
      ],
      "metadata": {
        "execution": {
          "iopub.status.busy": "2024-08-07T18:37:30.440391Z",
          "iopub.execute_input": "2024-08-07T18:37:30.440938Z",
          "iopub.status.idle": "2024-08-07T18:37:30.693556Z",
          "shell.execute_reply.started": "2024-08-07T18:37:30.440910Z",
          "shell.execute_reply": "2024-08-07T18:37:30.692680Z"
        },
        "trusted": true,
        "id": "iBlY5BffpCi7",
        "outputId": "dbdd7d62-a841-4bea-d777-520b62ae1160"
      },
      "execution_count": null,
      "outputs": [
        {
          "output_type": "display_data",
          "data": {
            "text/plain": "<Figure size 640x480 with 1 Axes>",
            "image/png": "[encoded data removed]"
          },
          "metadata": {}
        }
      ]
    },
    {
      "cell_type": "code",
      "source": [
        "word_count_gru = WordCountGRU(400)\n",
        "\n",
        "criterion = nn.MSELoss()\n",
        "optimizer = optim.Adam(word_count_gru.parameters(), lr=0.0001)\n",
        "num_epochs = 10\n",
        "word_count_gru.to(device)"
      ],
      "metadata": {
        "execution": {
          "iopub.status.busy": "2024-08-07T18:38:53.585123Z",
          "iopub.execute_input": "2024-08-07T18:38:53.586036Z",
          "iopub.status.idle": "2024-08-07T18:38:53.597177Z",
          "shell.execute_reply.started": "2024-08-07T18:38:53.585998Z",
          "shell.execute_reply": "2024-08-07T18:38:53.596266Z"
        },
        "trusted": true,
        "id": "zboHMCZRpCi8",
        "outputId": "a88bbdfd-bc3d-4c13-80f2-487040f5434c"
      },
      "execution_count": null,
      "outputs": [
        {
          "execution_count": 39,
          "output_type": "execute_result",
          "data": {
            "text/plain": "WordCountGRU(\n  (gru): GRU(400, 64, num_layers=2, batch_first=True)\n  (fc_layers): Sequential(\n    (0): Linear(in_features=64, out_features=64, bias=True)\n    (1): Linear(in_features=64, out_features=1, bias=True)\n  )\n)"
          },
          "metadata": {}
        }
      ]
    },
    {
      "cell_type": "code",
      "source": [
        "gru_train_losses, gru_val_losses = train_model(word_count_gru, train_dataloader, val_dataloader, criterion, optimizer, num_epochs)"
      ],
      "metadata": {
        "execution": {
          "iopub.status.busy": "2024-08-07T18:38:54.240307Z",
          "iopub.execute_input": "2024-08-07T18:38:54.240581Z",
          "iopub.status.idle": "2024-08-07T18:45:59.619317Z",
          "shell.execute_reply.started": "2024-08-07T18:38:54.240558Z",
          "shell.execute_reply": "2024-08-07T18:45:59.618319Z"
        },
        "trusted": true,
        "id": "zL4-3DXxpCi8",
        "outputId": "69ab3ded-2490-4c8e-ebb3-34ac2257cfb8"
      },
      "execution_count": null,
      "outputs": [
        {
          "name": "stderr",
          "text": "100%|██████████| 157/157 [00:39<00:00,  3.97it/s]\n",
          "output_type": "stream"
        },
        {
          "name": "stdout",
          "text": "Epoch 1/10, Loss: 0.0273, Val Loss: 0.0266\n",
          "output_type": "stream"
        },
        {
          "name": "stderr",
          "text": "100%|██████████| 157/157 [00:39<00:00,  4.02it/s]\n",
          "output_type": "stream"
        },
        {
          "name": "stdout",
          "text": "Epoch 2/10, Loss: 0.0187, Val Loss: 0.0265\n",
          "output_type": "stream"
        },
        {
          "name": "stderr",
          "text": "100%|██████████| 157/157 [00:39<00:00,  3.99it/s]\n",
          "output_type": "stream"
        },
        {
          "name": "stdout",
          "text": "Epoch 3/10, Loss: 0.0184, Val Loss: 0.0261\n",
          "output_type": "stream"
        },
        {
          "name": "stderr",
          "text": "100%|██████████| 157/157 [00:39<00:00,  4.01it/s]\n",
          "output_type": "stream"
        },
        {
          "name": "stdout",
          "text": "Epoch 4/10, Loss: 0.0183, Val Loss: 0.0260\n",
          "output_type": "stream"
        },
        {
          "name": "stderr",
          "text": "100%|██████████| 157/157 [00:39<00:00,  4.01it/s]\n",
          "output_type": "stream"
        },
        {
          "name": "stdout",
          "text": "Epoch 5/10, Loss: 0.0179, Val Loss: 0.0259\n",
          "output_type": "stream"
        },
        {
          "name": "stderr",
          "text": "100%|██████████| 157/157 [00:38<00:00,  4.04it/s]\n",
          "output_type": "stream"
        },
        {
          "name": "stdout",
          "text": "Epoch 6/10, Loss: 0.0179, Val Loss: 0.0257\n",
          "output_type": "stream"
        },
        {
          "name": "stderr",
          "text": "100%|██████████| 157/157 [00:38<00:00,  4.10it/s]\n",
          "output_type": "stream"
        },
        {
          "name": "stdout",
          "text": "Epoch 7/10, Loss: 0.0177, Val Loss: 0.0259\n",
          "output_type": "stream"
        },
        {
          "name": "stderr",
          "text": "100%|██████████| 157/157 [00:38<00:00,  4.06it/s]\n",
          "output_type": "stream"
        },
        {
          "name": "stdout",
          "text": "Epoch 8/10, Loss: 0.0176, Val Loss: 0.0254\n",
          "output_type": "stream"
        },
        {
          "name": "stderr",
          "text": "100%|██████████| 157/157 [00:37<00:00,  4.18it/s]\n",
          "output_type": "stream"
        },
        {
          "name": "stdout",
          "text": "Epoch 9/10, Loss: 0.0175, Val Loss: 0.0253\n",
          "output_type": "stream"
        },
        {
          "name": "stderr",
          "text": "100%|██████████| 157/157 [00:37<00:00,  4.14it/s]\n",
          "output_type": "stream"
        },
        {
          "name": "stdout",
          "text": "Epoch 10/10, Loss: 0.0173, Val Loss: 0.0251\n",
          "output_type": "stream"
        }
      ]
    },
    {
      "cell_type": "code",
      "source": [
        "\n",
        "fig, ax = plt.subplots()\n",
        "ax.plot(gru_train_losses)\n",
        "ax.plot(gru_val_losses)\n",
        "fig.show()"
      ],
      "metadata": {
        "execution": {
          "iopub.status.busy": "2024-08-07T18:45:59.620980Z",
          "iopub.execute_input": "2024-08-07T18:45:59.621303Z",
          "iopub.status.idle": "2024-08-07T18:45:59.863451Z",
          "shell.execute_reply.started": "2024-08-07T18:45:59.621265Z",
          "shell.execute_reply": "2024-08-07T18:45:59.862563Z"
        },
        "trusted": true,
        "id": "kkEjPVnspCi9",
        "outputId": "b82d706f-a7a8-4772-e3a7-2be5b9ccbbd5"
      },
      "execution_count": null,
      "outputs": [
        {
          "output_type": "display_data",
          "data": {
            "text/plain": "<Figure size 640x480 with 1 Axes>",
            "image/png": "[encoded data removed]"
          },
          "metadata": {}
        }
      ]
    },
    {
      "cell_type": "code",
      "source": [
        "\n",
        "\n",
        "import itertools\n",
        "from sklearn.model_selection import ParameterGrid\n",
        "\n"
      ],
      "metadata": {
        "execution": {
          "iopub.status.busy": "2024-08-07T18:45:59.864575Z",
          "iopub.execute_input": "2024-08-07T18:45:59.864845Z",
          "iopub.status.idle": "2024-08-07T18:45:59.869057Z",
          "shell.execute_reply.started": "2024-08-07T18:45:59.864821Z",
          "shell.execute_reply": "2024-08-07T18:45:59.868029Z"
        },
        "trusted": true,
        "id": "Thont44ApCi9"
      },
      "execution_count": null,
      "outputs": []
    },
    {
      "cell_type": "code",
      "source": [
        "def train_and_evaluate(model, optimizer, criterion, train_loader, val_loader):\n",
        "  n_epochs = 5\n",
        "  loss = train_model(model, train_loader, val_loader, criterion,optimizer , n_epochs)\n",
        "  return loss[1][-1]\n",
        "\n",
        "def grid_search(model_class, param_grid, train_loader, val_loader):\n",
        "  results = []\n",
        "  for params in ParameterGrid(param_grid):\n",
        "    model = model_class(400, num_lstm_layers=params['lstm_layers'], hidden_size=params['hidden_size'], num_hidden_layers=params['hidden_layers'])\n",
        "    model.to(device)\n",
        "    optimizer = optim.Adam(model.parameters(), lr=1e-4)\n",
        "    criterion = nn.MSELoss()\n",
        "    val_accuracy = train_and_evaluate(model, optimizer, criterion, train_loader, val_loader)\n",
        "    results.append({**params, 'val_loss': val_accuracy})\n",
        "\n",
        "  return results"
      ],
      "metadata": {
        "execution": {
          "iopub.status.busy": "2024-08-08T01:06:39.569812Z",
          "iopub.execute_input": "2024-08-08T01:06:39.570119Z",
          "iopub.status.idle": "2024-08-08T01:06:39.579517Z",
          "shell.execute_reply.started": "2024-08-08T01:06:39.570091Z",
          "shell.execute_reply": "2024-08-08T01:06:39.578647Z"
        },
        "trusted": true,
        "id": "MxJtRB_GpCi9"
      },
      "execution_count": null,
      "outputs": []
    },
    {
      "cell_type": "code",
      "source": [
        "\n",
        "\n",
        "param_grid = {\n",
        "    'lstm_layers': [1, 2],\n",
        "    'hidden_size': [32, 64, 128],\n",
        "    'hidden_layers': [2, 3],\n",
        "}\n",
        "lstm_parameter_results = grid_search(WordCountLSTM, param_grid, train_dataloader, val_dataloader)\n",
        "\n"
      ],
      "metadata": {
        "execution": {
          "iopub.status.busy": "2024-08-07T18:51:10.382012Z",
          "iopub.execute_input": "2024-08-07T18:51:10.382621Z",
          "iopub.status.idle": "2024-08-07T19:30:37.940265Z",
          "shell.execute_reply.started": "2024-08-07T18:51:10.382594Z",
          "shell.execute_reply": "2024-08-07T19:30:37.939143Z"
        },
        "trusted": true,
        "id": "wXMhyJH6pCi9",
        "outputId": "6e4bfb7f-1cc8-4e0c-e078-5278fb4260d3"
      },
      "execution_count": null,
      "outputs": [
        {
          "name": "stderr",
          "text": "100%|██████████| 157/157 [00:32<00:00,  4.85it/s]\n",
          "output_type": "stream"
        },
        {
          "name": "stdout",
          "text": "Epoch 1/5, Loss: 0.0303, Val Loss: 0.0269\n",
          "output_type": "stream"
        },
        {
          "name": "stderr",
          "text": "100%|██████████| 157/157 [00:31<00:00,  4.95it/s]\n",
          "output_type": "stream"
        },
        {
          "name": "stdout",
          "text": "Epoch 2/5, Loss: 0.0188, Val Loss: 0.0266\n",
          "output_type": "stream"
        },
        {
          "name": "stderr",
          "text": "100%|██████████| 157/157 [00:31<00:00,  5.04it/s]\n",
          "output_type": "stream"
        },
        {
          "name": "stdout",
          "text": "Epoch 3/5, Loss: 0.0187, Val Loss: 0.0268\n",
          "output_type": "stream"
        },
        {
          "name": "stderr",
          "text": "100%|██████████| 157/157 [00:31<00:00,  4.95it/s]\n",
          "output_type": "stream"
        },
        {
          "name": "stdout",
          "text": "Epoch 4/5, Loss: 0.0184, Val Loss: 0.0263\n",
          "output_type": "stream"
        },
        {
          "name": "stderr",
          "text": "100%|██████████| 157/157 [00:31<00:00,  4.98it/s]\n",
          "output_type": "stream"
        },
        {
          "name": "stdout",
          "text": "Epoch 5/5, Loss: 0.0179, Val Loss: 0.0257\n",
          "output_type": "stream"
        },
        {
          "name": "stderr",
          "text": "100%|██████████| 157/157 [00:38<00:00,  4.04it/s]\n",
          "output_type": "stream"
        },
        {
          "name": "stdout",
          "text": "Epoch 1/5, Loss: 0.0822, Val Loss: 0.0273\n",
          "output_type": "stream"
        },
        {
          "name": "stderr",
          "text": "100%|██████████| 157/157 [00:39<00:00,  4.02it/s]\n",
          "output_type": "stream"
        },
        {
          "name": "stdout",
          "text": "Epoch 2/5, Loss: 0.0187, Val Loss: 0.0265\n",
          "output_type": "stream"
        },
        {
          "name": "stderr",
          "text": "100%|██████████| 157/157 [00:38<00:00,  4.11it/s]\n",
          "output_type": "stream"
        },
        {
          "name": "stdout",
          "text": "Epoch 3/5, Loss: 0.0184, Val Loss: 0.0259\n",
          "output_type": "stream"
        },
        {
          "name": "stderr",
          "text": "100%|██████████| 157/157 [00:38<00:00,  4.10it/s]\n",
          "output_type": "stream"
        },
        {
          "name": "stdout",
          "text": "Epoch 4/5, Loss: 0.0180, Val Loss: 0.0255\n",
          "output_type": "stream"
        },
        {
          "name": "stderr",
          "text": "100%|██████████| 157/157 [00:39<00:00,  4.02it/s]\n",
          "output_type": "stream"
        },
        {
          "name": "stdout",
          "text": "Epoch 5/5, Loss: 0.0177, Val Loss: 0.0253\n",
          "output_type": "stream"
        },
        {
          "name": "stderr",
          "text": "100%|██████████| 157/157 [00:32<00:00,  4.79it/s]\n",
          "output_type": "stream"
        },
        {
          "name": "stdout",
          "text": "Epoch 1/5, Loss: 0.0356, Val Loss: 0.0265\n",
          "output_type": "stream"
        },
        {
          "name": "stderr",
          "text": "100%|██████████| 157/157 [00:31<00:00,  5.00it/s]\n",
          "output_type": "stream"
        },
        {
          "name": "stdout",
          "text": "Epoch 2/5, Loss: 0.0187, Val Loss: 0.0264\n",
          "output_type": "stream"
        },
        {
          "name": "stderr",
          "text": "100%|██████████| 157/157 [00:32<00:00,  4.87it/s]\n",
          "output_type": "stream"
        },
        {
          "name": "stdout",
          "text": "Epoch 3/5, Loss: 0.0183, Val Loss: 0.0263\n",
          "output_type": "stream"
        },
        {
          "name": "stderr",
          "text": "100%|██████████| 157/157 [00:31<00:00,  4.97it/s]\n",
          "output_type": "stream"
        },
        {
          "name": "stdout",
          "text": "Epoch 4/5, Loss: 0.0180, Val Loss: 0.0260\n",
          "output_type": "stream"
        },
        {
          "name": "stderr",
          "text": "100%|██████████| 157/157 [00:31<00:00,  4.98it/s]\n",
          "output_type": "stream"
        },
        {
          "name": "stdout",
          "text": "Epoch 5/5, Loss: 0.0177, Val Loss: 0.0257\n",
          "output_type": "stream"
        },
        {
          "name": "stderr",
          "text": "100%|██████████| 157/157 [00:39<00:00,  4.02it/s]\n",
          "output_type": "stream"
        },
        {
          "name": "stdout",
          "text": "Epoch 1/5, Loss: 0.0292, Val Loss: 0.0266\n",
          "output_type": "stream"
        },
        {
          "name": "stderr",
          "text": "100%|██████████| 157/157 [00:39<00:00,  4.02it/s]\n",
          "output_type": "stream"
        },
        {
          "name": "stdout",
          "text": "Epoch 2/5, Loss: 0.0188, Val Loss: 0.0264\n",
          "output_type": "stream"
        },
        {
          "name": "stderr",
          "text": "100%|██████████| 157/157 [00:39<00:00,  4.00it/s]\n",
          "output_type": "stream"
        },
        {
          "name": "stdout",
          "text": "Epoch 3/5, Loss: 0.0185, Val Loss: 0.0260\n",
          "output_type": "stream"
        },
        {
          "name": "stderr",
          "text": "100%|██████████| 157/157 [00:39<00:00,  3.97it/s]\n",
          "output_type": "stream"
        },
        {
          "name": "stdout",
          "text": "Epoch 4/5, Loss: 0.0180, Val Loss: 0.0255\n",
          "output_type": "stream"
        },
        {
          "name": "stderr",
          "text": "100%|██████████| 157/157 [00:39<00:00,  4.02it/s]\n",
          "output_type": "stream"
        },
        {
          "name": "stdout",
          "text": "Epoch 5/5, Loss: 0.0175, Val Loss: 0.0250\n",
          "output_type": "stream"
        },
        {
          "name": "stderr",
          "text": "100%|██████████| 157/157 [00:33<00:00,  4.68it/s]\n",
          "output_type": "stream"
        },
        {
          "name": "stdout",
          "text": "Epoch 1/5, Loss: 0.0345, Val Loss: 0.0270\n",
          "output_type": "stream"
        },
        {
          "name": "stderr",
          "text": "100%|██████████| 157/157 [00:33<00:00,  4.70it/s]\n",
          "output_type": "stream"
        },
        {
          "name": "stdout",
          "text": "Epoch 2/5, Loss: 0.0187, Val Loss: 0.0267\n",
          "output_type": "stream"
        },
        {
          "name": "stderr",
          "text": "100%|██████████| 157/157 [00:33<00:00,  4.73it/s]\n",
          "output_type": "stream"
        },
        {
          "name": "stdout",
          "text": "Epoch 3/5, Loss: 0.0184, Val Loss: 0.0261\n",
          "output_type": "stream"
        },
        {
          "name": "stderr",
          "text": "100%|██████████| 157/157 [00:32<00:00,  4.81it/s]\n",
          "output_type": "stream"
        },
        {
          "name": "stdout",
          "text": "Epoch 4/5, Loss: 0.0180, Val Loss: 0.0260\n",
          "output_type": "stream"
        },
        {
          "name": "stderr",
          "text": "100%|██████████| 157/157 [00:33<00:00,  4.69it/s]\n",
          "output_type": "stream"
        },
        {
          "name": "stdout",
          "text": "Epoch 5/5, Loss: 0.0179, Val Loss: 0.0256\n",
          "output_type": "stream"
        },
        {
          "name": "stderr",
          "text": "100%|██████████| 157/157 [00:41<00:00,  3.78it/s]\n",
          "output_type": "stream"
        },
        {
          "name": "stdout",
          "text": "Epoch 1/5, Loss: 0.0450, Val Loss: 0.0265\n",
          "output_type": "stream"
        },
        {
          "name": "stderr",
          "text": "100%|██████████| 157/157 [00:40<00:00,  3.89it/s]\n",
          "output_type": "stream"
        },
        {
          "name": "stdout",
          "text": "Epoch 2/5, Loss: 0.0187, Val Loss: 0.0267\n",
          "output_type": "stream"
        },
        {
          "name": "stderr",
          "text": "100%|██████████| 157/157 [00:39<00:00,  3.94it/s]\n",
          "output_type": "stream"
        },
        {
          "name": "stdout",
          "text": "Epoch 3/5, Loss: 0.0183, Val Loss: 0.0261\n",
          "output_type": "stream"
        },
        {
          "name": "stderr",
          "text": "100%|██████████| 157/157 [00:40<00:00,  3.91it/s]\n",
          "output_type": "stream"
        },
        {
          "name": "stdout",
          "text": "Epoch 4/5, Loss: 0.0179, Val Loss: 0.0255\n",
          "output_type": "stream"
        },
        {
          "name": "stderr",
          "text": "100%|██████████| 157/157 [00:40<00:00,  3.86it/s]\n",
          "output_type": "stream"
        },
        {
          "name": "stdout",
          "text": "Epoch 5/5, Loss: 0.0177, Val Loss: 0.0252\n",
          "output_type": "stream"
        },
        {
          "name": "stderr",
          "text": "100%|██████████| 157/157 [00:32<00:00,  4.88it/s]\n",
          "output_type": "stream"
        },
        {
          "name": "stdout",
          "text": "Epoch 1/5, Loss: 0.0822, Val Loss: 0.0322\n",
          "output_type": "stream"
        },
        {
          "name": "stderr",
          "text": "100%|██████████| 157/157 [00:32<00:00,  4.86it/s]\n",
          "output_type": "stream"
        },
        {
          "name": "stdout",
          "text": "Epoch 2/5, Loss: 0.0193, Val Loss: 0.0266\n",
          "output_type": "stream"
        },
        {
          "name": "stderr",
          "text": "100%|██████████| 157/157 [00:31<00:00,  4.98it/s]\n",
          "output_type": "stream"
        },
        {
          "name": "stdout",
          "text": "Epoch 3/5, Loss: 0.0185, Val Loss: 0.0264\n",
          "output_type": "stream"
        },
        {
          "name": "stderr",
          "text": "100%|██████████| 157/157 [00:31<00:00,  4.99it/s]\n",
          "output_type": "stream"
        },
        {
          "name": "stdout",
          "text": "Epoch 4/5, Loss: 0.0182, Val Loss: 0.0262\n",
          "output_type": "stream"
        },
        {
          "name": "stderr",
          "text": "100%|██████████| 157/157 [00:31<00:00,  4.95it/s]\n",
          "output_type": "stream"
        },
        {
          "name": "stdout",
          "text": "Epoch 5/5, Loss: 0.0178, Val Loss: 0.0255\n",
          "output_type": "stream"
        },
        {
          "name": "stderr",
          "text": "100%|██████████| 157/157 [00:39<00:00,  3.96it/s]\n",
          "output_type": "stream"
        },
        {
          "name": "stdout",
          "text": "Epoch 1/5, Loss: 0.1783, Val Loss: 0.0880\n",
          "output_type": "stream"
        },
        {
          "name": "stderr",
          "text": "100%|██████████| 157/157 [00:39<00:00,  4.00it/s]\n",
          "output_type": "stream"
        },
        {
          "name": "stdout",
          "text": "Epoch 2/5, Loss: 0.0258, Val Loss: 0.0267\n",
          "output_type": "stream"
        },
        {
          "name": "stderr",
          "text": "100%|██████████| 157/157 [00:39<00:00,  4.01it/s]\n",
          "output_type": "stream"
        },
        {
          "name": "stdout",
          "text": "Epoch 3/5, Loss: 0.0188, Val Loss: 0.0265\n",
          "output_type": "stream"
        },
        {
          "name": "stderr",
          "text": "100%|██████████| 157/157 [00:38<00:00,  4.10it/s]\n",
          "output_type": "stream"
        },
        {
          "name": "stdout",
          "text": "Epoch 4/5, Loss: 0.0184, Val Loss: 0.0263\n",
          "output_type": "stream"
        },
        {
          "name": "stderr",
          "text": "100%|██████████| 157/157 [00:38<00:00,  4.08it/s]\n",
          "output_type": "stream"
        },
        {
          "name": "stdout",
          "text": "Epoch 5/5, Loss: 0.0180, Val Loss: 0.0257\n",
          "output_type": "stream"
        },
        {
          "name": "stderr",
          "text": "100%|██████████| 157/157 [00:32<00:00,  4.90it/s]\n",
          "output_type": "stream"
        },
        {
          "name": "stdout",
          "text": "Epoch 1/5, Loss: 0.0352, Val Loss: 0.0266\n",
          "output_type": "stream"
        },
        {
          "name": "stderr",
          "text": "100%|██████████| 157/157 [00:31<00:00,  4.95it/s]\n",
          "output_type": "stream"
        },
        {
          "name": "stdout",
          "text": "Epoch 2/5, Loss: 0.0187, Val Loss: 0.0264\n",
          "output_type": "stream"
        },
        {
          "name": "stderr",
          "text": "100%|██████████| 157/157 [00:31<00:00,  4.93it/s]\n",
          "output_type": "stream"
        },
        {
          "name": "stdout",
          "text": "Epoch 3/5, Loss: 0.0184, Val Loss: 0.0260\n",
          "output_type": "stream"
        },
        {
          "name": "stderr",
          "text": "100%|██████████| 157/157 [00:31<00:00,  4.99it/s]\n",
          "output_type": "stream"
        },
        {
          "name": "stdout",
          "text": "Epoch 4/5, Loss: 0.0180, Val Loss: 0.0256\n",
          "output_type": "stream"
        },
        {
          "name": "stderr",
          "text": "100%|██████████| 157/157 [00:31<00:00,  4.93it/s]\n",
          "output_type": "stream"
        },
        {
          "name": "stdout",
          "text": "Epoch 5/5, Loss: 0.0177, Val Loss: 0.0255\n",
          "output_type": "stream"
        },
        {
          "name": "stderr",
          "text": "100%|██████████| 157/157 [00:39<00:00,  4.02it/s]\n",
          "output_type": "stream"
        },
        {
          "name": "stdout",
          "text": "Epoch 1/5, Loss: 0.0408, Val Loss: 0.0271\n",
          "output_type": "stream"
        },
        {
          "name": "stderr",
          "text": "100%|██████████| 157/157 [00:38<00:00,  4.05it/s]\n",
          "output_type": "stream"
        },
        {
          "name": "stdout",
          "text": "Epoch 2/5, Loss: 0.0187, Val Loss: 0.0264\n",
          "output_type": "stream"
        },
        {
          "name": "stderr",
          "text": "100%|██████████| 157/157 [00:38<00:00,  4.08it/s]\n",
          "output_type": "stream"
        },
        {
          "name": "stdout",
          "text": "Epoch 3/5, Loss: 0.0183, Val Loss: 0.0258\n",
          "output_type": "stream"
        },
        {
          "name": "stderr",
          "text": "100%|██████████| 157/157 [00:38<00:00,  4.03it/s]\n",
          "output_type": "stream"
        },
        {
          "name": "stdout",
          "text": "Epoch 4/5, Loss: 0.0179, Val Loss: 0.0255\n",
          "output_type": "stream"
        },
        {
          "name": "stderr",
          "text": "100%|██████████| 157/157 [00:38<00:00,  4.07it/s]\n",
          "output_type": "stream"
        },
        {
          "name": "stdout",
          "text": "Epoch 5/5, Loss: 0.0175, Val Loss: 0.0255\n",
          "output_type": "stream"
        },
        {
          "name": "stderr",
          "text": "100%|██████████| 157/157 [00:33<00:00,  4.73it/s]\n",
          "output_type": "stream"
        },
        {
          "name": "stdout",
          "text": "Epoch 1/5, Loss: 0.0462, Val Loss: 0.0266\n",
          "output_type": "stream"
        },
        {
          "name": "stderr",
          "text": "100%|██████████| 157/157 [00:32<00:00,  4.77it/s]\n",
          "output_type": "stream"
        },
        {
          "name": "stdout",
          "text": "Epoch 2/5, Loss: 0.0187, Val Loss: 0.0264\n",
          "output_type": "stream"
        },
        {
          "name": "stderr",
          "text": "100%|██████████| 157/157 [00:33<00:00,  4.72it/s]\n",
          "output_type": "stream"
        },
        {
          "name": "stdout",
          "text": "Epoch 3/5, Loss: 0.0184, Val Loss: 0.0266\n",
          "output_type": "stream"
        },
        {
          "name": "stderr",
          "text": "100%|██████████| 157/157 [00:33<00:00,  4.74it/s]\n",
          "output_type": "stream"
        },
        {
          "name": "stdout",
          "text": "Epoch 4/5, Loss: 0.0182, Val Loss: 0.0262\n",
          "output_type": "stream"
        },
        {
          "name": "stderr",
          "text": "100%|██████████| 157/157 [00:32<00:00,  4.84it/s]\n",
          "output_type": "stream"
        },
        {
          "name": "stdout",
          "text": "Epoch 5/5, Loss: 0.0179, Val Loss: 0.0258\n",
          "output_type": "stream"
        },
        {
          "name": "stderr",
          "text": "100%|██████████| 157/157 [00:40<00:00,  3.89it/s]\n",
          "output_type": "stream"
        },
        {
          "name": "stdout",
          "text": "Epoch 1/5, Loss: 0.0356, Val Loss: 0.0266\n",
          "output_type": "stream"
        },
        {
          "name": "stderr",
          "text": "100%|██████████| 157/157 [00:40<00:00,  3.89it/s]\n",
          "output_type": "stream"
        },
        {
          "name": "stdout",
          "text": "Epoch 2/5, Loss: 0.0187, Val Loss: 0.0263\n",
          "output_type": "stream"
        },
        {
          "name": "stderr",
          "text": "100%|██████████| 157/157 [00:40<00:00,  3.89it/s]\n",
          "output_type": "stream"
        },
        {
          "name": "stdout",
          "text": "Epoch 3/5, Loss: 0.0183, Val Loss: 0.0257\n",
          "output_type": "stream"
        },
        {
          "name": "stderr",
          "text": "100%|██████████| 157/157 [00:40<00:00,  3.86it/s]\n",
          "output_type": "stream"
        },
        {
          "name": "stdout",
          "text": "Epoch 4/5, Loss: 0.0179, Val Loss: 0.0255\n",
          "output_type": "stream"
        },
        {
          "name": "stderr",
          "text": "100%|██████████| 157/157 [00:40<00:00,  3.91it/s]\n",
          "output_type": "stream"
        },
        {
          "name": "stdout",
          "text": "Epoch 5/5, Loss: 0.0174, Val Loss: 0.0246\n",
          "output_type": "stream"
        }
      ]
    },
    {
      "cell_type": "code",
      "source": [
        "best_lstm_param = sorted(lstm_parameter_results, key=lambda x: x['val_loss'])[0]\n",
        "print(best_lstm_param)"
      ],
      "metadata": {
        "execution": {
          "iopub.status.busy": "2024-08-07T19:30:37.942608Z",
          "iopub.execute_input": "2024-08-07T19:30:37.943444Z",
          "iopub.status.idle": "2024-08-07T19:30:37.948838Z",
          "shell.execute_reply.started": "2024-08-07T19:30:37.943402Z",
          "shell.execute_reply": "2024-08-07T19:30:37.947961Z"
        },
        "trusted": true,
        "id": "km4knsAApCi-",
        "outputId": "0308039c-a338-47c7-abd8-87f8ab0cf3b8"
      },
      "execution_count": null,
      "outputs": [
        {
          "name": "stdout",
          "text": "{'hidden_layers': 3, 'hidden_size': 128, 'lstm_layers': 2, 'val_loss': 0.024592765396641146}\n",
          "output_type": "stream"
        }
      ]
    },
    {
      "cell_type": "code",
      "source": [
        "best_lstm_param = {'hidden_layers': 3, 'hidden_size': 128, 'lstm_layers': 2}\n",
        "\n",
        "# Initialize the model\n",
        "model = WordCountLSTM(400, num_lstm_layers=best_lstm_param['lstm_layers'], hidden_size=best_lstm_param['hidden_size'], num_hidden_layers=best_lstm_param['hidden_layers'])\n",
        "model.to(device)\n",
        "\n",
        "# Loss and optimizer\n",
        "criterion = nn.MSELoss()\n",
        "optimizer = optim.Adam(model.parameters(), lr=3e-4)\n",
        "\n",
        "# Training loop\n",
        "epochs = 20\n",
        "losses = train_model(model, train_dataloader, val_dataloader, criterion, optimizer, epochs)\n",
        "\n"
      ],
      "metadata": {
        "trusted": true,
        "colab": {
          "base_uri": "https://localhost:8080/"
        },
        "id": "df-S0AuppCi-",
        "outputId": "78ed946c-f499-4d27-c823-4bf48ec84ce5"
      },
      "execution_count": 28,
      "outputs": [
        {
          "output_type": "stream",
          "name": "stderr",
          "text": [
            "100%|██████████| 282/282 [01:01<00:00,  4.62it/s]\n"
          ]
        },
        {
          "output_type": "stream",
          "name": "stdout",
          "text": [
            "Epoch 1/20, Loss: 0.0255, Val Loss: 0.0213\n"
          ]
        },
        {
          "output_type": "stream",
          "name": "stderr",
          "text": [
            "100%|██████████| 282/282 [00:59<00:00,  4.72it/s]\n"
          ]
        },
        {
          "output_type": "stream",
          "name": "stdout",
          "text": [
            "Epoch 2/20, Loss: 0.0190, Val Loss: 0.0186\n"
          ]
        },
        {
          "output_type": "stream",
          "name": "stderr",
          "text": [
            "100%|██████████| 282/282 [00:59<00:00,  4.75it/s]\n"
          ]
        },
        {
          "output_type": "stream",
          "name": "stdout",
          "text": [
            "Epoch 3/20, Loss: 0.0178, Val Loss: 0.0168\n"
          ]
        },
        {
          "output_type": "stream",
          "name": "stderr",
          "text": [
            "100%|██████████| 282/282 [00:59<00:00,  4.71it/s]\n"
          ]
        },
        {
          "output_type": "stream",
          "name": "stdout",
          "text": [
            "Epoch 4/20, Loss: 0.0166, Val Loss: 0.0156\n"
          ]
        },
        {
          "output_type": "stream",
          "name": "stderr",
          "text": [
            "100%|██████████| 282/282 [00:59<00:00,  4.73it/s]\n"
          ]
        },
        {
          "output_type": "stream",
          "name": "stdout",
          "text": [
            "Epoch 5/20, Loss: 0.0166, Val Loss: 0.0173\n"
          ]
        },
        {
          "output_type": "stream",
          "name": "stderr",
          "text": [
            "100%|██████████| 282/282 [01:00<00:00,  4.69it/s]\n"
          ]
        },
        {
          "output_type": "stream",
          "name": "stdout",
          "text": [
            "Epoch 6/20, Loss: 0.0189, Val Loss: 0.0169\n"
          ]
        },
        {
          "output_type": "stream",
          "name": "stderr",
          "text": [
            "100%|██████████| 282/282 [01:00<00:00,  4.63it/s]\n"
          ]
        },
        {
          "output_type": "stream",
          "name": "stdout",
          "text": [
            "Epoch 7/20, Loss: 0.0186, Val Loss: 0.0168\n"
          ]
        },
        {
          "output_type": "stream",
          "name": "stderr",
          "text": [
            "100%|██████████| 282/282 [01:00<00:00,  4.66it/s]\n"
          ]
        },
        {
          "output_type": "stream",
          "name": "stdout",
          "text": [
            "Epoch 8/20, Loss: 0.0181, Val Loss: 0.0163\n"
          ]
        },
        {
          "output_type": "stream",
          "name": "stderr",
          "text": [
            "100%|██████████| 282/282 [01:00<00:00,  4.67it/s]\n"
          ]
        },
        {
          "output_type": "stream",
          "name": "stdout",
          "text": [
            "Epoch 9/20, Loss: 0.0175, Val Loss: 0.0152\n"
          ]
        },
        {
          "output_type": "stream",
          "name": "stderr",
          "text": [
            "100%|██████████| 282/282 [01:00<00:00,  4.63it/s]\n"
          ]
        },
        {
          "output_type": "stream",
          "name": "stdout",
          "text": [
            "Epoch 10/20, Loss: 0.0155, Val Loss: 0.0144\n"
          ]
        },
        {
          "output_type": "stream",
          "name": "stderr",
          "text": [
            "100%|██████████| 282/282 [01:00<00:00,  4.64it/s]\n"
          ]
        },
        {
          "output_type": "stream",
          "name": "stdout",
          "text": [
            "Epoch 11/20, Loss: 0.0149, Val Loss: 0.0131\n"
          ]
        },
        {
          "output_type": "stream",
          "name": "stderr",
          "text": [
            "100%|██████████| 282/282 [00:59<00:00,  4.72it/s]\n"
          ]
        },
        {
          "output_type": "stream",
          "name": "stdout",
          "text": [
            "Epoch 12/20, Loss: 0.0147, Val Loss: 0.0159\n"
          ]
        },
        {
          "output_type": "stream",
          "name": "stderr",
          "text": [
            "100%|██████████| 282/282 [00:59<00:00,  4.71it/s]\n"
          ]
        },
        {
          "output_type": "stream",
          "name": "stdout",
          "text": [
            "Epoch 13/20, Loss: 0.0160, Val Loss: 0.0129\n"
          ]
        },
        {
          "output_type": "stream",
          "name": "stderr",
          "text": [
            "100%|██████████| 282/282 [00:59<00:00,  4.75it/s]\n"
          ]
        },
        {
          "output_type": "stream",
          "name": "stdout",
          "text": [
            "Epoch 14/20, Loss: 0.0134, Val Loss: 0.0129\n"
          ]
        },
        {
          "output_type": "stream",
          "name": "stderr",
          "text": [
            "100%|██████████| 282/282 [01:00<00:00,  4.68it/s]\n"
          ]
        },
        {
          "output_type": "stream",
          "name": "stdout",
          "text": [
            "Epoch 15/20, Loss: 0.0130, Val Loss: 0.0125\n"
          ]
        },
        {
          "output_type": "stream",
          "name": "stderr",
          "text": [
            "100%|██████████| 282/282 [01:00<00:00,  4.68it/s]\n"
          ]
        },
        {
          "output_type": "stream",
          "name": "stdout",
          "text": [
            "Epoch 16/20, Loss: 0.0124, Val Loss: 0.0120\n"
          ]
        },
        {
          "output_type": "stream",
          "name": "stderr",
          "text": [
            "100%|██████████| 282/282 [01:00<00:00,  4.70it/s]\n"
          ]
        },
        {
          "output_type": "stream",
          "name": "stdout",
          "text": [
            "Epoch 17/20, Loss: 0.0120, Val Loss: 0.0113\n"
          ]
        },
        {
          "output_type": "stream",
          "name": "stderr",
          "text": [
            "100%|██████████| 282/282 [00:59<00:00,  4.70it/s]\n"
          ]
        },
        {
          "output_type": "stream",
          "name": "stdout",
          "text": [
            "Epoch 18/20, Loss: 0.0110, Val Loss: 0.0104\n"
          ]
        },
        {
          "output_type": "stream",
          "name": "stderr",
          "text": [
            "100%|██████████| 282/282 [01:00<00:00,  4.67it/s]\n"
          ]
        },
        {
          "output_type": "stream",
          "name": "stdout",
          "text": [
            "Epoch 19/20, Loss: 0.0106, Val Loss: 0.0099\n"
          ]
        },
        {
          "output_type": "stream",
          "name": "stderr",
          "text": [
            "100%|██████████| 282/282 [01:00<00:00,  4.67it/s]\n"
          ]
        },
        {
          "output_type": "stream",
          "name": "stdout",
          "text": [
            "Epoch 20/20, Loss: 0.0100, Val Loss: 0.0106\n"
          ]
        }
      ]
    },
    {
      "cell_type": "code",
      "source": [
        "\n",
        "\n",
        "fig, ax = plt.subplots()\n",
        "ax.plot(losses[0], 'b-', label='Training')\n",
        "ax.plot(losses[1], 'r-', label='Validation')\n",
        "ax.legend()\n",
        "plt.xlabel(\"Epoch\")\n",
        "plt.ylabel(\"Loss\")\n",
        "plt.title('Final LSTM Model')\n",
        "fig.show()\n",
        "\n"
      ],
      "metadata": {
        "trusted": true,
        "colab": {
          "base_uri": "https://localhost:8080/",
          "height": 472
        },
        "id": "vYkIqqMepCi_",
        "outputId": "43abc364-ea8f-4662-8cb3-651cea4ddf0c"
      },
      "execution_count": 29,
      "outputs": [
        {
          "output_type": "display_data",
          "data": {
            "text/plain": [
              "<Figure size 640x480 with 1 Axes>"
            ],
            "image/png": "[encoded data removed]"
          },
          "metadata": {}
        }
      ]
    },
    {
      "cell_type": "code",
      "source": [
        "torch.save(model.state_dict(), 'best_lstm.pt')"
      ],
      "metadata": {
        "execution": {
          "iopub.status.busy": "2024-08-08T01:22:05.171038Z",
          "iopub.execute_input": "2024-08-08T01:22:05.171868Z",
          "iopub.status.idle": "2024-08-08T01:22:05.183139Z",
          "shell.execute_reply.started": "2024-08-08T01:22:05.171824Z",
          "shell.execute_reply": "2024-08-08T01:22:05.182263Z"
        },
        "trusted": true,
        "id": "-VeLo4CgpCi_"
      },
      "execution_count": 30,
      "outputs": []
    },
    {
      "cell_type": "markdown",
      "source": [
        "# Results\n",
        "\n",
        "Now that we have tuned and trained the LSTM model. We will see how its predictions actually look in terms of words per second."
      ],
      "metadata": {
        "id": "sxLj_jdUpCi_"
      }
    },
    {
      "cell_type": "code",
      "source": [
        "def test_model(model, data_loader):\n",
        "    model.eval()\n",
        "    diffs = []\n",
        "    predictions = []\n",
        "    truth = []\n",
        "    with torch.no_grad():\n",
        "        for audio, wps, lengths in data_loader:\n",
        "            if audio.numel() == 0:\n",
        "                continue\n",
        "            audio = audio.to(device)\n",
        "            wps = wps.to(device)\n",
        "            lengths = lengths.to(device)\n",
        "            outputs = model(audio, lengths)\n",
        "            diff = torch.abs(outputs - wps.float()).detach().cpu().numpy()\n",
        "            outputs = outputs.detach().cpu().numpy()\n",
        "            wps = wps.detach().cpu().numpy()\n",
        "            for d, out, w in zip(diff, outputs, wps):\n",
        "                diffs.append(d)\n",
        "                predictions.append(out)\n",
        "                truth.append(w)\n",
        "    return np.array(diffs) * 10.0, np.array(predictions) * 10.0, np.array(truth) * 10.0"
      ],
      "metadata": {
        "trusted": true,
        "id": "Ob0El55kpCi_"
      },
      "execution_count": 31,
      "outputs": []
    },
    {
      "cell_type": "code",
      "source": [
        "diffs, predictions, truth = test_model(model, val_dataloader)\n",
        "data = {'WPS Difference': diffs, 'Predictions': predictions, 'Truth': truth}\n",
        "out_df = pd.DataFrame(data)\n",
        "\n",
        "\n"
      ],
      "metadata": {
        "trusted": true,
        "id": "J037WsvMpCjA"
      },
      "execution_count": 32,
      "outputs": []
    },
    {
      "cell_type": "code",
      "source": [
        "sns.kdeplot(data=out_df, x='Predictions', fill=True, alpha=0.5)\n",
        "sns.kdeplot(data=out_df, x='Truth', fill=True, alpha=0.5)\n",
        "print(\"Predicted Mean: \", out_df['Predictions'].mean(), '| Truth Mean: ', out_df['Truth'].mean())\n",
        "print(\"Predicted Max: \", out_df['Predictions'].max(), '| Truth Max: ', out_df['Truth'].max())\n",
        "print(\"Predicted Min: \", out_df['Predictions'].min(), '| Truth Min: ', out_df['Truth'].min())\n"
      ],
      "metadata": {
        "trusted": true,
        "colab": {
          "base_uri": "https://localhost:8080/",
          "height": 501
        },
        "id": "k8fgmkKVpCjA",
        "outputId": "e4c4377f-0fc1-4e2d-907c-fd96e876a64d"
      },
      "execution_count": 33,
      "outputs": [
        {
          "output_type": "stream",
          "name": "stdout",
          "text": [
            "Predicted Mean:  3.0886095 | Truth Mean:  3.2151244\n",
            "Predicted Max:  9.750626 | Truth Max:  9.413387\n",
            "Predicted Min:  0.9788028 | Truth Min:  0.3367002\n"
          ]
        },
        {
          "output_type": "display_data",
          "data": {
            "text/plain": [
              "<Figure size 640x480 with 1 Axes>"
            ],
            "image/png": "[encoded data removed]"
          },
          "metadata": {}
        }
      ]
    },
    {
      "cell_type": "code",
      "source": [
        "sns.kdeplot(data=out_df, x='WPS Difference', fill=True, alpha=0.5)\n",
        "print(\"Words Per Second mean: \", out_df['WPS Difference'].mean())\n",
        "print(\"Words Per Second max: \", out_df['WPS Difference'].max())\n",
        "print(\"Words Per Second min: \", out_df['WPS Difference'].min())"
      ],
      "metadata": {
        "trusted": true,
        "colab": {
          "base_uri": "https://localhost:8080/",
          "height": 501
        },
        "id": "lWrd0htUpCjA",
        "outputId": "41e3a726-f025-4575-e6bc-da6d8a97222c"
      },
      "execution_count": 34,
      "outputs": [
        {
          "output_type": "stream",
          "name": "stdout",
          "text": [
            "Words Per Second mean:  0.74050784\n",
            "Words Per Second max:  6.859975\n",
            "Words Per Second min:  0.00019609928\n"
          ]
        },
        {
          "output_type": "display_data",
          "data": {
            "text/plain": [
              "<Figure size 640x480 with 1 Axes>"
            ],
            "image/png": "[encoded data removed]"
          },
          "metadata": {}
        }
      ]
    },
    {
      "cell_type": "markdown",
      "source": [
        "# Conclusion\n",
        "\n",
        "In this project we have predicted words per second in a given audio file containing a person speaking. We have acomplished this by looking at:\n",
        "- Audio data transfomations\n",
        "    - Chunking\n",
        "    - RMS Normalization\n",
        "- Modeling\n",
        "    - LSTM Model\n",
        "    - GRU Model\n",
        "- Hyperparameter tuning\n",
        "    - Found optimal LSTM Model\n",
        "\n",
        "We created a model that is 0.74 words per second off on average when predicting the words per second in a speech! I still think this can be improved by trying:\n",
        "- Different data transformations\n",
        "  - Mel Spectograms have shown promising results. This is where we would place the audio data into a 2D structure and use something like a CNN on it\n",
        "- More exhaustive hyper paramater tuning\n",
        "  - We only performed a grid search, and that search found parameters that were at the upper bound of search. This suggests expanding and refining our search space could yield better results\n",
        "- Train with more data\n",
        "  - We limited the data used during training to address memory limitations. A better data loading structure could reduce the amount we hold in memory and allow for training on more samples."
      ],
      "metadata": {
        "id": "aSLO-BjxpCjB"
      }
    },
    {
      "cell_type": "code",
      "source": [],
      "metadata": {
        "id": "wFmgNTMJpCjB"
      },
      "execution_count": null,
      "outputs": []
    }
  ]
}